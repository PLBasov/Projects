{
 "cells": [
  {
   "cell_type": "code",
   "execution_count": 1,
   "id": "abc13693-29dd-46ad-9380-30589d252437",
   "metadata": {},
   "outputs": [],
   "source": [
    "import pandas as pd\n",
    "import pandahouse as ph\n",
    "import swifter\n",
    "import hashlib\n",
    "import seaborn as sns\n",
    "import numpy as np\n",
    "from scipy import stats\n",
    "import matplotlib.pyplot as plt\n",
    "\n",
    "\n",
    "connection = {'host': 'https://clickhouse.lab.karpov.courses',\n",
    "'database':'simulator_20250420',\n",
    "'user':'student',\n",
    "'password':'dpo_python_2020'\n",
    "}\n",
    "\n",
    "\n",
    "query = '''\n",
    "SELECT distinct user_id, \n",
    "    sum(action = 'like') as likes,\n",
    "    sum(action = 'view') as views,\n",
    "    likes/views as ctr\n",
    "FROM {db}.feed_actions \n",
    "WHERE toDate(time) >= '2025-03-21' and toDate(time) <= '2025-03-27'\n",
    "GROUP BY user_id\n",
    "'''\n",
    "\n",
    "\n",
    "df = ph.read_clickhouse(query, connection=connection)"
   ]
  },
  {
   "cell_type": "code",
   "execution_count": 2,
   "id": "b106794c-d9b4-4b89-b509-4867ed50ad59",
   "metadata": {},
   "outputs": [
    {
     "data": {
      "text/html": [
       "<div>\n",
       "<style scoped>\n",
       "    .dataframe tbody tr th:only-of-type {\n",
       "        vertical-align: middle;\n",
       "    }\n",
       "\n",
       "    .dataframe tbody tr th {\n",
       "        vertical-align: top;\n",
       "    }\n",
       "\n",
       "    .dataframe thead th {\n",
       "        text-align: right;\n",
       "    }\n",
       "</style>\n",
       "<table border=\"1\" class=\"dataframe\">\n",
       "  <thead>\n",
       "    <tr style=\"text-align: right;\">\n",
       "      <th></th>\n",
       "      <th>user_id</th>\n",
       "      <th>likes</th>\n",
       "      <th>views</th>\n",
       "      <th>ctr</th>\n",
       "    </tr>\n",
       "  </thead>\n",
       "  <tbody>\n",
       "    <tr>\n",
       "      <th>0</th>\n",
       "      <td>13289</td>\n",
       "      <td>2</td>\n",
       "      <td>32</td>\n",
       "      <td>0.062500</td>\n",
       "    </tr>\n",
       "    <tr>\n",
       "      <th>1</th>\n",
       "      <td>121096</td>\n",
       "      <td>12</td>\n",
       "      <td>57</td>\n",
       "      <td>0.210526</td>\n",
       "    </tr>\n",
       "    <tr>\n",
       "      <th>2</th>\n",
       "      <td>5090</td>\n",
       "      <td>2</td>\n",
       "      <td>14</td>\n",
       "      <td>0.142857</td>\n",
       "    </tr>\n",
       "    <tr>\n",
       "      <th>3</th>\n",
       "      <td>129283</td>\n",
       "      <td>23</td>\n",
       "      <td>80</td>\n",
       "      <td>0.287500</td>\n",
       "    </tr>\n",
       "    <tr>\n",
       "      <th>4</th>\n",
       "      <td>4394</td>\n",
       "      <td>25</td>\n",
       "      <td>54</td>\n",
       "      <td>0.462963</td>\n",
       "    </tr>\n",
       "  </tbody>\n",
       "</table>\n",
       "</div>"
      ],
      "text/plain": [
       "   user_id  likes  views       ctr\n",
       "0    13289      2     32  0.062500\n",
       "1   121096     12     57  0.210526\n",
       "2     5090      2     14  0.142857\n",
       "3   129283     23     80  0.287500\n",
       "4     4394     25     54  0.462963"
      ]
     },
     "execution_count": 2,
     "metadata": {},
     "output_type": "execute_result"
    }
   ],
   "source": [
    "df.head()"
   ]
  },
  {
   "cell_type": "code",
   "execution_count": 3,
   "id": "26c748a3-1e5d-4f31-b7ba-0585344d1e00",
   "metadata": {},
   "outputs": [],
   "source": [
    "def ab_split(user_id, salt='exp_mess_1', n_groups=4):\n",
    "    test_id = str(user_id) + '-' + str(salt)\n",
    "    test_id_digest = hashlib.md5(test_id.encode('ascii')).hexdigest()\n",
    "    test_id_final_int = int(test_id_digest, 16)\n",
    "    return test_id_final_int % n_groups"
   ]
  },
  {
   "cell_type": "code",
   "execution_count": 4,
   "id": "2750c4ee-4d7a-481b-91bd-880d74370de9",
   "metadata": {},
   "outputs": [
    {
     "data": {
      "application/json": {
       "ascii": false,
       "bar_format": null,
       "colour": null,
       "elapsed": 0.021244287490844727,
       "initial": 0,
       "n": 0,
       "ncols": null,
       "nrows": null,
       "postfix": null,
       "prefix": "Pandas Apply",
       "rate": null,
       "total": 41997,
       "unit": "it",
       "unit_divisor": 1000,
       "unit_scale": false
      },
      "application/vnd.jupyter.widget-view+json": {
       "model_id": "0330d94a9f004b219e6a18eedc0b3381",
       "version_major": 2,
       "version_minor": 0
      },
      "text/plain": [
       "Pandas Apply:   0%|          | 0/41997 [00:00<?, ?it/s]"
      ]
     },
     "metadata": {},
     "output_type": "display_data"
    }
   ],
   "source": [
    "df['hash_group'] = df.user_id.swifter.apply(ab_split)"
   ]
  },
  {
   "cell_type": "code",
   "execution_count": 5,
   "id": "8a9a01ba-ca1b-4d3e-af51-b88c9aa4c594",
   "metadata": {},
   "outputs": [
    {
     "data": {
      "text/html": [
       "<div>\n",
       "<style scoped>\n",
       "    .dataframe tbody tr th:only-of-type {\n",
       "        vertical-align: middle;\n",
       "    }\n",
       "\n",
       "    .dataframe tbody tr th {\n",
       "        vertical-align: top;\n",
       "    }\n",
       "\n",
       "    .dataframe thead th {\n",
       "        text-align: right;\n",
       "    }\n",
       "</style>\n",
       "<table border=\"1\" class=\"dataframe\">\n",
       "  <thead>\n",
       "    <tr style=\"text-align: right;\">\n",
       "      <th></th>\n",
       "      <th>hash_group</th>\n",
       "      <th>user_id</th>\n",
       "      <th>likes</th>\n",
       "      <th>views</th>\n",
       "      <th>ctr</th>\n",
       "    </tr>\n",
       "  </thead>\n",
       "  <tbody>\n",
       "    <tr>\n",
       "      <th>0</th>\n",
       "      <td>0</td>\n",
       "      <td>10402</td>\n",
       "      <td>10402</td>\n",
       "      <td>10402</td>\n",
       "      <td>10402</td>\n",
       "    </tr>\n",
       "    <tr>\n",
       "      <th>1</th>\n",
       "      <td>1</td>\n",
       "      <td>10639</td>\n",
       "      <td>10639</td>\n",
       "      <td>10639</td>\n",
       "      <td>10639</td>\n",
       "    </tr>\n",
       "    <tr>\n",
       "      <th>2</th>\n",
       "      <td>2</td>\n",
       "      <td>10575</td>\n",
       "      <td>10575</td>\n",
       "      <td>10575</td>\n",
       "      <td>10575</td>\n",
       "    </tr>\n",
       "    <tr>\n",
       "      <th>3</th>\n",
       "      <td>3</td>\n",
       "      <td>10381</td>\n",
       "      <td>10381</td>\n",
       "      <td>10381</td>\n",
       "      <td>10381</td>\n",
       "    </tr>\n",
       "  </tbody>\n",
       "</table>\n",
       "</div>"
      ],
      "text/plain": [
       "   hash_group  user_id  likes  views    ctr\n",
       "0           0    10402  10402  10402  10402\n",
       "1           1    10639  10639  10639  10639\n",
       "2           2    10575  10575  10575  10575\n",
       "3           3    10381  10381  10381  10381"
      ]
     },
     "execution_count": 5,
     "metadata": {},
     "output_type": "execute_result"
    }
   ],
   "source": [
    "df.groupby('hash_group', as_index=False).count()"
   ]
  },
  {
   "cell_type": "code",
   "execution_count": 6,
   "id": "3a6ffca9-e906-4bbf-b525-f4b326c1b5ce",
   "metadata": {},
   "outputs": [
    {
     "data": {
      "text/html": [
       "<div>\n",
       "<style scoped>\n",
       "    .dataframe tbody tr th:only-of-type {\n",
       "        vertical-align: middle;\n",
       "    }\n",
       "\n",
       "    .dataframe tbody tr th {\n",
       "        vertical-align: top;\n",
       "    }\n",
       "\n",
       "    .dataframe thead th {\n",
       "        text-align: right;\n",
       "    }\n",
       "</style>\n",
       "<table border=\"1\" class=\"dataframe\">\n",
       "  <thead>\n",
       "    <tr style=\"text-align: right;\">\n",
       "      <th></th>\n",
       "      <th>user_id</th>\n",
       "      <th>likes</th>\n",
       "      <th>views</th>\n",
       "      <th>ctr</th>\n",
       "      <th>hash_group</th>\n",
       "    </tr>\n",
       "  </thead>\n",
       "  <tbody>\n",
       "    <tr>\n",
       "      <th>0</th>\n",
       "      <td>13289</td>\n",
       "      <td>2</td>\n",
       "      <td>32</td>\n",
       "      <td>0.062500</td>\n",
       "      <td>3</td>\n",
       "    </tr>\n",
       "    <tr>\n",
       "      <th>1</th>\n",
       "      <td>121096</td>\n",
       "      <td>12</td>\n",
       "      <td>57</td>\n",
       "      <td>0.210526</td>\n",
       "      <td>1</td>\n",
       "    </tr>\n",
       "    <tr>\n",
       "      <th>2</th>\n",
       "      <td>5090</td>\n",
       "      <td>2</td>\n",
       "      <td>14</td>\n",
       "      <td>0.142857</td>\n",
       "      <td>2</td>\n",
       "    </tr>\n",
       "    <tr>\n",
       "      <th>3</th>\n",
       "      <td>129283</td>\n",
       "      <td>23</td>\n",
       "      <td>80</td>\n",
       "      <td>0.287500</td>\n",
       "      <td>0</td>\n",
       "    </tr>\n",
       "    <tr>\n",
       "      <th>4</th>\n",
       "      <td>4394</td>\n",
       "      <td>25</td>\n",
       "      <td>54</td>\n",
       "      <td>0.462963</td>\n",
       "      <td>3</td>\n",
       "    </tr>\n",
       "  </tbody>\n",
       "</table>\n",
       "</div>"
      ],
      "text/plain": [
       "   user_id  likes  views       ctr  hash_group\n",
       "0    13289      2     32  0.062500           3\n",
       "1   121096     12     57  0.210526           1\n",
       "2     5090      2     14  0.142857           2\n",
       "3   129283     23     80  0.287500           0\n",
       "4     4394     25     54  0.462963           3"
      ]
     },
     "execution_count": 6,
     "metadata": {},
     "output_type": "execute_result"
    }
   ],
   "source": [
    "df.head()"
   ]
  },
  {
   "cell_type": "code",
   "execution_count": 7,
   "id": "3fab57bd-766c-41ae-843e-c57414c22979",
   "metadata": {},
   "outputs": [
    {
     "data": {
      "image/png": "[encoded data removed]",
      "text/plain": [
       "<Figure size 432x288 with 1 Axes>"
      ]
     },
     "metadata": {
      "needs_background": "light"
     },
     "output_type": "display_data"
    }
   ],
   "source": [
    "sns.set(rc={'figure.figsize':(16,12)})\n",
    "\n",
    "groups = sns.histplot(data = df.query(\"hash_group == 2  or hash_group == 3\"), \n",
    "              x='ctr', \n",
    "              hue='hash_group', \n",
    "              palette = ['r', 'b'],\n",
    "              alpha=0.5,\n",
    "              kde=False)"
   ]
  },
  {
   "cell_type": "code",
   "execution_count": 8,
   "id": "4649f8bc-8923-4882-98e5-707a92826966",
   "metadata": {},
   "outputs": [
    {
     "data": {
      "text/html": [
       "<div>\n",
       "<style scoped>\n",
       "    .dataframe tbody tr th:only-of-type {\n",
       "        vertical-align: middle;\n",
       "    }\n",
       "\n",
       "    .dataframe tbody tr th {\n",
       "        vertical-align: top;\n",
       "    }\n",
       "\n",
       "    .dataframe thead th {\n",
       "        text-align: right;\n",
       "    }\n",
       "</style>\n",
       "<table border=\"1\" class=\"dataframe\">\n",
       "  <thead>\n",
       "    <tr style=\"text-align: right;\">\n",
       "      <th></th>\n",
       "      <th>user_id</th>\n",
       "      <th>likes</th>\n",
       "      <th>views</th>\n",
       "      <th>ctr</th>\n",
       "      <th>hash_group</th>\n",
       "    </tr>\n",
       "  </thead>\n",
       "  <tbody>\n",
       "    <tr>\n",
       "      <th>0</th>\n",
       "      <td>13289</td>\n",
       "      <td>2</td>\n",
       "      <td>32</td>\n",
       "      <td>0.062500</td>\n",
       "      <td>3</td>\n",
       "    </tr>\n",
       "    <tr>\n",
       "      <th>2</th>\n",
       "      <td>5090</td>\n",
       "      <td>2</td>\n",
       "      <td>14</td>\n",
       "      <td>0.142857</td>\n",
       "      <td>2</td>\n",
       "    </tr>\n",
       "    <tr>\n",
       "      <th>4</th>\n",
       "      <td>4394</td>\n",
       "      <td>25</td>\n",
       "      <td>54</td>\n",
       "      <td>0.462963</td>\n",
       "      <td>3</td>\n",
       "    </tr>\n",
       "    <tr>\n",
       "      <th>5</th>\n",
       "      <td>129995</td>\n",
       "      <td>1</td>\n",
       "      <td>8</td>\n",
       "      <td>0.125000</td>\n",
       "      <td>3</td>\n",
       "    </tr>\n",
       "    <tr>\n",
       "      <th>6</th>\n",
       "      <td>121792</td>\n",
       "      <td>25</td>\n",
       "      <td>126</td>\n",
       "      <td>0.198413</td>\n",
       "      <td>2</td>\n",
       "    </tr>\n",
       "    <tr>\n",
       "      <th>...</th>\n",
       "      <td>...</td>\n",
       "      <td>...</td>\n",
       "      <td>...</td>\n",
       "      <td>...</td>\n",
       "      <td>...</td>\n",
       "    </tr>\n",
       "    <tr>\n",
       "      <th>41988</th>\n",
       "      <td>106932</td>\n",
       "      <td>2</td>\n",
       "      <td>11</td>\n",
       "      <td>0.181818</td>\n",
       "      <td>3</td>\n",
       "    </tr>\n",
       "    <tr>\n",
       "      <th>41990</th>\n",
       "      <td>107388</td>\n",
       "      <td>12</td>\n",
       "      <td>65</td>\n",
       "      <td>0.184615</td>\n",
       "      <td>3</td>\n",
       "    </tr>\n",
       "    <tr>\n",
       "      <th>41991</th>\n",
       "      <td>115769</td>\n",
       "      <td>23</td>\n",
       "      <td>104</td>\n",
       "      <td>0.221154</td>\n",
       "      <td>2</td>\n",
       "    </tr>\n",
       "    <tr>\n",
       "      <th>41994</th>\n",
       "      <td>124666</td>\n",
       "      <td>32</td>\n",
       "      <td>141</td>\n",
       "      <td>0.226950</td>\n",
       "      <td>3</td>\n",
       "    </tr>\n",
       "    <tr>\n",
       "      <th>41995</th>\n",
       "      <td>11280</td>\n",
       "      <td>29</td>\n",
       "      <td>133</td>\n",
       "      <td>0.218045</td>\n",
       "      <td>2</td>\n",
       "    </tr>\n",
       "  </tbody>\n",
       "</table>\n",
       "<p>20956 rows × 5 columns</p>\n",
       "</div>"
      ],
      "text/plain": [
       "       user_id  likes  views       ctr  hash_group\n",
       "0        13289      2     32  0.062500           3\n",
       "2         5090      2     14  0.142857           2\n",
       "4         4394     25     54  0.462963           3\n",
       "5       129995      1      8  0.125000           3\n",
       "6       121792     25    126  0.198413           2\n",
       "...        ...    ...    ...       ...         ...\n",
       "41988   106932      2     11  0.181818           3\n",
       "41990   107388     12     65  0.184615           3\n",
       "41991   115769     23    104  0.221154           2\n",
       "41994   124666     32    141  0.226950           3\n",
       "41995    11280     29    133  0.218045           2\n",
       "\n",
       "[20956 rows x 5 columns]"
      ]
     },
     "execution_count": 8,
     "metadata": {},
     "output_type": "execute_result"
    }
   ],
   "source": [
    "group_2_3 = df.query(\"hash_group == 2  or hash_group == 3\")\n",
    "group_2_3"
   ]
  },
  {
   "cell_type": "code",
   "execution_count": 9,
   "id": "6a377b2e-1b32-491b-a28c-1857d24e8b05",
   "metadata": {},
   "outputs": [],
   "source": [
    "group2 = group_2_3[group_2_3['hash_group'] == 2]['ctr'].values\n",
    "group3 = group_2_3[group_2_3['hash_group'] == 3]['ctr'].values\n",
    "\n",
    "p_values = []\n",
    "\n",
    "for _ in range(10000):\n",
    "    # Случайная выборка по 500 значений без повторов\n",
    "    sample2 = np.random.choice(group2, size=500, replace=False)\n",
    "    sample3 = np.random.choice(group3, size=500, replace=False)\n",
    "\n",
    "    # T-test\n",
    "    result = stats.ttest_ind(sample2, sample3, equal_var=False)\n",
    "    p_values.append(result.pvalue)"
   ]
  },
  {
   "cell_type": "code",
   "execution_count": 10,
   "id": "81aefe8f-3754-4b65-9211-ed905d7cdf53",
   "metadata": {},
   "outputs": [
    {
     "data": {
      "image/png": "[encoded data removed]",
      "text/plain": [
       "<Figure size 720x432 with 1 Axes>"
      ]
     },
     "metadata": {
      "needs_background": "light"
     },
     "output_type": "display_data"
    },
    {
     "name": "stdout",
     "output_type": "stream",
     "text": [
      "Доля p-values < 0.05: 0.0459\n"
     ]
    }
   ],
   "source": [
    "plt.figure(figsize=(10, 6))\n",
    "plt.hist(p_values, bins=50, edgecolor='black', alpha=0.7)\n",
    "plt.axvline(0.05, color='red', linestyle='dashed', label='Уровень значимости (0.05)')\n",
    "plt.title('Распределение p-values после 10,000 t-тестов')\n",
    "plt.xlabel('p-value')\n",
    "plt.ylabel('Частота')\n",
    "plt.legend()\n",
    "plt.grid(axis='y', alpha=0.5)\n",
    "plt.show()\n",
    "\n",
    "# Доля значимых результатов\n",
    "significance_level = 0.05\n",
    "significant_count = np.mean(np.array(p_values) < significance_level)\n",
    "print(f'Доля p-values < {significance_level}: {significant_count:.4f}')"
   ]
  },
  {
   "cell_type": "code",
   "execution_count": 13,
   "id": "c9465942-e0d4-4b2e-9ab8-f6e73763a9b4",
   "metadata": {},
   "outputs": [
    {
     "name": "stdout",
     "output_type": "stream",
     "text": [
      "Ttest_indResult(statistic=-0.6044833787937078, pvalue=0.5455288661366582)\n",
      "Отличие не прокрасилось\n",
      "В 49.47 % случаев A > B. Должно получиться около 50%\n"
     ]
    }
   ],
   "source": [
    "print(stats.ttest_ind(group_2_3[group_2_3.hash_group == 2].ctr,\n",
    "                group_2_3[group_2_3.hash_group == 3].ctr,\n",
    "                equal_var=False))\n",
    "print('Отличие не прокрасилось')\n",
    "A_gt_B = 0\n",
    "for _ in range(10000):\n",
    "    A_gt_B+= group_2_3[group_2_3.hash_group == 2].ctr.sample().values[0] > group_2_3[group_2_3.hash_group == 3].ctr.sample().values[0]\n",
    "    \n",
    "print('В', A_gt_B/100, '% случаев A > B. Должно получиться около 50%')"
   ]
  },
  {
   "cell_type": "code",
   "execution_count": null,
   "id": "fba5c10b-dddf-4e96-8847-0c4a7d035c81",
   "metadata": {},
   "outputs": [],
   "source": []
  },
  {
   "cell_type": "code",
   "execution_count": null,
   "id": "628d89fc-6566-434b-9330-7cfb0026844c",
   "metadata": {},
   "outputs": [],
   "source": []
  }
 ],
 "metadata": {
  "kernelspec": {
   "display_name": "Python 3 (ipykernel)",
   "language": "python",
   "name": "python3"
  },
  "language_info": {
   "codemirror_mode": {
    "name": "ipython",
    "version": 3
   },
   "file_extension": ".py",
   "mimetype": "text/x-python",
   "name": "python",
   "nbconvert_exporter": "python",
   "pygments_lexer": "ipython3",
   "version": "3.12.7"
  }
 },
 "nbformat": 4,
 "nbformat_minor": 5
}
