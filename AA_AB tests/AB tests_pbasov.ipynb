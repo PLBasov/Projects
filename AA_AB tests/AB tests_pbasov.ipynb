{
 "cells": [
  {
   "cell_type": "code",
   "execution_count": 1,
   "id": "0d516e78-5757-43ef-8cb2-dd4fb70a8b63",
   "metadata": {},
   "outputs": [],
   "source": [
    "import pandas as pd\n",
    "import pandahouse as ph\n",
    "import swifter\n",
    "import hashlib\n",
    "import seaborn as sns\n",
    "import numpy as np\n",
    "from scipy import stats\n",
    "import matplotlib.pyplot as plt\n",
    "from scipy.stats import levene\n",
    "\n",
    "\n",
    "connection = {'host': 'https://clickhouse.lab.karpov.courses',\n",
    "'database':'simulator_20250420',\n",
    "'user':'student',\n",
    "'password':'dpo_python_2020'\n",
    "}\n",
    "\n",
    "\n",
    "query = '''\n",
    "SELECT exp_group, \n",
    "    user_id,\n",
    "    sum(action = 'like') as likes,\n",
    "    sum(action = 'view') as views,\n",
    "    likes/views as ctr\n",
    "FROM {db}.feed_actions \n",
    "WHERE toDate(time) between '2025-03-28' and '2025-04-03'\n",
    "    and exp_group in (1,2)\n",
    "GROUP BY exp_group, user_id\n",
    "'''\n",
    "\n",
    "\n",
    "df = ph.read_clickhouse(query, connection=connection)"
   ]
  },
  {
   "cell_type": "code",
   "execution_count": 2,
   "id": "dd279f67-5c13-4732-9fc4-af4e2d85ce9a",
   "metadata": {},
   "outputs": [
    {
     "data": {
      "text/html": [
       "<div>\n",
       "<style scoped>\n",
       "    .dataframe tbody tr th:only-of-type {\n",
       "        vertical-align: middle;\n",
       "    }\n",
       "\n",
       "    .dataframe tbody tr th {\n",
       "        vertical-align: top;\n",
       "    }\n",
       "\n",
       "    .dataframe thead th {\n",
       "        text-align: right;\n",
       "    }\n",
       "</style>\n",
       "<table border=\"1\" class=\"dataframe\">\n",
       "  <thead>\n",
       "    <tr style=\"text-align: right;\">\n",
       "      <th></th>\n",
       "      <th>exp_group</th>\n",
       "      <th>user_id</th>\n",
       "      <th>likes</th>\n",
       "      <th>views</th>\n",
       "      <th>ctr</th>\n",
       "    </tr>\n",
       "  </thead>\n",
       "  <tbody>\n",
       "    <tr>\n",
       "      <th>0</th>\n",
       "      <td>1</td>\n",
       "      <td>109963</td>\n",
       "      <td>3</td>\n",
       "      <td>15</td>\n",
       "      <td>0.200000</td>\n",
       "    </tr>\n",
       "    <tr>\n",
       "      <th>1</th>\n",
       "      <td>1</td>\n",
       "      <td>26117</td>\n",
       "      <td>32</td>\n",
       "      <td>141</td>\n",
       "      <td>0.226950</td>\n",
       "    </tr>\n",
       "    <tr>\n",
       "      <th>2</th>\n",
       "      <td>1</td>\n",
       "      <td>138232</td>\n",
       "      <td>18</td>\n",
       "      <td>73</td>\n",
       "      <td>0.246575</td>\n",
       "    </tr>\n",
       "    <tr>\n",
       "      <th>3</th>\n",
       "      <td>1</td>\n",
       "      <td>26295</td>\n",
       "      <td>39</td>\n",
       "      <td>141</td>\n",
       "      <td>0.276596</td>\n",
       "    </tr>\n",
       "    <tr>\n",
       "      <th>4</th>\n",
       "      <td>1</td>\n",
       "      <td>18392</td>\n",
       "      <td>7</td>\n",
       "      <td>32</td>\n",
       "      <td>0.218750</td>\n",
       "    </tr>\n",
       "  </tbody>\n",
       "</table>\n",
       "</div>"
      ],
      "text/plain": [
       "   exp_group  user_id  likes  views       ctr\n",
       "0          1   109963      3     15  0.200000\n",
       "1          1    26117     32    141  0.226950\n",
       "2          1   138232     18     73  0.246575\n",
       "3          1    26295     39    141  0.276596\n",
       "4          1    18392      7     32  0.218750"
      ]
     },
     "execution_count": 2,
     "metadata": {},
     "output_type": "execute_result"
    }
   ],
   "source": [
    "df.head()"
   ]
  },
  {
   "cell_type": "code",
   "execution_count": 3,
   "id": "2522fb76-48e5-416d-ab1a-5d7f77007f17",
   "metadata": {},
   "outputs": [
    {
     "data": {
      "image/png": "[encoded data removed]",
      "text/plain": [
       "<Figure size 432x288 with 1 Axes>"
      ]
     },
     "metadata": {
      "needs_background": "light"
     },
     "output_type": "display_data"
    }
   ],
   "source": [
    "sns.set(rc={'figure.figsize':(16, 12)})\n",
    "\n",
    "groups = sns.histplot(data = df, \n",
    "              x='ctr', \n",
    "              hue='exp_group', \n",
    "              palette = ['r', 'b'],\n",
    "              alpha=0.5,\n",
    "              kde=False)"
   ]
  },
  {
   "cell_type": "code",
   "execution_count": 4,
   "id": "633cec45-1b29-4c21-a3f2-85d68b3c0a34",
   "metadata": {},
   "outputs": [
    {
     "data": {
      "text/plain": [
       "0.2058823529411764"
      ]
     },
     "execution_count": 4,
     "metadata": {},
     "output_type": "execute_result"
    }
   ],
   "source": [
    "df[df.exp_group == 1].ctr.median()"
   ]
  },
  {
   "cell_type": "code",
   "execution_count": 5,
   "id": "2c695c84-f97d-45ee-8487-e489ad2a0c3b",
   "metadata": {},
   "outputs": [
    {
     "data": {
      "text/plain": [
       "0.1532846715328467"
      ]
     },
     "execution_count": 5,
     "metadata": {},
     "output_type": "execute_result"
    }
   ],
   "source": [
    "df[df.exp_group == 2].ctr.median()"
   ]
  },
  {
   "cell_type": "markdown",
   "id": "dcd2d08a-b1f3-4acd-adaf-581bc60c9a6b",
   "metadata": {},
   "source": [
    "На графике видно что у тестовой группы бимодальное распределение, которое отличается от нормального распределения в контрольной.\n",
    "\n",
    "Даже по простому анализу медиан, видно что в контрольной группе лучше CTR чем в тестовой. Но проверим все на тестах."
   ]
  },
  {
   "cell_type": "markdown",
   "id": "4a5f0a97-b62e-47c4-93b5-712c6ed00be7",
   "metadata": {},
   "source": [
    "# Levene test, T-Test, Mana Whitney"
   ]
  },
  {
   "cell_type": "code",
   "execution_count": 6,
   "id": "26048357-73e4-4511-8016-f4b0cae659f0",
   "metadata": {},
   "outputs": [],
   "source": [
    "alpha = 0.05"
   ]
  },
  {
   "cell_type": "code",
   "execution_count": 7,
   "id": "b3108e23-fcd1-476d-9ea4-109a8d9f8e19",
   "metadata": {},
   "outputs": [
    {
     "name": "stdout",
     "output_type": "stream",
     "text": [
      "t-статистика: 2757.7940649593234\n",
      "p-значение: 0.0\n",
      "Отвергаем нулевую гипотезу. Существует значимая разница в дисперсиях CTR между группами 1 и 2.\n"
     ]
    }
   ],
   "source": [
    "levene_stat, levene_pvalue = levene(df[df.exp_group == 1].ctr, df[df.exp_group == 2].ctr)\n",
    "\n",
    "print(f't-статистика: {levene_stat}')\n",
    "print(f'p-значение: {levene_pvalue}')\n",
    "\n",
    "if levene_pvalue < alpha:\n",
    "    print(\"Отвергаем нулевую гипотезу. Существует значимая разница в дисперсиях CTR между группами 1 и 2.\")\n",
    "else:\n",
    "    print(\"Не можем отвергнуть нулевую гипотезу. Нет значимой разницы в дисперсиях CTR между группами 1 и 2.\")"
   ]
  },
  {
   "cell_type": "code",
   "execution_count": 8,
   "id": "55a1f7f1-d032-4843-a31b-debba107ac32",
   "metadata": {},
   "outputs": [
    {
     "name": "stdout",
     "output_type": "stream",
     "text": [
      "t-статистика: 0.4051491913112757\n",
      "p-значение: 0.685373331140751\n",
      "Не можем отвергнуть нулевую гипотезу. Нет значимой разницы в средних CTR между группами 1 и 2.\n"
     ]
    }
   ],
   "source": [
    "t_stat, t_pvalue = stats.ttest_ind(df[df.exp_group == 1].ctr,\n",
    "                                    df[df.exp_group == 2].ctr,\n",
    "                                    equal_var=False)\n",
    "print(f't-статистика: {t_stat}')\n",
    "print(f'p-значение: {t_pvalue}')\n",
    "if t_pvalue < alpha:\n",
    "    print(\"Отвергаем нулевую гипотезу. Существует значимая разница в средних CTR между группами 1 и 2.\")\n",
    "else:\n",
    "    print(\"Не можем отвергнуть нулевую гипотезу. Нет значимой разницы в средних CTR между группами 1 и 2.\")"
   ]
  },
  {
   "cell_type": "code",
   "execution_count": 9,
   "id": "1a4e8f62-d2fe-4c9f-a7ce-05058da25ec1",
   "metadata": {},
   "outputs": [
    {
     "name": "stdout",
     "output_type": "stream",
     "text": [
      "t-статистика: 55189913.0\n",
      "p-значение: 4.632205841806026e-45\n",
      "Отвергаем нулевую гипотезу. Существует значимая разница в средних CTR между группами 1 и 2.\n"
     ]
    }
   ],
   "source": [
    "mw_stat, mw_pvalue = stats.mannwhitneyu(df[df.exp_group == 1].ctr, \n",
    "                   df[df.exp_group == 2].ctr,\n",
    "                   alternative = 'two-sided')\n",
    "print(f't-статистика: {mw_stat}')\n",
    "print(f'p-значение: {mw_pvalue}')\n",
    "if mw_pvalue < alpha:\n",
    "    print(\"Отвергаем нулевую гипотезу. Существует значимая разница в средних CTR между группами 1 и 2.\")\n",
    "else:\n",
    "    print(\"Не можем отвергнуть нулевую гипотезу. Нет значимой разницы в средних CTR между группами 1 и 2.\")\n"
   ]
  },
  {
   "cell_type": "code",
   "execution_count": 10,
   "id": "b12f5224-abd0-4526-b281-a54aecf9f3b6",
   "metadata": {},
   "outputs": [
    {
     "name": "stdout",
     "output_type": "stream",
     "text": [
      "Отличие прокрасилось\n",
      "В 55.88 % случаев 1 > 2. Должно получиться около 50%\n"
     ]
    }
   ],
   "source": [
    "A_gt_B = 0\n",
    "for _ in range(10000):\n",
    "    A_gt_B += df[df.exp_group == 1].ctr.sample().values[0] > df[df.exp_group == 2].ctr.sample().values[0]\n",
    "\n",
    "if 45 < A_gt_B < 55:\n",
    "    print('Отличие не прокрасилось')\n",
    "    print('В', A_gt_B/100, '% случаев 1 > 2. Должно получиться около 50%')\n",
    "else: \n",
    "    print('Отличие прокрасилось')\n",
    "    print('В', A_gt_B/100, '% случаев 1 > 2. Должно получиться около 50%')\n",
    "    "
   ]
  },
  {
   "cell_type": "markdown",
   "id": "7f66a00c-d025-42b1-b4d2-7e4e2caf7e8d",
   "metadata": {},
   "source": [
    "Дисперсии имеют значимую разницу, по этому при ТТесте использовалась поправка Уэлча. \n",
    "\n",
    "После проверки двумя тестами, имеем неоднозначный ответ по поводу разниц в CTR. \n",
    "\n",
    "Но при 10000 итерации видно что в 55+% случаев в контрольной группе выше CTR чем в тестовой. \n",
    "\n",
    "На данный момент, я бы не стал раскатывать новый алгоритм. Проведем ещё тесты"
   ]
  },
  {
   "cell_type": "markdown",
   "id": "276ae11f-e833-45e2-bc48-1326fc970e35",
   "metadata": {
    "tags": []
   },
   "source": [
    "# Сглаженный CTR и те же тесты"
   ]
  },
  {
   "cell_type": "code",
   "execution_count": 11,
   "id": "038ba191-b749-4930-a2dd-9c91745c2b26",
   "metadata": {},
   "outputs": [],
   "source": [
    "def get_smothed_ctr(user_likes, user_views, global_ctr, alpha):\n",
    "    smothed_ctr = (user_likes + alpha * global_ctr) / (user_views + alpha)\n",
    "    return smothed_ctr\n",
    "\n",
    "global_ctr_1 = df[df.exp_group == 1].likes.sum()/df[df.exp_group == 1].views.sum()\n",
    "global_ctr_2 = df[df.exp_group == 2].likes.sum()/df[df.exp_group == 2].views.sum()\n",
    "\n",
    "group1 = df[df.exp_group == 1].copy()\n",
    "group2 = df[df.exp_group == 2].copy()\n"
   ]
  },
  {
   "cell_type": "code",
   "execution_count": 12,
   "id": "084c3d35-c43d-4804-a07f-3c4ce9dabbca",
   "metadata": {},
   "outputs": [
    {
     "data": {
      "text/html": [
       "<div>\n",
       "<style scoped>\n",
       "    .dataframe tbody tr th:only-of-type {\n",
       "        vertical-align: middle;\n",
       "    }\n",
       "\n",
       "    .dataframe tbody tr th {\n",
       "        vertical-align: top;\n",
       "    }\n",
       "\n",
       "    .dataframe thead th {\n",
       "        text-align: right;\n",
       "    }\n",
       "</style>\n",
       "<table border=\"1\" class=\"dataframe\">\n",
       "  <thead>\n",
       "    <tr style=\"text-align: right;\">\n",
       "      <th></th>\n",
       "      <th>exp_group</th>\n",
       "      <th>user_id</th>\n",
       "      <th>likes</th>\n",
       "      <th>views</th>\n",
       "      <th>ctr</th>\n",
       "      <th>smothed_ctr</th>\n",
       "    </tr>\n",
       "  </thead>\n",
       "  <tbody>\n",
       "    <tr>\n",
       "      <th>0</th>\n",
       "      <td>1</td>\n",
       "      <td>109963</td>\n",
       "      <td>3</td>\n",
       "      <td>15</td>\n",
       "      <td>0.200000</td>\n",
       "      <td>0.202401</td>\n",
       "    </tr>\n",
       "    <tr>\n",
       "      <th>1</th>\n",
       "      <td>1</td>\n",
       "      <td>26117</td>\n",
       "      <td>32</td>\n",
       "      <td>141</td>\n",
       "      <td>0.226950</td>\n",
       "      <td>0.226356</td>\n",
       "    </tr>\n",
       "    <tr>\n",
       "      <th>2</th>\n",
       "      <td>1</td>\n",
       "      <td>138232</td>\n",
       "      <td>18</td>\n",
       "      <td>73</td>\n",
       "      <td>0.246575</td>\n",
       "      <td>0.244205</td>\n",
       "    </tr>\n",
       "    <tr>\n",
       "      <th>3</th>\n",
       "      <td>1</td>\n",
       "      <td>26295</td>\n",
       "      <td>39</td>\n",
       "      <td>141</td>\n",
       "      <td>0.276596</td>\n",
       "      <td>0.274302</td>\n",
       "    </tr>\n",
       "    <tr>\n",
       "      <th>4</th>\n",
       "      <td>1</td>\n",
       "      <td>18392</td>\n",
       "      <td>7</td>\n",
       "      <td>32</td>\n",
       "      <td>0.218750</td>\n",
       "      <td>0.217514</td>\n",
       "    </tr>\n",
       "  </tbody>\n",
       "</table>\n",
       "</div>"
      ],
      "text/plain": [
       "   exp_group  user_id  likes  views       ctr  smothed_ctr\n",
       "0          1   109963      3     15  0.200000     0.202401\n",
       "1          1    26117     32    141  0.226950     0.226356\n",
       "2          1   138232     18     73  0.246575     0.244205\n",
       "3          1    26295     39    141  0.276596     0.274302\n",
       "4          1    18392      7     32  0.218750     0.217514"
      ]
     },
     "execution_count": 12,
     "metadata": {},
     "output_type": "execute_result"
    }
   ],
   "source": [
    "group1['smothed_ctr'] = df.apply(\n",
    "    lambda x: get_smothed_ctr(x['likes'], x['views'], global_ctr_1, 5), axis=1)\n",
    "group2['smothed_ctr'] = df.apply(\n",
    "    lambda x: get_smothed_ctr(x['likes'], x['views'], global_ctr_2, 5), axis=1)\n",
    "\n",
    "smothed_groups = pd.concat([group1, group2], axis=0)\n",
    "smothed_groups.head()"
   ]
  },
  {
   "cell_type": "code",
   "execution_count": 13,
   "id": "3d08ff1c-f356-4280-ab2e-b0642279ccf0",
   "metadata": {},
   "outputs": [
    {
     "name": "stdout",
     "output_type": "stream",
     "text": [
      "t-статистика: 3120.7828985765664\n",
      "p-значение: 0.0\n",
      "Отвергаем нулевую гипотезу. Существует значимая разница в дисперсиях CTR между группами 1 и 2.\n"
     ]
    }
   ],
   "source": [
    "sm_levene_stat, sm_levene_pvalue = levene(smothed_groups[smothed_groups.exp_group == 1].smothed_ctr, \n",
    "                                          smothed_groups[smothed_groups.exp_group == 2].smothed_ctr)\n",
    "\n",
    "print(f't-статистика: {sm_levene_stat}')\n",
    "print(f'p-значение: {sm_levene_pvalue}')\n",
    "\n",
    "if sm_levene_pvalue < alpha:\n",
    "    print(\"Отвергаем нулевую гипотезу. Существует значимая разница в дисперсиях CTR между группами 1 и 2.\")\n",
    "else:\n",
    "    print(\"Не можем отвергнуть нулевую гипотезу. Нет значимой разницы в дисперсиях CTR между группами 1 и 2.\")"
   ]
  },
  {
   "cell_type": "code",
   "execution_count": 14,
   "id": "f96422e9-fd95-402c-82f6-02ae33430631",
   "metadata": {},
   "outputs": [
    {
     "name": "stdout",
     "output_type": "stream",
     "text": [
      "t-статистика: 1.9460491517027683\n",
      "p-значение: 0.05166679015318526\n",
      "Не можем отвергнуть нулевую гипотезу. Нет значимой разницы в средних CTR между группами 1 и 2.\n"
     ]
    }
   ],
   "source": [
    "sm_t_stat, sm_t_pvalue = stats.ttest_ind(smothed_groups[smothed_groups.exp_group == 1].smothed_ctr,\n",
    "                smothed_groups[smothed_groups.exp_group == 2].smothed_ctr,\n",
    "                equal_var=False)\n",
    "print(f't-статистика: {sm_t_stat}')\n",
    "print(f'p-значение: {sm_t_pvalue}')\n",
    "if sm_t_pvalue < alpha:\n",
    "    print(\"Отвергаем нулевую гипотезу. Существует значимая разница в средних CTR между группами 1 и 2.\")\n",
    "else:\n",
    "    print(\"Не можем отвергнуть нулевую гипотезу. Нет значимой разницы в средних CTR между группами 1 и 2.\")"
   ]
  },
  {
   "cell_type": "code",
   "execution_count": 15,
   "id": "332307d1-7960-4629-9796-74bfab951586",
   "metadata": {},
   "outputs": [
    {
     "name": "stdout",
     "output_type": "stream",
     "text": [
      "t-статистика: 55528353.0\n",
      "p-значение: 2.396534039374286e-50\n",
      "Отвергаем нулевую гипотезу. Существует значимая разница в средних CTR между группами 1 и 2.\n"
     ]
    }
   ],
   "source": [
    "sm_mw_stat, sm_mw_pvalue = stats.mannwhitneyu(smothed_groups[smothed_groups.exp_group == 1].smothed_ctr, \n",
    "                   smothed_groups[smothed_groups.exp_group == 2].smothed_ctr,\n",
    "                   alternative = 'two-sided')\n",
    "print(f't-статистика: {sm_mw_stat}')\n",
    "print(f'p-значение: {sm_mw_pvalue}')\n",
    "if sm_mw_pvalue < alpha:\n",
    "    print(\"Отвергаем нулевую гипотезу. Существует значимая разница в средних CTR между группами 1 и 2.\")\n",
    "else:\n",
    "    print(\"Не можем отвергнуть нулевую гипотезу. Нет значимой разницы в средних CTR между группами 1 и 2.\")"
   ]
  },
  {
   "cell_type": "code",
   "execution_count": 16,
   "id": "d4ea54d7-76e6-42b1-aeb3-082c974dada5",
   "metadata": {},
   "outputs": [
    {
     "data": {
      "image/png": "[encoded data removed]",
      "text/plain": [
       "<Figure size 1152x864 with 1 Axes>"
      ]
     },
     "metadata": {},
     "output_type": "display_data"
    }
   ],
   "source": [
    "sns.set(rc={'figure.figsize':(16, 12)})\n",
    "\n",
    "groups = sns.histplot(data = smothed_groups, \n",
    "              x='smothed_ctr', \n",
    "              hue='exp_group', \n",
    "              palette = ['r', 'b'],\n",
    "              alpha=0.5,\n",
    "              kde=False)"
   ]
  },
  {
   "cell_type": "markdown",
   "id": "092d6da6-7a2d-414c-a2cf-470fcd792530",
   "metadata": {},
   "source": [
    "При использовании сглаженного CTR ситуация не изменилась. Ровно те же результаты что и при обычном CTR."
   ]
  },
  {
   "cell_type": "markdown",
   "id": "6d6df96d-2976-4a92-ac9c-307412a09fb1",
   "metadata": {},
   "source": [
    "# Bootstrap"
   ]
  },
  {
   "cell_type": "code",
   "execution_count": 17,
   "id": "62a6696c-fd7e-42b9-ab34-2c069f84af40",
   "metadata": {},
   "outputs": [
    {
     "data": {
      "text/plain": [
       "<matplotlib.legend.Legend at 0x7f0a7f477f10>"
      ]
     },
     "execution_count": 17,
     "metadata": {},
     "output_type": "execute_result"
    },
    {
     "data": {
      "image/png": "[encoded data removed]",
      "text/plain": [
       "<Figure size 1152x864 with 1 Axes>"
      ]
     },
     "metadata": {},
     "output_type": "display_data"
    }
   ],
   "source": [
    "def bootstrap(likes1, views1, likes2, views2, n_bootstrap=2000):\n",
    "\n",
    "    poisson_bootstraps1 = stats.poisson(1).rvs(\n",
    "        (n_bootstrap, len(likes1))).astype(np.int64)\n",
    "\n",
    "    poisson_bootstraps2 = stats.poisson(1).rvs(\n",
    "            (n_bootstrap, len(likes2))).astype(np.int64)\n",
    "    \n",
    "    globalCTR1 = (poisson_bootstraps1*likes1).sum(axis=1)/(poisson_bootstraps1*views1).sum(axis=1)\n",
    "    \n",
    "    globalCTR2 = (poisson_bootstraps2*likes2).sum(axis=1)/(poisson_bootstraps2*views2).sum(axis=1)\n",
    "\n",
    "    return globalCTR1, globalCTR2\n",
    "\n",
    "likes1 = df[df.exp_group == 1].likes.to_numpy()\n",
    "views1 = df[df.exp_group == 1].views.to_numpy()\n",
    "likes2 = df[df.exp_group == 2].likes.to_numpy()\n",
    "views2 = df[df.exp_group == 2].views.to_numpy()\n",
    "\n",
    "ctr1, ctr2 = bootstrap(likes1, views1, likes2, views2)\n",
    "\n",
    "sns.histplot(ctr1, label='Группа 1')\n",
    "sns.histplot(ctr2, label='Группа 2')\n",
    "plt.legend()"
   ]
  },
  {
   "cell_type": "code",
   "execution_count": 18,
   "id": "d8638859-06e1-4b92-8ac4-d27535020f28",
   "metadata": {},
   "outputs": [
    {
     "data": {
      "text/plain": [
       "<Axes: ylabel='Count'>"
      ]
     },
     "execution_count": 18,
     "metadata": {},
     "output_type": "execute_result"
    },
    {
     "data": {
      "image/png": "[encoded data removed]",
      "text/plain": [
       "<Figure size 1152x864 with 1 Axes>"
      ]
     },
     "metadata": {},
     "output_type": "display_data"
    }
   ],
   "source": [
    "sns.histplot(ctr2 - ctr1)"
   ]
  },
  {
   "cell_type": "markdown",
   "id": "317c2e5e-2637-43b1-934d-d1289af6302e",
   "metadata": {},
   "source": [
    "После использовании Бутсрепа, на графиках наглядно видно что в контрольной группе лучше CTR чем в тестовой."
   ]
  },
  {
   "cell_type": "markdown",
   "id": "c380a19d-ad61-4527-84b7-00228339694f",
   "metadata": {
    "tags": []
   },
   "source": [
    "# Backets и тесты"
   ]
  },
  {
   "cell_type": "code",
   "execution_count": 55,
   "id": "db61d747-aaf7-462d-82fe-3d4ae1c75248",
   "metadata": {},
   "outputs": [],
   "source": [
    "backet_q = \"\"\"\n",
    "\n",
    "SELECT exp_group, bucket,\n",
    "    sum(likes)/sum(views) as bucket_ctr,\n",
    "    quantileExact(0.9)(ctr) as ctr9\n",
    "FROM (SELECT exp_group, \n",
    "        xxHash64(user_id)%50 as bucket,\n",
    "        user_id,\n",
    "        sum(action = 'like') as likes,\n",
    "        sum(action = 'view') as views,\n",
    "        likes/views as ctr\n",
    "    FROM {db}.feed_actions \n",
    "    WHERE toDate(time) between '2025-03-28' and '2025-04-03'\n",
    "        and exp_group in (1,2)\n",
    "    GROUP BY exp_group, bucket, user_id)\n",
    "GROUP BY exp_group, bucket\n",
    "\"\"\"\n",
    "\n",
    "backet_df = ph.read_clickhouse(backet_q, connection=connection)"
   ]
  },
  {
   "cell_type": "code",
   "execution_count": 56,
   "id": "65604f43-7a86-4d50-819e-077984ece49d",
   "metadata": {},
   "outputs": [
    {
     "data": {
      "text/html": [
       "<div>\n",
       "<style scoped>\n",
       "    .dataframe tbody tr th:only-of-type {\n",
       "        vertical-align: middle;\n",
       "    }\n",
       "\n",
       "    .dataframe tbody tr th {\n",
       "        vertical-align: top;\n",
       "    }\n",
       "\n",
       "    .dataframe thead th {\n",
       "        text-align: right;\n",
       "    }\n",
       "</style>\n",
       "<table border=\"1\" class=\"dataframe\">\n",
       "  <thead>\n",
       "    <tr style=\"text-align: right;\">\n",
       "      <th></th>\n",
       "      <th>exp_group</th>\n",
       "      <th>bucket</th>\n",
       "      <th>bucket_ctr</th>\n",
       "      <th>ctr9</th>\n",
       "    </tr>\n",
       "  </thead>\n",
       "  <tbody>\n",
       "    <tr>\n",
       "      <th>0</th>\n",
       "      <td>1</td>\n",
       "      <td>0</td>\n",
       "      <td>0.200592</td>\n",
       "      <td>0.305556</td>\n",
       "    </tr>\n",
       "    <tr>\n",
       "      <th>1</th>\n",
       "      <td>2</td>\n",
       "      <td>0</td>\n",
       "      <td>0.196510</td>\n",
       "      <td>0.385321</td>\n",
       "    </tr>\n",
       "    <tr>\n",
       "      <th>2</th>\n",
       "      <td>1</td>\n",
       "      <td>1</td>\n",
       "      <td>0.208799</td>\n",
       "      <td>0.311111</td>\n",
       "    </tr>\n",
       "    <tr>\n",
       "      <th>3</th>\n",
       "      <td>2</td>\n",
       "      <td>1</td>\n",
       "      <td>0.210375</td>\n",
       "      <td>0.485714</td>\n",
       "    </tr>\n",
       "    <tr>\n",
       "      <th>4</th>\n",
       "      <td>1</td>\n",
       "      <td>2</td>\n",
       "      <td>0.204632</td>\n",
       "      <td>0.314286</td>\n",
       "    </tr>\n",
       "    <tr>\n",
       "      <th>...</th>\n",
       "      <td>...</td>\n",
       "      <td>...</td>\n",
       "      <td>...</td>\n",
       "      <td>...</td>\n",
       "    </tr>\n",
       "    <tr>\n",
       "      <th>95</th>\n",
       "      <td>2</td>\n",
       "      <td>47</td>\n",
       "      <td>0.196808</td>\n",
       "      <td>0.428571</td>\n",
       "    </tr>\n",
       "    <tr>\n",
       "      <th>96</th>\n",
       "      <td>1</td>\n",
       "      <td>48</td>\n",
       "      <td>0.216369</td>\n",
       "      <td>0.320000</td>\n",
       "    </tr>\n",
       "    <tr>\n",
       "      <th>97</th>\n",
       "      <td>2</td>\n",
       "      <td>48</td>\n",
       "      <td>0.194780</td>\n",
       "      <td>0.400000</td>\n",
       "    </tr>\n",
       "    <tr>\n",
       "      <th>98</th>\n",
       "      <td>1</td>\n",
       "      <td>49</td>\n",
       "      <td>0.206288</td>\n",
       "      <td>0.333333</td>\n",
       "    </tr>\n",
       "    <tr>\n",
       "      <th>99</th>\n",
       "      <td>2</td>\n",
       "      <td>49</td>\n",
       "      <td>0.192512</td>\n",
       "      <td>0.382353</td>\n",
       "    </tr>\n",
       "  </tbody>\n",
       "</table>\n",
       "<p>100 rows × 4 columns</p>\n",
       "</div>"
      ],
      "text/plain": [
       "    exp_group  bucket  bucket_ctr      ctr9\n",
       "0           1       0    0.200592  0.305556\n",
       "1           2       0    0.196510  0.385321\n",
       "2           1       1    0.208799  0.311111\n",
       "3           2       1    0.210375  0.485714\n",
       "4           1       2    0.204632  0.314286\n",
       "..        ...     ...         ...       ...\n",
       "95          2      47    0.196808  0.428571\n",
       "96          1      48    0.216369  0.320000\n",
       "97          2      48    0.194780  0.400000\n",
       "98          1      49    0.206288  0.333333\n",
       "99          2      49    0.192512  0.382353\n",
       "\n",
       "[100 rows x 4 columns]"
      ]
     },
     "execution_count": 56,
     "metadata": {},
     "output_type": "execute_result"
    }
   ],
   "source": [
    "backet_df"
   ]
  },
  {
   "cell_type": "code",
   "execution_count": 57,
   "id": "418dbb7c-8a72-4927-a592-d8c0f4a5b83f",
   "metadata": {},
   "outputs": [
    {
     "data": {
      "text/plain": [
       "0.20966742837276003"
      ]
     },
     "execution_count": 57,
     "metadata": {},
     "output_type": "execute_result"
    }
   ],
   "source": [
    "backet_df[backet_df.exp_group == 1].bucket_ctr.median()"
   ]
  },
  {
   "cell_type": "code",
   "execution_count": 58,
   "id": "fea1cc53-d600-4a0e-87a3-84c9082938f8",
   "metadata": {},
   "outputs": [
    {
     "data": {
      "text/plain": [
       "0.1979055389384647"
      ]
     },
     "execution_count": 58,
     "metadata": {},
     "output_type": "execute_result"
    }
   ],
   "source": [
    "backet_df[backet_df.exp_group == 2].bucket_ctr.median()"
   ]
  },
  {
   "cell_type": "code",
   "execution_count": 59,
   "id": "f91bfabf-161d-4bfc-a82d-676fc644555a",
   "metadata": {},
   "outputs": [
    {
     "name": "stdout",
     "output_type": "stream",
     "text": [
      "t-статистика: 19.517795982806632\n",
      "p-значение: 2.5730021424382185e-05\n",
      "Отвергаем нулевую гипотезу. Существует значимая разница в дисперсиях CTR между группами 1 и 2.\n"
     ]
    }
   ],
   "source": [
    "bucket_levene_stat, bucket_levene_pvalue = levene(backet_df[backet_df.exp_group == 1].bucket_ctr, \n",
    "                   backet_df[backet_df.exp_group == 2].bucket_ctr)\n",
    "\n",
    "print(f't-статистика: {bucket_levene_stat}')\n",
    "print(f'p-значение: {bucket_levene_pvalue}')\n",
    "\n",
    "if bucket_levene_pvalue < alpha:\n",
    "    print(\"Отвергаем нулевую гипотезу. Существует значимая разница в дисперсиях CTR между группами 1 и 2.\")\n",
    "else:\n",
    "    print(\"Не можем отвергнуть нулевую гипотезу. Нет значимой разницы в дисперсиях CTR между группами 1 и 2.\")"
   ]
  },
  {
   "cell_type": "code",
   "execution_count": 60,
   "id": "659806ad-31d7-43ec-8aa8-d20515bf0e91",
   "metadata": {},
   "outputs": [
    {
     "name": "stdout",
     "output_type": "stream",
     "text": [
      "t-статистика: 5.614819358149381\n",
      "p-значение: 4.592644937473873e-07\n",
      "Отвергаем нулевую гипотезу. Существует значимая разница в средних CTR между группами 1 и 2.\n"
     ]
    }
   ],
   "source": [
    "bucket_t_stat, bucket_t_pvalue = stats.ttest_ind(backet_df[backet_df.exp_group == 1].bucket_ctr, \n",
    "                   backet_df[backet_df.exp_group == 2].bucket_ctr, \n",
    "                   equal_var = False)\n",
    "print(f't-статистика: {bucket_t_stat}')\n",
    "print(f'p-значение: {bucket_t_pvalue}')\n",
    "if bucket_t_pvalue < alpha:\n",
    "    print(\"Отвергаем нулевую гипотезу. Существует значимая разница в средних CTR между группами 1 и 2.\")\n",
    "else:\n",
    "    print(\"Не можем отвергнуть нулевую гипотезу. Нет значимой разницы в средних CTR между группами 1 и 2.\")"
   ]
  },
  {
   "cell_type": "code",
   "execution_count": 61,
   "id": "d1b34e40-bf08-4f62-8ddf-55ed2d8ac0f6",
   "metadata": {},
   "outputs": [
    {
     "name": "stdout",
     "output_type": "stream",
     "text": [
      "t-статистика: 1997.0\n",
      "p-значение: 2.6576427804010095e-07\n",
      "Отвергаем нулевую гипотезу. Существует значимая разница в средних CTR между группами 1 и 2.\n"
     ]
    }
   ],
   "source": [
    "backet_mw_stat, backet_mw_pvalue = stats.mannwhitneyu(backet_df[backet_df.exp_group == 1].bucket_ctr, \n",
    "                   backet_df[backet_df.exp_group == 2].bucket_ctr, \n",
    "                   alternative = 'two-sided')\n",
    "print(f't-статистика: {backet_mw_stat}')\n",
    "print(f'p-значение: {backet_mw_pvalue}')\n",
    "if backet_mw_pvalue < alpha:\n",
    "    print(\"Отвергаем нулевую гипотезу. Существует значимая разница в средних CTR между группами 1 и 2.\")\n",
    "else:\n",
    "    print(\"Не можем отвергнуть нулевую гипотезу. Нет значимой разницы в средних CTR между группами 1 и 2.\")"
   ]
  },
  {
   "cell_type": "code",
   "execution_count": 67,
   "id": "74713d42-0430-444f-a6b8-cbbc42e9ab19",
   "metadata": {},
   "outputs": [
    {
     "name": "stdout",
     "output_type": "stream",
     "text": [
      "Отличие прокрасилось\n",
      "В 79.76 % случаев 1 > 2. Должно получиться около 50%\n"
     ]
    }
   ],
   "source": [
    "bucket_A_gt_B = 0\n",
    "for _ in range(10000):\n",
    "    bucket_A_gt_B += backet_df[backet_df.exp_group == 1].bucket_ctr.sample().values[0] > backet_df[backet_df.exp_group == 2].bucket_ctr.sample().values[0]\n",
    "\n",
    "if 45 < bucket_A_gt_B < 55:\n",
    "    print('Отличие не прокрасилось')\n",
    "    print('В', bucket_A_gt_B/100, '% случаев 1 > 2. Должно получиться около 50%')\n",
    "else: \n",
    "    print('Отличие прокрасилось')\n",
    "    print('В', bucket_A_gt_B/100, '% случаев 1 > 2. Должно получиться около 50%')"
   ]
  },
  {
   "cell_type": "code",
   "execution_count": 62,
   "id": "c6fdef81-6321-44a1-bf75-653b6155be6e",
   "metadata": {},
   "outputs": [
    {
     "data": {
      "text/plain": [
       "<matplotlib.legend.Legend at 0x7f0a7bd149d0>"
      ]
     },
     "execution_count": 62,
     "metadata": {},
     "output_type": "execute_result"
    },
    {
     "data": {
      "image/png": "[encoded data removed]",
      "text/plain": [
       "<Figure size 1152x864 with 1 Axes>"
      ]
     },
     "metadata": {},
     "output_type": "display_data"
    }
   ],
   "source": [
    "sns.histplot(backet_df[backet_df.exp_group == 1].bucket_ctr, label = 'Группа 1')\n",
    "sns.histplot(backet_df[backet_df.exp_group == 2].bucket_ctr, label = 'Группа 2')\n",
    "plt.legend()"
   ]
  },
  {
   "cell_type": "markdown",
   "id": "efbb333a-43fa-4263-912f-015860c8e118",
   "metadata": {},
   "source": [
    "При бакетном преобразовании ситуация снова не однозначная. На тестах мы видим значимые различия, но на графике контрольная группа выглядит лучше. Также это доказывает наша сравнивающая итерация, которая показывает что в 79% CTR в контрольное группе лучше, чем в тестовой."
   ]
  },
  {
   "cell_type": "markdown",
   "id": "6553c303-94f1-49b5-a8bd-f1c32f75d92c",
   "metadata": {},
   "source": [
    "# Заключение"
   ]
  },
  {
   "cell_type": "markdown",
   "id": "77073875-5f7e-4a6b-88e6-5749692e78d5",
   "metadata": {},
   "source": [
    "Разные варианты тестов показывают разные результаты, и мы не можем с высокой вероятностью гарантировать что новый алгоритм сработает лучше. Если смотреть на графики, то, при любом преобразовании, видно что контрольная группа лучше чем тестовая. Но некоторые тесты показывают статистически значимые различия. Также в изначальных данных видно бимодальное распределение в тестовой группе, нужно понять причину почему такое могло произойти (проверка пользователей по категориям, верно ли работает новый функционал), учесть недоточеты, и пересобрать группу для нового тестирования.\n",
    "\n",
    "**На данный момент, я не рекомендую раскатывать новый алгоритм на всех пользователей. Нужны дополнительные проверки выборок и функционала нового алгоритма**"
   ]
  },
  {
   "cell_type": "code",
   "execution_count": null,
   "id": "6664bfc2-5c0e-4793-8470-00139b8d814e",
   "metadata": {},
   "outputs": [],
   "source": []
  }
 ],
 "metadata": {
  "kernelspec": {
   "display_name": "Python 3 (ipykernel)",
   "language": "python",
   "name": "python3"
  },
  "language_info": {
   "codemirror_mode": {
    "name": "ipython",
    "version": 3
   },
   "file_extension": ".py",
   "mimetype": "text/x-python",
   "name": "python",
   "nbconvert_exporter": "python",
   "pygments_lexer": "ipython3",
   "version": "3.12.7"
  }
 },
 "nbformat": 4,
 "nbformat_minor": 5
}
