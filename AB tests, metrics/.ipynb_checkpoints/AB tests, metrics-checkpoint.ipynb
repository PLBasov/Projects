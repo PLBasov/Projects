{
 "cells": [
  {
   "cell_type": "markdown",
   "metadata": {},
   "source": [
    "# Задание 1. A/B–тестирование\n",
    "**Условие**\n",
    "\n",
    "Одной из основных задач аналитика в нашей команде является корректное проведение экспериментов. Для этого мы применяем метод A/B–тестирования. В ходе тестирования одной гипотезы целевой группе была предложена новая механика оплаты услуг на сайте, у контрольной группы оставалась базовая механика. В качестве задания вам необходимо проанализировать итоги эксперимента и сделать вывод, стоит ли запускать новую механику оплаты на всех пользователей."
   ]
  },
  {
   "cell_type": "code",
   "execution_count": 51,
   "metadata": {},
   "outputs": [],
   "source": [
    "# Импортируем нужные библиотеки\n",
    "\n",
    "import pandas as pd\n",
    "import numpy as np\n",
    "import scipy.stats as stats\n",
    "import seaborn as sns\n",
    "import matplotlib.pyplot as plt\n",
    "from scipy.stats import ttest_ind\n",
    "from scipy.stats import levene\n",
    "from statsmodels.stats.proportion import proportions_ztest\n",
    "\n",
    "# библиотека для кодировки данных в формат URL\n",
    "from urllib.parse import urlencode\n",
    "import requests"
   ]
  },
  {
   "cell_type": "code",
   "execution_count": 52,
   "metadata": {},
   "outputs": [],
   "source": [
    "# Прописываем ссылки на файлы\n",
    "\n",
    "groups_url = 'https://disk.yandex.ru/d/UhyYx41rTt3clQ'\n",
    "groups_add_url = 'https://disk.yandex.ru/d/5Kxrz02m3IBUwQ'\n",
    "active_studs_url = 'https://disk.yandex.ru/d/Tbs44Bm6H_FwFQ'\n",
    "checks_url = 'https://disk.yandex.ru/d/pH1q-VqcxXjsVA'"
   ]
  },
  {
   "cell_type": "code",
   "execution_count": 53,
   "metadata": {},
   "outputs": [],
   "source": [
    "# Запускаем функцию на скачивание файлов по API Яндекса\n",
    "\n",
    "def get_ydisk_url(public_key: str) -> str:\n",
    "    base_url = 'https://cloud-api.yandex.net/v1/disk/public/resources/download?'\n",
    "    final_url = base_url + urlencode(dict(public_key=public_key))\n",
    "    response = requests.get(final_url)\n",
    "    download_url = response.json()['href']\n",
    "    return download_url"
   ]
  },
  {
   "cell_type": "code",
   "execution_count": 54,
   "metadata": {},
   "outputs": [],
   "source": [
    "# Открываем скаченные файлы\n",
    "\n",
    "active_studs = pd.read_csv(get_ydisk_url(active_studs_url))\n",
    "checks = pd.read_csv(get_ydisk_url(checks_url), sep=';')\n",
    "group_add = pd.read_csv(get_ydisk_url(groups_add_url))\n",
    "groups = pd.read_csv(get_ydisk_url(groups_url), sep=';')"
   ]
  },
  {
   "cell_type": "code",
   "execution_count": 55,
   "metadata": {},
   "outputs": [
    {
     "data": {
      "text/html": [
       "<div>\n",
       "<style scoped>\n",
       "    .dataframe tbody tr th:only-of-type {\n",
       "        vertical-align: middle;\n",
       "    }\n",
       "\n",
       "    .dataframe tbody tr th {\n",
       "        vertical-align: top;\n",
       "    }\n",
       "\n",
       "    .dataframe thead th {\n",
       "        text-align: right;\n",
       "    }\n",
       "</style>\n",
       "<table border=\"1\" class=\"dataframe\">\n",
       "  <thead>\n",
       "    <tr style=\"text-align: right;\">\n",
       "      <th></th>\n",
       "      <th>student_id</th>\n",
       "    </tr>\n",
       "  </thead>\n",
       "  <tbody>\n",
       "    <tr>\n",
       "      <th>0</th>\n",
       "      <td>581585</td>\n",
       "    </tr>\n",
       "    <tr>\n",
       "      <th>1</th>\n",
       "      <td>5723133</td>\n",
       "    </tr>\n",
       "    <tr>\n",
       "      <th>2</th>\n",
       "      <td>3276743</td>\n",
       "    </tr>\n",
       "  </tbody>\n",
       "</table>\n",
       "</div>"
      ],
      "text/plain": [
       "   student_id\n",
       "0      581585\n",
       "1     5723133\n",
       "2     3276743"
      ]
     },
     "execution_count": 55,
     "metadata": {},
     "output_type": "execute_result"
    }
   ],
   "source": [
    "# Проверим как отображаются данные во всех файлах\n",
    "active_studs.head(3)"
   ]
  },
  {
   "cell_type": "code",
   "execution_count": 56,
   "metadata": {},
   "outputs": [
    {
     "data": {
      "text/html": [
       "<div>\n",
       "<style scoped>\n",
       "    .dataframe tbody tr th:only-of-type {\n",
       "        vertical-align: middle;\n",
       "    }\n",
       "\n",
       "    .dataframe tbody tr th {\n",
       "        vertical-align: top;\n",
       "    }\n",
       "\n",
       "    .dataframe thead th {\n",
       "        text-align: right;\n",
       "    }\n",
       "</style>\n",
       "<table border=\"1\" class=\"dataframe\">\n",
       "  <thead>\n",
       "    <tr style=\"text-align: right;\">\n",
       "      <th></th>\n",
       "      <th>student_id</th>\n",
       "      <th>rev</th>\n",
       "    </tr>\n",
       "  </thead>\n",
       "  <tbody>\n",
       "    <tr>\n",
       "      <th>0</th>\n",
       "      <td>1627</td>\n",
       "      <td>990.0</td>\n",
       "    </tr>\n",
       "    <tr>\n",
       "      <th>1</th>\n",
       "      <td>3185</td>\n",
       "      <td>690.0</td>\n",
       "    </tr>\n",
       "    <tr>\n",
       "      <th>2</th>\n",
       "      <td>25973</td>\n",
       "      <td>690.0</td>\n",
       "    </tr>\n",
       "  </tbody>\n",
       "</table>\n",
       "</div>"
      ],
      "text/plain": [
       "   student_id    rev\n",
       "0        1627  990.0\n",
       "1        3185  690.0\n",
       "2       25973  690.0"
      ]
     },
     "execution_count": 56,
     "metadata": {},
     "output_type": "execute_result"
    }
   ],
   "source": [
    "checks.head(3)"
   ]
  },
  {
   "cell_type": "code",
   "execution_count": 57,
   "metadata": {},
   "outputs": [
    {
     "data": {
      "text/html": [
       "<div>\n",
       "<style scoped>\n",
       "    .dataframe tbody tr th:only-of-type {\n",
       "        vertical-align: middle;\n",
       "    }\n",
       "\n",
       "    .dataframe tbody tr th {\n",
       "        vertical-align: top;\n",
       "    }\n",
       "\n",
       "    .dataframe thead th {\n",
       "        text-align: right;\n",
       "    }\n",
       "</style>\n",
       "<table border=\"1\" class=\"dataframe\">\n",
       "  <thead>\n",
       "    <tr style=\"text-align: right;\">\n",
       "      <th></th>\n",
       "      <th>id</th>\n",
       "      <th>grp</th>\n",
       "    </tr>\n",
       "  </thead>\n",
       "  <tbody>\n",
       "    <tr>\n",
       "      <th>0</th>\n",
       "      <td>5694584</td>\n",
       "      <td>B</td>\n",
       "    </tr>\n",
       "    <tr>\n",
       "      <th>1</th>\n",
       "      <td>5694830</td>\n",
       "      <td>B</td>\n",
       "    </tr>\n",
       "    <tr>\n",
       "      <th>2</th>\n",
       "      <td>5695057</td>\n",
       "      <td>B</td>\n",
       "    </tr>\n",
       "  </tbody>\n",
       "</table>\n",
       "</div>"
      ],
      "text/plain": [
       "        id grp\n",
       "0  5694584   B\n",
       "1  5694830   B\n",
       "2  5695057   B"
      ]
     },
     "execution_count": 57,
     "metadata": {},
     "output_type": "execute_result"
    }
   ],
   "source": [
    "group_add.head(3)"
   ]
  },
  {
   "cell_type": "code",
   "execution_count": 58,
   "metadata": {
    "scrolled": true
   },
   "outputs": [
    {
     "data": {
      "text/html": [
       "<div>\n",
       "<style scoped>\n",
       "    .dataframe tbody tr th:only-of-type {\n",
       "        vertical-align: middle;\n",
       "    }\n",
       "\n",
       "    .dataframe tbody tr th {\n",
       "        vertical-align: top;\n",
       "    }\n",
       "\n",
       "    .dataframe thead th {\n",
       "        text-align: right;\n",
       "    }\n",
       "</style>\n",
       "<table border=\"1\" class=\"dataframe\">\n",
       "  <thead>\n",
       "    <tr style=\"text-align: right;\">\n",
       "      <th></th>\n",
       "      <th>id</th>\n",
       "      <th>grp</th>\n",
       "    </tr>\n",
       "  </thead>\n",
       "  <tbody>\n",
       "    <tr>\n",
       "      <th>0</th>\n",
       "      <td>1489</td>\n",
       "      <td>B</td>\n",
       "    </tr>\n",
       "    <tr>\n",
       "      <th>1</th>\n",
       "      <td>1627</td>\n",
       "      <td>A</td>\n",
       "    </tr>\n",
       "    <tr>\n",
       "      <th>2</th>\n",
       "      <td>1768</td>\n",
       "      <td>B</td>\n",
       "    </tr>\n",
       "  </tbody>\n",
       "</table>\n",
       "</div>"
      ],
      "text/plain": [
       "     id grp\n",
       "0  1489   B\n",
       "1  1627   A\n",
       "2  1768   B"
      ]
     },
     "execution_count": 58,
     "metadata": {},
     "output_type": "execute_result"
    }
   ],
   "source": [
    "groups.head(3)"
   ]
  },
  {
   "cell_type": "code",
   "execution_count": 59,
   "metadata": {},
   "outputs": [
    {
     "name": "stdout",
     "output_type": "stream",
     "text": [
      "<class 'pandas.core.frame.DataFrame'>\n",
      "RangeIndex: 8341 entries, 0 to 8340\n",
      "Data columns (total 1 columns):\n",
      " #   Column      Non-Null Count  Dtype\n",
      "---  ------      --------------  -----\n",
      " 0   student_id  8341 non-null   int64\n",
      "dtypes: int64(1)\n",
      "memory usage: 65.3 KB\n",
      "None\n",
      "*************************************\n",
      "*************************************\n",
      "<class 'pandas.core.frame.DataFrame'>\n",
      "RangeIndex: 541 entries, 0 to 540\n",
      "Data columns (total 2 columns):\n",
      " #   Column      Non-Null Count  Dtype  \n",
      "---  ------      --------------  -----  \n",
      " 0   student_id  541 non-null    int64  \n",
      " 1   rev         541 non-null    float64\n",
      "dtypes: float64(1), int64(1)\n",
      "memory usage: 8.6 KB\n",
      "None\n",
      "*************************************\n",
      "*************************************\n",
      "<class 'pandas.core.frame.DataFrame'>\n",
      "RangeIndex: 92 entries, 0 to 91\n",
      "Data columns (total 2 columns):\n",
      " #   Column  Non-Null Count  Dtype \n",
      "---  ------  --------------  ----- \n",
      " 0   id      92 non-null     int64 \n",
      " 1   grp     92 non-null     object\n",
      "dtypes: int64(1), object(1)\n",
      "memory usage: 1.6+ KB\n",
      "None\n",
      "*************************************\n",
      "*************************************\n",
      "<class 'pandas.core.frame.DataFrame'>\n",
      "RangeIndex: 74484 entries, 0 to 74483\n",
      "Data columns (total 2 columns):\n",
      " #   Column  Non-Null Count  Dtype \n",
      "---  ------  --------------  ----- \n",
      " 0   id      74484 non-null  int64 \n",
      " 1   grp     74484 non-null  object\n",
      "dtypes: int64(1), object(1)\n",
      "memory usage: 1.1+ MB\n",
      "None\n"
     ]
    }
   ],
   "source": [
    "# Посмотрим на информацию которая хранится в данных каждого ДФ\n",
    "\n",
    "print(active_studs.info())\n",
    "print('*************************************')\n",
    "print('*************************************')\n",
    "print(checks.info())\n",
    "print('*************************************')\n",
    "print('*************************************')\n",
    "print(group_add.info())\n",
    "print('*************************************')\n",
    "print('*************************************')\n",
    "print(groups.info())"
   ]
  },
  {
   "cell_type": "markdown",
   "metadata": {},
   "source": [
    "С данными всё в порядке, ни каких нулевых значений, типы данных тоже корректны."
   ]
  },
  {
   "cell_type": "code",
   "execution_count": 60,
   "metadata": {},
   "outputs": [],
   "source": [
    "# Соединим groups и group_add, для получения полной табицы с id и их группами\n",
    "\n",
    "all_students = pd.concat([groups, group_add], ignore_index=True)"
   ]
  },
  {
   "cell_type": "code",
   "execution_count": 61,
   "metadata": {},
   "outputs": [],
   "source": [
    "# Для подготовки к слиянию следующих таблиц, переименуем в двух таблицах id студентов, что бы они были везде одинаковые\n",
    "# В таблице с активными пользователями добавим признак 1, чтобы в дальнейшем понимать был активен пользователь или нет\n",
    "\n",
    "checks = checks.rename(columns={'student_id': 'id'})\n",
    "active_studs = active_studs.rename(columns={'student_id': 'id'})\n",
    "\n",
    "active_studs['active'] = 1"
   ]
  },
  {
   "cell_type": "code",
   "execution_count": 62,
   "metadata": {
    "scrolled": true
   },
   "outputs": [
    {
     "name": "stdout",
     "output_type": "stream",
     "text": [
      "Не активные, но оплатившие пользователи: 149\n",
      "Количество всех оплативших: 541\n",
      "Доля не активных, но оплативших: 0.28\n"
     ]
    }
   ],
   "source": [
    "# Здесь мы сольем все таблицы в один дата фрейм, заменим NaN на 0\n",
    "# Проверим есть ли пользователи которые были не активны, но оплата по какой-то причине прошла\n",
    "\n",
    "df = all_students.merge(active_studs, how='left', on='id').fillna(0)\n",
    "full_df = df.merge(checks, how='left', on='id').fillna(0)\n",
    "\n",
    "\n",
    "print(f\"Не активные, но оплатившие пользователи: {full_df.query('active != 1 and rev > 0').count()['id']}\")\n",
    "print(f\"Количество всех оплативших: {full_df.query('rev > 0').count()['id']}\")\n",
    "print(f\"Доля не активных, но оплативших: {round(full_df.query('active != 1 and rev > 0').count()['id'] / full_df.query('rev > 0').count()['id'],2)}\")"
   ]
  },
  {
   "cell_type": "code",
   "execution_count": 63,
   "metadata": {},
   "outputs": [
    {
     "data": {
      "text/plain": [
       "1.0"
      ]
     },
     "execution_count": 63,
     "metadata": {},
     "output_type": "execute_result"
    }
   ],
   "source": [
    "# Проверим уникальны ли все пользователи.\n",
    "\n",
    "full_df.id.nunique() / full_df.id.count()"
   ]
  },
  {
   "cell_type": "markdown",
   "metadata": {},
   "source": [
    "Из полученных данных мы узнали, что есть не активные, но оплатившие пользователи, и их почти 30%. Мы не будем с ними работать, так как если человек не увидел нашу новую механику оплаты, то он не смог её оценить, что для данного теста очень важно.\n",
    "\n",
    "Также узнали что все пользователи в ДФ уникальны"
   ]
  },
  {
   "cell_type": "code",
   "execution_count": 64,
   "metadata": {},
   "outputs": [],
   "source": [
    "# Отбираем только активных пользователей, и в дальнейшем работаем только с ними.\n",
    "\n",
    "full_df_active = full_df.query('active == 1')"
   ]
  },
  {
   "cell_type": "markdown",
   "metadata": {},
   "source": [
    "Расчитаем метрики которые нам могут быть интересны. \n",
    "\n",
    "Количество активных пользователей в каждой группе, для понимания как их распределили для проведения теста\n",
    "\n",
    "Выручка по пользователям, а также ARPU и ARPPU, для понимания какая группа больше приносит дохода\n",
    "\n",
    "Конверсия в оплату, не мало важная метрика, для понимания в какой группе, и с каким механизмом оплаты люди чаще платят."
   ]
  },
  {
   "cell_type": "code",
   "execution_count": 65,
   "metadata": {},
   "outputs": [
    {
     "data": {
      "text/html": [
       "<div>\n",
       "<style scoped>\n",
       "    .dataframe tbody tr th:only-of-type {\n",
       "        vertical-align: middle;\n",
       "    }\n",
       "\n",
       "    .dataframe tbody tr th {\n",
       "        vertical-align: top;\n",
       "    }\n",
       "\n",
       "    .dataframe thead th {\n",
       "        text-align: right;\n",
       "    }\n",
       "</style>\n",
       "<table border=\"1\" class=\"dataframe\">\n",
       "  <thead>\n",
       "    <tr style=\"text-align: right;\">\n",
       "      <th></th>\n",
       "      <th>grp</th>\n",
       "      <th>id</th>\n",
       "    </tr>\n",
       "  </thead>\n",
       "  <tbody>\n",
       "    <tr>\n",
       "      <th>0</th>\n",
       "      <td>A</td>\n",
       "      <td>1538</td>\n",
       "    </tr>\n",
       "    <tr>\n",
       "      <th>1</th>\n",
       "      <td>B</td>\n",
       "      <td>6803</td>\n",
       "    </tr>\n",
       "  </tbody>\n",
       "</table>\n",
       "</div>"
      ],
      "text/plain": [
       "  grp    id\n",
       "0   A  1538\n",
       "1   B  6803"
      ]
     },
     "execution_count": 65,
     "metadata": {},
     "output_type": "execute_result"
    },
    {
     "data": {
      "image/png": "[encoded data removed]",
      "text/plain": [
       "<Figure size 432x288 with 1 Axes>"
      ]
     },
     "metadata": {
      "needs_background": "light"
     },
     "output_type": "display_data"
    }
   ],
   "source": [
    "# Посмотрим на распределение студентов по группам.\n",
    "\n",
    "sns.barplot(data=full_df_active.groupby('grp', as_index=False).count()[['grp', 'id']], x=\"grp\", y='id')\n",
    "full_df_active.groupby('grp', as_index=False).count()[['grp', 'id']]"
   ]
  },
  {
   "cell_type": "code",
   "execution_count": 66,
   "metadata": {},
   "outputs": [
    {
     "data": {
      "text/plain": [
       "<seaborn.axisgrid.FacetGrid at 0x7fb25fbc1160>"
      ]
     },
     "execution_count": 66,
     "metadata": {},
     "output_type": "execute_result"
    },
    {
     "data": {
      "image/png": "[encoded data removed]",
      "text/plain": [
       "<Figure size 402.875x360 with 1 Axes>"
      ]
     },
     "metadata": {
      "needs_background": "light"
     },
     "output_type": "display_data"
    },
    {
     "data": {
      "image/png": "[encoded data removed]",
      "text/plain": [
       "<Figure size 402.875x360 with 1 Axes>"
      ]
     },
     "metadata": {
      "needs_background": "light"
     },
     "output_type": "display_data"
    }
   ],
   "source": [
    "# Посмотрим на графике распределение полученной выручки по всем активным пользователям, и только по платящим в каждой группе\n",
    "\n",
    "sns.displot(data=full_df_active, x=\"rev\", hue=\"grp\")\n",
    "sns.displot(data=full_df_active.query('rev > 0'), x=\"rev\", hue=\"grp\")"
   ]
  },
  {
   "cell_type": "code",
   "execution_count": 67,
   "metadata": {},
   "outputs": [
    {
     "data": {
      "text/html": [
       "<div>\n",
       "<style scoped>\n",
       "    .dataframe tbody tr th:only-of-type {\n",
       "        vertical-align: middle;\n",
       "    }\n",
       "\n",
       "    .dataframe tbody tr th {\n",
       "        vertical-align: top;\n",
       "    }\n",
       "\n",
       "    .dataframe thead th {\n",
       "        text-align: right;\n",
       "    }\n",
       "</style>\n",
       "<table border=\"1\" class=\"dataframe\">\n",
       "  <thead>\n",
       "    <tr style=\"text-align: right;\">\n",
       "      <th></th>\n",
       "      <th>grp</th>\n",
       "      <th>ARPU</th>\n",
       "      <th>ARPPU</th>\n",
       "    </tr>\n",
       "  </thead>\n",
       "  <tbody>\n",
       "    <tr>\n",
       "      <th>0</th>\n",
       "      <td>A</td>\n",
       "      <td>47.347204</td>\n",
       "      <td>933.589744</td>\n",
       "    </tr>\n",
       "    <tr>\n",
       "      <th>1</th>\n",
       "      <td>B</td>\n",
       "      <td>58.058798</td>\n",
       "      <td>1257.878992</td>\n",
       "    </tr>\n",
       "  </tbody>\n",
       "</table>\n",
       "</div>"
      ],
      "text/plain": [
       "  grp       ARPU        ARPPU\n",
       "0   A  47.347204   933.589744\n",
       "1   B  58.058798  1257.878992"
      ]
     },
     "execution_count": 67,
     "metadata": {},
     "output_type": "execute_result"
    }
   ],
   "source": [
    "# Раcсчитаем ARPU и ARPPU\n",
    "\n",
    "ARPU = full_df_active.groupby('grp', as_index=False).mean()[['grp', 'rev']]\n",
    "ARPPU = full_df_active.query('rev > 0').groupby('grp', as_index=False).mean()[['grp', 'rev']]\n",
    "ARPU_ARPPU = ARPU.merge(ARPPU, how='left', on='grp')\n",
    "ARPU_ARPPU.rename(columns={'rev_x': 'ARPU', 'rev_y': 'ARPPU'}, inplace=True)\n",
    "ARPU_ARPPU"
   ]
  },
  {
   "cell_type": "code",
   "execution_count": 68,
   "metadata": {},
   "outputs": [],
   "source": [
    "# Распределим по разным переменным разные группы, для дальнейшего расчета конверсии в оплату\n",
    "\n",
    "active_group_a = full_df_active.query('grp == \"A\"')\n",
    "active_group_b = full_df_active.query('grp == \"B\"')"
   ]
  },
  {
   "cell_type": "code",
   "execution_count": 69,
   "metadata": {},
   "outputs": [
    {
     "name": "stdout",
     "output_type": "stream",
     "text": [
      "CR контрольной группы = 0.05071521456436931\n",
      "CR тестовой группы = 0.046156107599588415\n"
     ]
    }
   ],
   "source": [
    "# Посчитаем CR\n",
    "\n",
    "pay_A = (active_group_a['rev'] > 0).sum()\n",
    "all_A = len(active_group_a)\n",
    "pay_B = (active_group_b['rev'] > 0).sum()\n",
    "all_B = len(active_group_b)\n",
    "\n",
    "cr_A = pay_A/all_A\n",
    "cr_B = pay_B/all_B\n",
    "print(f'CR контрольной группы = {cr_A}')\n",
    "print(f'CR тестовой группы = {cr_B}')"
   ]
  },
  {
   "cell_type": "markdown",
   "metadata": {},
   "source": [
    "Промежуточный вывод: \n",
    "\n",
    "Первое наблюдение, которое может повлиять на результаты - это не правильное распределение количества студентов по группам. В тестовой группе гораздо больше студентов чем в контрольной. По хорошему, должно быть либо наоборот, либо одинаковое количество студентов в каждой группе, для более достоверных результатов. Сейчас это выглядит так, что вероятнее мы тестируем старый способ оплаты, вместо нового.\n",
    "\n",
    "Второе, выручка и все связанные с ней метрики, на данный момент, показывают что дела обстоят лучше у тестовой группы, но всё ровно большинство студентов не совершают оплату в любой из групп, и в тестовой таких даже больше. Также мы видим не нормальное распределение выручки. \n",
    "\n",
    "Третье, не смотря на всё вышесказанное, конверсия в оплату немного лучше у контрольной группы. Которая говорит нам, что люди чаще совершают оплату все же со старым механизмом.  "
   ]
  },
  {
   "cell_type": "markdown",
   "metadata": {},
   "source": [
    "**Проверим все на тестах**\n",
    "\n",
    "Так как распределение выручки не является нормальным, можно использовать тест Левена для определения равенства дисперсий, после оценки определим какой тест выбрать для сравнения средней выручки.\n",
    "\n",
    "Для конверсии в оплату произведем z-тест"
   ]
  },
  {
   "cell_type": "code",
   "execution_count": 70,
   "metadata": {},
   "outputs": [],
   "source": [
    "# создадим перменную для сравнения с p-value (стандарт - 5%)\n",
    "\n",
    "alpha = 0.05"
   ]
  },
  {
   "cell_type": "code",
   "execution_count": 71,
   "metadata": {},
   "outputs": [
    {
     "name": "stdout",
     "output_type": "stream",
     "text": [
      "t-статистика: 1.501460829433639\n",
      "p-значение: 0.22048133327049665\n",
      "Не можем отвергнуть нулевую гипотезу. Нет значимой разницы в дисперсиях выручки между группами A и B.\n"
     ]
    }
   ],
   "source": [
    "# Тест Левена по ARPU\n",
    "\n",
    "levene_stat, levene_pvalue = levene(active_group_a['rev'], active_group_b['rev'])\n",
    "\n",
    "print(f't-статистика: {levene_stat}')\n",
    "print(f'p-значение: {levene_pvalue}')\n",
    "\n",
    "if levene_pvalue < alpha:\n",
    "    print(\"Отвергаем нулевую гипотезу. Существует значимая разница в дисперсиях выручкки между группами A и B.\")\n",
    "else:\n",
    "    print(\"Не можем отвергнуть нулевую гипотезу. Нет значимой разницы в дисперсиях выручки между группами A и B.\")"
   ]
  },
  {
   "cell_type": "markdown",
   "metadata": {},
   "source": [
    "Так как разницы в дисперсиях мы не увидели, то можно провести t-test для сравнения средней выручки по всем активным пользователям."
   ]
  },
  {
   "cell_type": "code",
   "execution_count": 72,
   "metadata": {},
   "outputs": [
    {
     "name": "stdout",
     "output_type": "stream",
     "text": [
      "t-статистика: -1.2253411073793445\n",
      "p-значение: 0.22048133326988378\n",
      "Не можем отвергнуть нулевую гипотезу. Нет значимой разницы в выручке между группами A и B.\n"
     ]
    }
   ],
   "source": [
    "# t-тест по ARPU\n",
    "\n",
    "t_statistic, t_p_value = stats.ttest_ind(active_group_a['rev'], active_group_b['rev'], equal_var=True)\n",
    "\n",
    "print(f't-статистика: {t_statistic}')\n",
    "print(f'p-значение: {t_p_value}')\n",
    "if t_p_value < alpha:\n",
    "    print(\"Отвергаем нулевую гипотезу. Существует значимая разница в выручке между группами A и B.\")\n",
    "else:\n",
    "    print(\"Не можем отвергнуть нулевую гипотезу. Нет значимой разницы в выручке между группами A и B.\")"
   ]
  },
  {
   "cell_type": "markdown",
   "metadata": {},
   "source": [
    "t-Тест показал нам что нет значимой разницы в ARPU между группами, что говорит нам о том, что нам не стоит запускать новую механику оплаты на всех пользователей\n",
    "\n",
    "Но, для более достоверного результата, сделаем всё тоже самое, толко для ARPPU."
   ]
  },
  {
   "cell_type": "code",
   "execution_count": 73,
   "metadata": {},
   "outputs": [
    {
     "name": "stdout",
     "output_type": "stream",
     "text": [
      "t-статистика: 3.075681699981606\n",
      "p-значение: 0.08025675761347022\n",
      "Не можем отвергнуть нулевую гипотезу. Нет значимой разницы в дисперсиях выручки между группами A и B.\n"
     ]
    }
   ],
   "source": [
    "# Тест Левена по ARPPU\n",
    "\n",
    "levene_stat, levene_pvalue = levene(active_group_a.query('rev > 0')['rev'], active_group_b.query('rev > 0')['rev'])\n",
    "\n",
    "print(f't-статистика: {levene_stat}')\n",
    "print(f'p-значение: {levene_pvalue}')\n",
    "\n",
    "if levene_pvalue < alpha:\n",
    "    print(\"Отвергаем нулевую гипотезу. Существует значимая разница в дисперсиях выручкки между группами A и B.\")\n",
    "else:\n",
    "    print(\"Не можем отвергнуть нулевую гипотезу. Нет значимой разницы в дисперсиях выручки между группами A и B.\")"
   ]
  },
  {
   "cell_type": "code",
   "execution_count": 74,
   "metadata": {},
   "outputs": [
    {
     "name": "stdout",
     "output_type": "stream",
     "text": [
      "t-статистика: -3.1337795050930985\n",
      "p-значение: 0.0018562025265765867\n",
      "Отвергаем нулевую гипотезу. Существует значимая разница в выручке между группами A и B.\n"
     ]
    }
   ],
   "source": [
    "# t-тест по ARPPU\n",
    "\n",
    "t_statistic, t_p_value = stats.ttest_ind(active_group_a.query('rev > 0')['rev'], active_group_b.query('rev > 0')['rev'], equal_var=True)\n",
    "\n",
    "print(f't-статистика: {t_statistic}')\n",
    "print(f'p-значение: {t_p_value}')\n",
    "if t_p_value < alpha:\n",
    "    print(\"Отвергаем нулевую гипотезу. Существует значимая разница в выручке между группами A и B.\")\n",
    "else:\n",
    "    print(\"Не можем отвергнуть нулевую гипотезу. Нет значимой разницы в выручке между группами A и B.\")"
   ]
  },
  {
   "cell_type": "markdown",
   "metadata": {},
   "source": [
    "Тут наступает интересный момент, по ARPPU разница в выручке есть, и нам можно отвергнуть нулевую гипотезу и запустить новый механизм оплаты. \n",
    "\n",
    "**Заключение выдам в конце тестов.**\n",
    "\n",
    "Пока проведем тест над конверсией в оплату. Выберем тест на z-пропорции, так как он как раз предназначен для сравнения конверсий."
   ]
  },
  {
   "cell_type": "code",
   "execution_count": 75,
   "metadata": {},
   "outputs": [
    {
     "name": "stdout",
     "output_type": "stream",
     "text": [
      "z-статистика: 0.7629884495263746\n",
      "p-значение: 0.445470284371589\n",
      "Не можем отвергнуть нулевую гипотезу. Нет значимой разницы в конверсиях в оплату между группами A и B.\n"
     ]
    }
   ],
   "source": [
    "# z-тест для CR\n",
    "\n",
    "z_stat, z_p_value = proportions_ztest([pay_A, pay_B], [all_A, all_B])\n",
    "\n",
    "print(f\"z-статистика: {z_stat}\")\n",
    "print(f\"p-значение: {z_p_value}\")\n",
    "\n",
    "if z_p_value < alpha:\n",
    "    print(\"Отвергаем нулевую гипотезу. Существует значимая разница в конверсиях в оплату между группами A и B.\")\n",
    "else:\n",
    "    print(\"Не можем отвергнуть нулевую гипотезу. Нет значимой разницы в конверсиях в оплату между группами A и B.\")"
   ]
  },
  {
   "cell_type": "markdown",
   "metadata": {},
   "source": [
    "**Вопросы по заданию:**\n",
    "\n",
    "***На какие метрики вы смотрите в ходе анализа и почему?***\n",
    "\n",
    "В ходе анализа была рассмотрена выручка и конверсия в оплату.\n",
    "\n",
    "По плану, новый механизм в оплату должен спровоцирвать студентов чаще оплачивать. \n",
    "\n",
    "Частые оплаты = выручка, ARPU, ARPPU и конверсия\n",
    "\n",
    "***Имеются ли различия в показателях и с чем они могут быть связаны?***\n",
    "\n",
    "Да, различия следующие: \n",
    "  \n",
    "  1) Т-статистика показала незначительные различия в средних данных по ARPU, но в тоже время различия наблюдаются в ARPPU\n",
    "  \n",
    "  2) Z-статистика показала что разница в конверсиях не значительна\n",
    "\n",
    "***Являются ли эти различия статистически значимыми?***\n",
    "\n",
    "Статистически значимые различия наблюдаются только в ARPPU, p-value < 0.05. По остальным метрикам их нет\n",
    "\n",
    "***Стоит ли запускать новую механику на всех пользователей?***\n",
    "\n",
    "На этот вопрос сложно ответить, не уточнив у заказчика на какую метрику должен повлиять тест.\n"
   ]
  },
  {
   "cell_type": "markdown",
   "metadata": {},
   "source": [
    "Заключение:\n",
    "\n",
    "Результаты тестов показали нам, что статистически значимые различия отсутствуют по ARPU и CR, но присутствуют в ARPPU. Перед одобрением запуска, нужно понять на что мы хотим повлиять. Если на среднюю выручку по всем студентам, то запускать не стоит, а  если на среднюю выручку по платящим то можно и запустить. \n",
    "\n",
    "Второй момент, В тестовой группе у нас находилось гораздо больше людей чем в контрольной, что могло отразится на результатах тестов. Довольно опасано запускать тест на бОльшую долю пользователей из всей генеральной совокупности. Наши изменения могут как улучшить метрики, так и ухудшить, и в этом случае нужно быть аккуратным, так как пользователи могут вообще уйти из нашего продукта. По этому, лучше отделаться малой кровью при проведении каких либо экспериментов.\n",
    "\n",
    "Рекомендации: \n",
    "\n",
    "1) Уменьшить выборку в тестовой группе до значения контрольной, но лучше ниже, либо отобрать больше студентов в контрольной группе. И заного провести тесты.\n",
    "\n",
    "2) Более точно понять на какую метрику, или метрики, наша гипотеза должна повлиять."
   ]
  },
  {
   "cell_type": "markdown",
   "metadata": {},
   "source": [
    "# Задание 2. SQL\n",
    "\n",
    "**2.1 Очень усердные ученики.**\n",
    "\n",
    "***Условие***\n",
    "\n",
    "Образовательные курсы состоят из различных уроков, каждый из которых состоит из нескольких маленьких заданий. Каждое такое маленькое задание называется \"горошиной\".\n",
    "\n",
    "Назовём очень усердным учеником того пользователя, который хотя бы раз за текущий месяц правильно решил 20 горошин.\n",
    "\n",
    "***Задача***\n",
    "\n",
    "Необходимо написать оптимальный запрос, который даст информацию о количестве очень усердных студентов.NB! Под усердным студентом мы понимаем студента, который правильно решил 20 задач за текущий месяц.\n",
    "\n",
    "Ссылка на работу в Redash - https://redash.lab.karpov.courses/queries/56505/source"
   ]
  },
  {
   "cell_type": "code",
   "execution_count": 76,
   "metadata": {},
   "outputs": [
    {
     "data": {
      "text/plain": [
       "' \\n-- Из таблицы peas отбираем уникальных студентов, и считаем количество сданных задач\\nSELECT DISTINCT st_id, count(correct) as cnt_correct\\nFROM peas\\nWHERE correct = true -- фильтруем по сданным задачам\\nGROUP BY st_id -- группируем по id студента\\nHAVING count(correct) >= 20; -- на финальной таблице (после выполнения SELECT) отфильтровываем по условию задачи '"
      ]
     },
     "execution_count": 76,
     "metadata": {},
     "output_type": "execute_result"
    }
   ],
   "source": [
    "''' \n",
    "-- Из таблицы peas отбираем уникальных студентов, и считаем количество сданных задач\n",
    "SELECT DISTINCT st_id, count(correct) as cnt_correct\n",
    "FROM peas\n",
    "WHERE correct = true -- фильтруем по сданным задачам\n",
    "GROUP BY st_id -- группируем по id студента\n",
    "HAVING count(correct) >= 20; -- на финальной таблице (после выполнения SELECT) отфильтровываем по условию задачи '''"
   ]
  },
  {
   "cell_type": "markdown",
   "metadata": {},
   "source": [
    "**2.2 Оптимизация воронки**\n",
    "\n",
    "***Условие***\n",
    "\n",
    "Образовательная платформа предлагает пройти студентам курсы по модели trial: студент может решить бесплатно лишь 30 горошин в день. Для неограниченного количества заданий в определенной дисциплине студенту необходимо приобрести полный доступ. Команда провела эксперимент, где был протестирован новый экран оплаты.\n",
    "\n",
    "***Задача***\n",
    "\n",
    "Необходимо в одном запросе выгрузить следующую информацию о группах пользователей:\n",
    "\n",
    "ARPU \n",
    "\n",
    "ARPAU \n",
    "\n",
    "CR в покупку \n",
    "\n",
    "СR активного пользователя в покупку \n",
    "\n",
    "CR пользователя из активности по математике (subject = ’math’) в покупку курса по математике\n",
    "\n",
    "ARPU считается относительно всех пользователей, попавших в группы.\n",
    "\n",
    "Активным считается пользователь, за все время решивший больше 10 задач правильно в любых дисциплинах.\n",
    "\n",
    "Активным по математике считается пользователь, за все время решивший 2 или больше задач правильно по математике."
   ]
  },
  {
   "cell_type": "code",
   "execution_count": 77,
   "metadata": {},
   "outputs": [
    {
     "data": {
      "text/plain": [
       "\"\\n-- Для финального результата нам понадобятся CTE\\n-- Делаем по аналогии из прошлого задания, только кол-во решенных задач ставим по новому условию\\nWITH best_students AS (\\nSELECT st_id, count(correct) as cnt_correct\\nFROM peas\\nWHERE correct = true\\nGROUP BY st_id\\nHAVING count(correct) >= 10\\n),\\n\\n-- Второй CTE, отбираем студентов кто решил 2 и более задачи по математике\\nmath_active AS (\\nSELECT st_id, count(correct) as cnt_cor_math\\nFROM peas\\nWHERE correct = true and subject = 'Math'\\nGROUP BY st_id\\nHAVING count(correct) >= 2\\n),\\n\\n-- Третий CTE, отбираем студентов кто оплатил математику\\nbuy_math AS (\\nSELECT st_id as st_math_id\\nFROM final_project_check\\nWHERE subject = 'Math'\\n)\\n\\n-- создаем финальный SELECT с расчетами сказанными в условии задачи\\nSELECT s.test_grp,\\n       sum(f.money)/count(distinct s.st_id) as ARPU,\\n       sum(f.money)/ count(distinct bs.st_id) as ARPAU,\\n       round((count(distinct f.st_id)/count(distinct s.st_id)::decimal)*100 ,2) as CR,\\n       round((count(distinct f.st_id)/count(distinct bs.st_id)::decimal)*100 ,2) as CR_active,\\n       round((count(distinct st_math_id)/count(distinct ma.st_id)::decimal)*100 ,2) as CR_math_active\\n\\n-- Чтобы SELECT сработал, мы соединяем все CTE и таблицу studs друг с другом по id студента. \\nFROM studs as s\\nLEFT JOIN final_project_check as f  \\nON s.st_id=f.st_id\\nLEFT JOIN best_students as bs \\nON s.st_id=bs.st_id\\nLEFT JOIN math_active as ma \\nON s.st_id=ma.st_id\\nLEFT JOIN buy_math as bm \\nON s.st_id=bm.st_math_id\\n\\nGROUP BY s.test_grp -- группируем по группам \""
      ]
     },
     "execution_count": 77,
     "metadata": {},
     "output_type": "execute_result"
    }
   ],
   "source": [
    "'''\n",
    "-- Для финального результата нам понадобятся CTE\n",
    "-- Делаем по аналогии из прошлого задания, только кол-во решенных задач ставим по новому условию\n",
    "WITH best_students AS (\n",
    "SELECT st_id, count(correct) as cnt_correct\n",
    "FROM peas\n",
    "WHERE correct = true\n",
    "GROUP BY st_id\n",
    "HAVING count(correct) >= 10\n",
    "),\n",
    "\n",
    "-- Второй CTE, отбираем студентов кто решил 2 и более задачи по математике\n",
    "math_active AS (\n",
    "SELECT st_id, count(correct) as cnt_cor_math\n",
    "FROM peas\n",
    "WHERE correct = true and subject = 'Math'\n",
    "GROUP BY st_id\n",
    "HAVING count(correct) >= 2\n",
    "),\n",
    "\n",
    "-- Третий CTE, отбираем студентов кто оплатил математику\n",
    "buy_math AS (\n",
    "SELECT st_id as st_math_id\n",
    "FROM final_project_check\n",
    "WHERE subject = 'Math'\n",
    ")\n",
    "\n",
    "-- создаем финальный SELECT с расчетами сказанными в условии задачи\n",
    "SELECT s.test_grp,\n",
    "       sum(f.money)/count(distinct s.st_id) as ARPU,\n",
    "       sum(f.money)/ count(distinct bs.st_id) as ARPAU,\n",
    "       round((count(distinct f.st_id)/count(distinct s.st_id)::decimal)*100 ,2) as CR,\n",
    "       round((count(distinct f.st_id)/count(distinct bs.st_id)::decimal)*100 ,2) as CR_active,\n",
    "       round((count(distinct st_math_id)/count(distinct ma.st_id)::decimal)*100 ,2) as CR_math_active\n",
    "\n",
    "-- Чтобы SELECT сработал, мы соединяем все CTE и таблицу studs друг с другом по id студента. \n",
    "FROM studs as s\n",
    "LEFT JOIN final_project_check as f  \n",
    "ON s.st_id=f.st_id\n",
    "LEFT JOIN best_students as bs \n",
    "ON s.st_id=bs.st_id\n",
    "LEFT JOIN math_active as ma \n",
    "ON s.st_id=ma.st_id\n",
    "LEFT JOIN buy_math as bm \n",
    "ON s.st_id=bm.st_math_id\n",
    "\n",
    "GROUP BY s.test_grp -- группируем по группам '''"
   ]
  },
  {
   "cell_type": "markdown",
   "metadata": {},
   "source": [
    "# Задание 3. Python\n",
    "\n",
    "**Задача**\n",
    "\n",
    "1) Реализуйте функцию, которая будет автоматически подгружать информацию из дополнительного файла groups_add.csv (заголовки могут отличаться) и на основании дополнительных параметров пересчитывать метрики.\n",
    "\n",
    "2) Реализуйте функцию, которая будет строить графики по получаемым метрикам.\n",
    "\n",
    "...\n",
    "\n",
    "*P.S. По задумке функции, при добавлении новых студентов, они должны присоединяться к полному файлу со студентами который у нас был в первом задании, но так как, по факту, мы работаем с тем же файлом что и в первом задании, я не стал дублировать данные, которые у нас уже есть, и сделал так как будто мы ещё не видели этот файл с новыми студентами.*\n",
    "\n",
    "*Также можно сделать отдельны файл с расширением .py, написать там все функции. И в основном файле работать с ней загрузив через import \"название файла с функцией без расширения\", и далее прописать function.load_and_recalculate_metrics(group_add)*"
   ]
  },
  {
   "cell_type": "code",
   "execution_count": 78,
   "metadata": {},
   "outputs": [
    {
     "data": {
      "text/html": [
       "<div>\n",
       "<style scoped>\n",
       "    .dataframe tbody tr th:only-of-type {\n",
       "        vertical-align: middle;\n",
       "    }\n",
       "\n",
       "    .dataframe tbody tr th {\n",
       "        vertical-align: top;\n",
       "    }\n",
       "\n",
       "    .dataframe thead th {\n",
       "        text-align: right;\n",
       "    }\n",
       "</style>\n",
       "<table border=\"1\" class=\"dataframe\">\n",
       "  <thead>\n",
       "    <tr style=\"text-align: right;\">\n",
       "      <th></th>\n",
       "      <th>grp</th>\n",
       "      <th>cnt_id</th>\n",
       "      <th>СR</th>\n",
       "      <th>ARPU</th>\n",
       "      <th>ARPPU</th>\n",
       "    </tr>\n",
       "  </thead>\n",
       "  <tbody>\n",
       "    <tr>\n",
       "      <th>0</th>\n",
       "      <td>A</td>\n",
       "      <td>1538</td>\n",
       "      <td>0.050715</td>\n",
       "      <td>47.347204</td>\n",
       "      <td>933.589744</td>\n",
       "    </tr>\n",
       "    <tr>\n",
       "      <th>1</th>\n",
       "      <td>B</td>\n",
       "      <td>6803</td>\n",
       "      <td>0.046156</td>\n",
       "      <td>58.058798</td>\n",
       "      <td>1257.878992</td>\n",
       "    </tr>\n",
       "  </tbody>\n",
       "</table>\n",
       "</div>"
      ],
      "text/plain": [
       "  grp  cnt_id        СR       ARPU        ARPPU\n",
       "0   A    1538  0.050715  47.347204   933.589744\n",
       "1   B    6803  0.046156  58.058798  1257.878992"
      ]
     },
     "execution_count": 78,
     "metadata": {},
     "output_type": "execute_result"
    }
   ],
   "source": [
    "file = 'Проект_2_group_add.csv'\n",
    "\n",
    "def load_and_recalculate_metrics(file):\n",
    "    # Загрузка файла и все манипуляции которые мы проводили в задании 1\n",
    "    # Так как файл csv, то считываем его обычным пандовским методом\n",
    "    new_groups = pd.read_csv(file)\n",
    "    \n",
    "    # Вместо groups, можно подставить all_students из первого задания, но не будем дублировать данные.\n",
    "    groups_upd = pd.concat([groups, new_groups], ignore_index=True) \n",
    "    active_groups_upd = groups_upd.merge(active_studs, how = 'left', on='id')\n",
    "    upd_full_df = active_groups_upd.merge(checks, how='left', on='id').fillna(0)\n",
    "    upd_full_df_active = upd_full_df.query('active == 1')\n",
    "    \n",
    "    # переменные для ARPU и ARPPU\n",
    "    upd_ARPU = upd_full_df_active.groupby('grp', as_index=False).mean()[['grp', 'rev']]\n",
    "    upd_ARPPU = upd_full_df_active.query('rev > 0').groupby('grp', as_index=False).mean()[['grp', 'rev']]\n",
    "    upd_ARPPU.rename(columns={'rev': 'ARPPU'}, inplace=True)\n",
    "    \n",
    "    # расчет СR и преобразование в ДФ, для последующего соединения с другими ДФ\n",
    "    upd_pay_A = (upd_full_df_active.query('grp == \"A\"')['rev'] > 0).sum()\n",
    "    upd_all_A = len(upd_full_df_active.query('grp == \"A\"'))\n",
    "    upd_pay_B = (upd_full_df_active.query('grp == \"B\"')['rev'] > 0).sum()\n",
    "    upd_all_B = len(upd_full_df_active.query('grp == \"B\"'))\n",
    "    upd_cr_A = upd_pay_A/upd_all_A\n",
    "    upd_cr_B = upd_pay_B/upd_all_B\n",
    "    # сделаем из серий CR сначала словарь, а потом ДФ, что бы можно было соединить с остальными ДФ\n",
    "    dict_cr = {'grp': ['A', 'B'], 'СR': [upd_cr_A, upd_cr_B]}\n",
    "    upd_cr = pd.DataFrame(dict_cr)\n",
    "    \n",
    "    # Cоединение всех ДФ\n",
    "    upd_df = upd_full_df_active.groupby('grp', as_index=False).count()[['grp', 'id']]\\\n",
    "                                                              .merge(upd_cr, how='left', on='grp') \\\n",
    "                                                              .merge(upd_ARPU, how='left', on='grp') \\\n",
    "                                                              .merge(upd_ARPPU, how='left', on='grp')\n",
    "                                       \n",
    "    upd_df.rename(columns={'id': 'cnt_id', 'rev': 'ARPU'}, inplace=True)\n",
    "    \n",
    "    return upd_df\n",
    "\n",
    "\n",
    "new_metrics = load_and_recalculate_metrics(file)\n",
    "new_metrics"
   ]
  },
  {
   "cell_type": "code",
   "execution_count": 79,
   "metadata": {},
   "outputs": [
    {
     "data": {
      "image/png": "[encoded data removed]",
      "text/plain": [
       "<Figure size 720x720 with 4 Axes>"
      ]
     },
     "metadata": {
      "needs_background": "light"
     },
     "output_type": "display_data"
    },
    {
     "data": {
      "text/plain": [
       "<Figure size 576x432 with 0 Axes>"
      ]
     },
     "metadata": {},
     "output_type": "display_data"
    }
   ],
   "source": [
    "def charts_metrics(new_metrics):\n",
    "\n",
    "   \n",
    "    # Создание столбчатых графиков для метрик по группам\n",
    "    fig, axs = plt.subplots(2, 2, figsize=(10, 10))\n",
    "    plt.figure(figsize=(8, 6))\n",
    "    axs[0, 0].bar(new_metrics['grp'], new_metrics['cnt_id'], color='blue')\n",
    "    axs[0, 0].set_title('Количество студентов по группам')\n",
    "    axs[0, 0].set_ylabel('Количество студентов')\n",
    "    \n",
    "    axs[0, 1].bar(new_metrics['grp'], new_metrics['СR'], color='orange')\n",
    "    axs[0, 1].set_title('CR')\n",
    "    axs[0, 1].set_ylabel('Средняя выручка')\n",
    "    \n",
    "    axs[1, 0].bar(new_metrics['grp'], new_metrics['ARPU'], color='green')\n",
    "    axs[1, 0].set_title('ARPU')\n",
    "    axs[1, 0].set_ylabel('ARPU')\n",
    "    \n",
    "    axs[1, 1].bar(new_metrics['grp'], new_metrics['ARPPU'], color='red')\n",
    "    axs[1, 1].set_title('ARPPU')\n",
    "    axs[1, 1].set_ylabel('ARPPU')\n",
    "    \n",
    "charts_metrics(new_metrics)"
   ]
  }
 ],
 "metadata": {
  "kernelspec": {
   "display_name": "Python 3",
   "language": "python",
   "name": "python3"
  },
  "language_info": {
   "codemirror_mode": {
    "name": "ipython",
    "version": 3
   },
   "file_extension": ".py",
   "mimetype": "text/x-python",
   "name": "python",
   "nbconvert_exporter": "python",
   "pygments_lexer": "ipython3",
   "version": "3.7.3"
  }
 },
 "nbformat": 4,
 "nbformat_minor": 4
}
