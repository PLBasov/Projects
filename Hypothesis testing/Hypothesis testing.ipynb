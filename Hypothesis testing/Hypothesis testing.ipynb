{
 "cells": [
  {
   "cell_type": "code",
   "execution_count": 538,
   "metadata": {},
   "outputs": [],
   "source": [
    "import pandas as pd\n",
    "import numpy as np\n",
    "from operator import attrgetter\n",
    "import seaborn as sns\n",
    "from matplotlib import pyplot as plt\n",
    "from matplotlib import colors as mcolors"
   ]
  },
  {
   "cell_type": "code",
   "execution_count": 539,
   "metadata": {},
   "outputs": [],
   "source": [
    "olist_customers_dataset = pd.read_csv('olist_customers_dataset.csv')\n",
    "olist_orders_dataset = pd.read_csv('olist_orders_dataset.csv')\n",
    "olist_order_items_dataset = pd.read_csv('olist_order_items_dataset.csv')"
   ]
  },
  {
   "cell_type": "code",
   "execution_count": 540,
   "metadata": {},
   "outputs": [
    {
     "data": {
      "text/html": [
       "<div>\n",
       "<style scoped>\n",
       "    .dataframe tbody tr th:only-of-type {\n",
       "        vertical-align: middle;\n",
       "    }\n",
       "\n",
       "    .dataframe tbody tr th {\n",
       "        vertical-align: top;\n",
       "    }\n",
       "\n",
       "    .dataframe thead th {\n",
       "        text-align: right;\n",
       "    }\n",
       "</style>\n",
       "<table border=\"1\" class=\"dataframe\">\n",
       "  <thead>\n",
       "    <tr style=\"text-align: right;\">\n",
       "      <th></th>\n",
       "      <th>customer_id</th>\n",
       "      <th>customer_unique_id</th>\n",
       "      <th>customer_zip_code_prefix</th>\n",
       "      <th>customer_city</th>\n",
       "      <th>customer_state</th>\n",
       "    </tr>\n",
       "  </thead>\n",
       "  <tbody>\n",
       "    <tr>\n",
       "      <th>0</th>\n",
       "      <td>06b8999e2fba1a1fbc88172c00ba8bc7</td>\n",
       "      <td>861eff4711a542e4b93843c6dd7febb0</td>\n",
       "      <td>14409</td>\n",
       "      <td>franca</td>\n",
       "      <td>SP</td>\n",
       "    </tr>\n",
       "    <tr>\n",
       "      <th>1</th>\n",
       "      <td>18955e83d337fd6b2def6b18a428ac77</td>\n",
       "      <td>290c77bc529b7ac935b93aa66c333dc3</td>\n",
       "      <td>9790</td>\n",
       "      <td>sao bernardo do campo</td>\n",
       "      <td>SP</td>\n",
       "    </tr>\n",
       "    <tr>\n",
       "      <th>2</th>\n",
       "      <td>4e7b3e00288586ebd08712fdd0374a03</td>\n",
       "      <td>060e732b5b29e8181a18229c7b0b2b5e</td>\n",
       "      <td>1151</td>\n",
       "      <td>sao paulo</td>\n",
       "      <td>SP</td>\n",
       "    </tr>\n",
       "    <tr>\n",
       "      <th>3</th>\n",
       "      <td>b2b6027bc5c5109e529d4dc6358b12c3</td>\n",
       "      <td>259dac757896d24d7702b9acbbff3f3c</td>\n",
       "      <td>8775</td>\n",
       "      <td>mogi das cruzes</td>\n",
       "      <td>SP</td>\n",
       "    </tr>\n",
       "    <tr>\n",
       "      <th>4</th>\n",
       "      <td>4f2d8ab171c80ec8364f7c12e35b23ad</td>\n",
       "      <td>345ecd01c38d18a9036ed96c73b8d066</td>\n",
       "      <td>13056</td>\n",
       "      <td>campinas</td>\n",
       "      <td>SP</td>\n",
       "    </tr>\n",
       "  </tbody>\n",
       "</table>\n",
       "</div>"
      ],
      "text/plain": [
       "                        customer_id                customer_unique_id  \\\n",
       "0  06b8999e2fba1a1fbc88172c00ba8bc7  861eff4711a542e4b93843c6dd7febb0   \n",
       "1  18955e83d337fd6b2def6b18a428ac77  290c77bc529b7ac935b93aa66c333dc3   \n",
       "2  4e7b3e00288586ebd08712fdd0374a03  060e732b5b29e8181a18229c7b0b2b5e   \n",
       "3  b2b6027bc5c5109e529d4dc6358b12c3  259dac757896d24d7702b9acbbff3f3c   \n",
       "4  4f2d8ab171c80ec8364f7c12e35b23ad  345ecd01c38d18a9036ed96c73b8d066   \n",
       "\n",
       "   customer_zip_code_prefix          customer_city customer_state  \n",
       "0                     14409                 franca             SP  \n",
       "1                      9790  sao bernardo do campo             SP  \n",
       "2                      1151              sao paulo             SP  \n",
       "3                      8775        mogi das cruzes             SP  \n",
       "4                     13056               campinas             SP  "
      ]
     },
     "execution_count": 540,
     "metadata": {},
     "output_type": "execute_result"
    }
   ],
   "source": [
    "olist_customers_dataset.head()"
   ]
  },
  {
   "cell_type": "code",
   "execution_count": 541,
   "metadata": {},
   "outputs": [
    {
     "data": {
      "text/html": [
       "<div>\n",
       "<style scoped>\n",
       "    .dataframe tbody tr th:only-of-type {\n",
       "        vertical-align: middle;\n",
       "    }\n",
       "\n",
       "    .dataframe tbody tr th {\n",
       "        vertical-align: top;\n",
       "    }\n",
       "\n",
       "    .dataframe thead th {\n",
       "        text-align: right;\n",
       "    }\n",
       "</style>\n",
       "<table border=\"1\" class=\"dataframe\">\n",
       "  <thead>\n",
       "    <tr style=\"text-align: right;\">\n",
       "      <th></th>\n",
       "      <th>order_id</th>\n",
       "      <th>customer_id</th>\n",
       "      <th>order_status</th>\n",
       "      <th>order_purchase_timestamp</th>\n",
       "      <th>order_approved_at</th>\n",
       "      <th>order_delivered_carrier_date</th>\n",
       "      <th>order_delivered_customer_date</th>\n",
       "      <th>order_estimated_delivery_date</th>\n",
       "    </tr>\n",
       "  </thead>\n",
       "  <tbody>\n",
       "    <tr>\n",
       "      <th>0</th>\n",
       "      <td>e481f51cbdc54678b7cc49136f2d6af7</td>\n",
       "      <td>9ef432eb6251297304e76186b10a928d</td>\n",
       "      <td>delivered</td>\n",
       "      <td>2017-10-02 10:56:33</td>\n",
       "      <td>2017-10-02 11:07:15</td>\n",
       "      <td>2017-10-04 19:55:00</td>\n",
       "      <td>2017-10-10 21:25:13</td>\n",
       "      <td>2017-10-18 00:00:00</td>\n",
       "    </tr>\n",
       "    <tr>\n",
       "      <th>1</th>\n",
       "      <td>53cdb2fc8bc7dce0b6741e2150273451</td>\n",
       "      <td>b0830fb4747a6c6d20dea0b8c802d7ef</td>\n",
       "      <td>delivered</td>\n",
       "      <td>2018-07-24 20:41:37</td>\n",
       "      <td>2018-07-26 03:24:27</td>\n",
       "      <td>2018-07-26 14:31:00</td>\n",
       "      <td>2018-08-07 15:27:45</td>\n",
       "      <td>2018-08-13 00:00:00</td>\n",
       "    </tr>\n",
       "    <tr>\n",
       "      <th>2</th>\n",
       "      <td>47770eb9100c2d0c44946d9cf07ec65d</td>\n",
       "      <td>41ce2a54c0b03bf3443c3d931a367089</td>\n",
       "      <td>delivered</td>\n",
       "      <td>2018-08-08 08:38:49</td>\n",
       "      <td>2018-08-08 08:55:23</td>\n",
       "      <td>2018-08-08 13:50:00</td>\n",
       "      <td>2018-08-17 18:06:29</td>\n",
       "      <td>2018-09-04 00:00:00</td>\n",
       "    </tr>\n",
       "    <tr>\n",
       "      <th>3</th>\n",
       "      <td>949d5b44dbf5de918fe9c16f97b45f8a</td>\n",
       "      <td>f88197465ea7920adcdbec7375364d82</td>\n",
       "      <td>delivered</td>\n",
       "      <td>2017-11-18 19:28:06</td>\n",
       "      <td>2017-11-18 19:45:59</td>\n",
       "      <td>2017-11-22 13:39:59</td>\n",
       "      <td>2017-12-02 00:28:42</td>\n",
       "      <td>2017-12-15 00:00:00</td>\n",
       "    </tr>\n",
       "    <tr>\n",
       "      <th>4</th>\n",
       "      <td>ad21c59c0840e6cb83a9ceb5573f8159</td>\n",
       "      <td>8ab97904e6daea8866dbdbc4fb7aad2c</td>\n",
       "      <td>delivered</td>\n",
       "      <td>2018-02-13 21:18:39</td>\n",
       "      <td>2018-02-13 22:20:29</td>\n",
       "      <td>2018-02-14 19:46:34</td>\n",
       "      <td>2018-02-16 18:17:02</td>\n",
       "      <td>2018-02-26 00:00:00</td>\n",
       "    </tr>\n",
       "  </tbody>\n",
       "</table>\n",
       "</div>"
      ],
      "text/plain": [
       "                           order_id                       customer_id  \\\n",
       "0  e481f51cbdc54678b7cc49136f2d6af7  9ef432eb6251297304e76186b10a928d   \n",
       "1  53cdb2fc8bc7dce0b6741e2150273451  b0830fb4747a6c6d20dea0b8c802d7ef   \n",
       "2  47770eb9100c2d0c44946d9cf07ec65d  41ce2a54c0b03bf3443c3d931a367089   \n",
       "3  949d5b44dbf5de918fe9c16f97b45f8a  f88197465ea7920adcdbec7375364d82   \n",
       "4  ad21c59c0840e6cb83a9ceb5573f8159  8ab97904e6daea8866dbdbc4fb7aad2c   \n",
       "\n",
       "  order_status order_purchase_timestamp    order_approved_at  \\\n",
       "0    delivered      2017-10-02 10:56:33  2017-10-02 11:07:15   \n",
       "1    delivered      2018-07-24 20:41:37  2018-07-26 03:24:27   \n",
       "2    delivered      2018-08-08 08:38:49  2018-08-08 08:55:23   \n",
       "3    delivered      2017-11-18 19:28:06  2017-11-18 19:45:59   \n",
       "4    delivered      2018-02-13 21:18:39  2018-02-13 22:20:29   \n",
       "\n",
       "  order_delivered_carrier_date order_delivered_customer_date  \\\n",
       "0          2017-10-04 19:55:00           2017-10-10 21:25:13   \n",
       "1          2018-07-26 14:31:00           2018-08-07 15:27:45   \n",
       "2          2018-08-08 13:50:00           2018-08-17 18:06:29   \n",
       "3          2017-11-22 13:39:59           2017-12-02 00:28:42   \n",
       "4          2018-02-14 19:46:34           2018-02-16 18:17:02   \n",
       "\n",
       "  order_estimated_delivery_date  \n",
       "0           2017-10-18 00:00:00  \n",
       "1           2018-08-13 00:00:00  \n",
       "2           2018-09-04 00:00:00  \n",
       "3           2017-12-15 00:00:00  \n",
       "4           2018-02-26 00:00:00  "
      ]
     },
     "execution_count": 541,
     "metadata": {},
     "output_type": "execute_result"
    }
   ],
   "source": [
    "olist_orders_dataset.head()"
   ]
  },
  {
   "cell_type": "code",
   "execution_count": 542,
   "metadata": {},
   "outputs": [
    {
     "name": "stdout",
     "output_type": "stream",
     "text": [
      "<class 'pandas.core.frame.DataFrame'>\n",
      "RangeIndex: 99441 entries, 0 to 99440\n",
      "Data columns (total 8 columns):\n",
      " #   Column                         Non-Null Count  Dtype         \n",
      "---  ------                         --------------  -----         \n",
      " 0   order_id                       99441 non-null  object        \n",
      " 1   customer_id                    99441 non-null  object        \n",
      " 2   order_status                   99441 non-null  object        \n",
      " 3   order_purchase_timestamp       99441 non-null  datetime64[ns]\n",
      " 4   order_approved_at              99281 non-null  datetime64[ns]\n",
      " 5   order_delivered_carrier_date   97658 non-null  datetime64[ns]\n",
      " 6   order_delivered_customer_date  96476 non-null  datetime64[ns]\n",
      " 7   order_estimated_delivery_date  99441 non-null  datetime64[ns]\n",
      "dtypes: datetime64[ns](5), object(3)\n",
      "memory usage: 6.1+ MB\n"
     ]
    }
   ],
   "source": [
    "olist_orders_dataset['order_purchase_timestamp'] = pd.to_datetime(olist_orders_dataset['order_purchase_timestamp'])\n",
    "olist_orders_dataset['order_approved_at'] = pd.to_datetime(olist_orders_dataset['order_approved_at'])\n",
    "olist_orders_dataset['order_delivered_carrier_date'] = pd.to_datetime(olist_orders_dataset['order_delivered_carrier_date'])\n",
    "olist_orders_dataset['order_delivered_customer_date'] = pd.to_datetime(olist_orders_dataset['order_delivered_customer_date'])\n",
    "olist_orders_dataset['order_estimated_delivery_date'] = pd.to_datetime(olist_orders_dataset['order_estimated_delivery_date'])\n",
    "olist_orders_dataset.info()"
   ]
  },
  {
   "cell_type": "code",
   "execution_count": 543,
   "metadata": {},
   "outputs": [
    {
     "data": {
      "text/html": [
       "<div>\n",
       "<style scoped>\n",
       "    .dataframe tbody tr th:only-of-type {\n",
       "        vertical-align: middle;\n",
       "    }\n",
       "\n",
       "    .dataframe tbody tr th {\n",
       "        vertical-align: top;\n",
       "    }\n",
       "\n",
       "    .dataframe thead th {\n",
       "        text-align: right;\n",
       "    }\n",
       "</style>\n",
       "<table border=\"1\" class=\"dataframe\">\n",
       "  <thead>\n",
       "    <tr style=\"text-align: right;\">\n",
       "      <th></th>\n",
       "      <th>order_id</th>\n",
       "      <th>order_item_id</th>\n",
       "      <th>product_id</th>\n",
       "      <th>seller_id</th>\n",
       "      <th>shipping_limit_date</th>\n",
       "      <th>price</th>\n",
       "      <th>freight_value</th>\n",
       "    </tr>\n",
       "  </thead>\n",
       "  <tbody>\n",
       "    <tr>\n",
       "      <th>0</th>\n",
       "      <td>00010242fe8c5a6d1ba2dd792cb16214</td>\n",
       "      <td>1</td>\n",
       "      <td>4244733e06e7ecb4970a6e2683c13e61</td>\n",
       "      <td>48436dade18ac8b2bce089ec2a041202</td>\n",
       "      <td>2017-09-19 09:45:35</td>\n",
       "      <td>58.90</td>\n",
       "      <td>13.29</td>\n",
       "    </tr>\n",
       "    <tr>\n",
       "      <th>1</th>\n",
       "      <td>00018f77f2f0320c557190d7a144bdd3</td>\n",
       "      <td>1</td>\n",
       "      <td>e5f2d52b802189ee658865ca93d83a8f</td>\n",
       "      <td>dd7ddc04e1b6c2c614352b383efe2d36</td>\n",
       "      <td>2017-05-03 11:05:13</td>\n",
       "      <td>239.90</td>\n",
       "      <td>19.93</td>\n",
       "    </tr>\n",
       "    <tr>\n",
       "      <th>2</th>\n",
       "      <td>000229ec398224ef6ca0657da4fc703e</td>\n",
       "      <td>1</td>\n",
       "      <td>c777355d18b72b67abbeef9df44fd0fd</td>\n",
       "      <td>5b51032eddd242adc84c38acab88f23d</td>\n",
       "      <td>2018-01-18 14:48:30</td>\n",
       "      <td>199.00</td>\n",
       "      <td>17.87</td>\n",
       "    </tr>\n",
       "    <tr>\n",
       "      <th>3</th>\n",
       "      <td>00024acbcdf0a6daa1e931b038114c75</td>\n",
       "      <td>1</td>\n",
       "      <td>7634da152a4610f1595efa32f14722fc</td>\n",
       "      <td>9d7a1d34a5052409006425275ba1c2b4</td>\n",
       "      <td>2018-08-15 10:10:18</td>\n",
       "      <td>12.99</td>\n",
       "      <td>12.79</td>\n",
       "    </tr>\n",
       "    <tr>\n",
       "      <th>4</th>\n",
       "      <td>00042b26cf59d7ce69dfabb4e55b4fd9</td>\n",
       "      <td>1</td>\n",
       "      <td>ac6c3623068f30de03045865e4e10089</td>\n",
       "      <td>df560393f3a51e74553ab94004ba5c87</td>\n",
       "      <td>2017-02-13 13:57:51</td>\n",
       "      <td>199.90</td>\n",
       "      <td>18.14</td>\n",
       "    </tr>\n",
       "  </tbody>\n",
       "</table>\n",
       "</div>"
      ],
      "text/plain": [
       "                           order_id  order_item_id  \\\n",
       "0  00010242fe8c5a6d1ba2dd792cb16214              1   \n",
       "1  00018f77f2f0320c557190d7a144bdd3              1   \n",
       "2  000229ec398224ef6ca0657da4fc703e              1   \n",
       "3  00024acbcdf0a6daa1e931b038114c75              1   \n",
       "4  00042b26cf59d7ce69dfabb4e55b4fd9              1   \n",
       "\n",
       "                         product_id                         seller_id  \\\n",
       "0  4244733e06e7ecb4970a6e2683c13e61  48436dade18ac8b2bce089ec2a041202   \n",
       "1  e5f2d52b802189ee658865ca93d83a8f  dd7ddc04e1b6c2c614352b383efe2d36   \n",
       "2  c777355d18b72b67abbeef9df44fd0fd  5b51032eddd242adc84c38acab88f23d   \n",
       "3  7634da152a4610f1595efa32f14722fc  9d7a1d34a5052409006425275ba1c2b4   \n",
       "4  ac6c3623068f30de03045865e4e10089  df560393f3a51e74553ab94004ba5c87   \n",
       "\n",
       "   shipping_limit_date   price  freight_value  \n",
       "0  2017-09-19 09:45:35   58.90          13.29  \n",
       "1  2017-05-03 11:05:13  239.90          19.93  \n",
       "2  2018-01-18 14:48:30  199.00          17.87  \n",
       "3  2018-08-15 10:10:18   12.99          12.79  \n",
       "4  2017-02-13 13:57:51  199.90          18.14  "
      ]
     },
     "execution_count": 543,
     "metadata": {},
     "output_type": "execute_result"
    }
   ],
   "source": [
    "olist_order_items_dataset.head()"
   ]
  },
  {
   "cell_type": "code",
   "execution_count": 544,
   "metadata": {},
   "outputs": [
    {
     "data": {
      "text/html": [
       "<div>\n",
       "<style scoped>\n",
       "    .dataframe tbody tr th:only-of-type {\n",
       "        vertical-align: middle;\n",
       "    }\n",
       "\n",
       "    .dataframe tbody tr th {\n",
       "        vertical-align: top;\n",
       "    }\n",
       "\n",
       "    .dataframe thead th {\n",
       "        text-align: right;\n",
       "    }\n",
       "</style>\n",
       "<table border=\"1\" class=\"dataframe\">\n",
       "  <thead>\n",
       "    <tr style=\"text-align: right;\">\n",
       "      <th></th>\n",
       "      <th>order_id</th>\n",
       "      <th>order_item_id</th>\n",
       "      <th>product_id</th>\n",
       "      <th>seller_id</th>\n",
       "      <th>shipping_limit_date</th>\n",
       "      <th>price</th>\n",
       "      <th>freight_value</th>\n",
       "    </tr>\n",
       "  </thead>\n",
       "  <tbody>\n",
       "    <tr>\n",
       "      <th>32</th>\n",
       "      <td>00143d0f86d6fbd9f9b38ab440ac16f5</td>\n",
       "      <td>1</td>\n",
       "      <td>e95ee6822b66ac6058e2e4aff656071a</td>\n",
       "      <td>a17f621c590ea0fab3d5d883e1630ec6</td>\n",
       "      <td>2017-10-20 16:07:52</td>\n",
       "      <td>21.33</td>\n",
       "      <td>15.1</td>\n",
       "    </tr>\n",
       "    <tr>\n",
       "      <th>33</th>\n",
       "      <td>00143d0f86d6fbd9f9b38ab440ac16f5</td>\n",
       "      <td>2</td>\n",
       "      <td>e95ee6822b66ac6058e2e4aff656071a</td>\n",
       "      <td>a17f621c590ea0fab3d5d883e1630ec6</td>\n",
       "      <td>2017-10-20 16:07:52</td>\n",
       "      <td>21.33</td>\n",
       "      <td>15.1</td>\n",
       "    </tr>\n",
       "    <tr>\n",
       "      <th>34</th>\n",
       "      <td>00143d0f86d6fbd9f9b38ab440ac16f5</td>\n",
       "      <td>3</td>\n",
       "      <td>e95ee6822b66ac6058e2e4aff656071a</td>\n",
       "      <td>a17f621c590ea0fab3d5d883e1630ec6</td>\n",
       "      <td>2017-10-20 16:07:52</td>\n",
       "      <td>21.33</td>\n",
       "      <td>15.1</td>\n",
       "    </tr>\n",
       "  </tbody>\n",
       "</table>\n",
       "</div>"
      ],
      "text/plain": [
       "                            order_id  order_item_id  \\\n",
       "32  00143d0f86d6fbd9f9b38ab440ac16f5              1   \n",
       "33  00143d0f86d6fbd9f9b38ab440ac16f5              2   \n",
       "34  00143d0f86d6fbd9f9b38ab440ac16f5              3   \n",
       "\n",
       "                          product_id                         seller_id  \\\n",
       "32  e95ee6822b66ac6058e2e4aff656071a  a17f621c590ea0fab3d5d883e1630ec6   \n",
       "33  e95ee6822b66ac6058e2e4aff656071a  a17f621c590ea0fab3d5d883e1630ec6   \n",
       "34  e95ee6822b66ac6058e2e4aff656071a  a17f621c590ea0fab3d5d883e1630ec6   \n",
       "\n",
       "    shipping_limit_date  price  freight_value  \n",
       "32  2017-10-20 16:07:52  21.33           15.1  \n",
       "33  2017-10-20 16:07:52  21.33           15.1  \n",
       "34  2017-10-20 16:07:52  21.33           15.1  "
      ]
     },
     "execution_count": 544,
     "metadata": {},
     "output_type": "execute_result"
    }
   ],
   "source": [
    "olist_order_items_dataset[olist_order_items_dataset['order_id'] == '00143d0f86d6fbd9f9b38ab440ac16f5']"
   ]
  },
  {
   "cell_type": "code",
   "execution_count": 545,
   "metadata": {
    "scrolled": true
   },
   "outputs": [
    {
     "name": "stdout",
     "output_type": "stream",
     "text": [
      "<class 'pandas.core.frame.DataFrame'>\n",
      "RangeIndex: 112650 entries, 0 to 112649\n",
      "Data columns (total 7 columns):\n",
      " #   Column               Non-Null Count   Dtype         \n",
      "---  ------               --------------   -----         \n",
      " 0   order_id             112650 non-null  object        \n",
      " 1   order_item_id        112650 non-null  int64         \n",
      " 2   product_id           112650 non-null  object        \n",
      " 3   seller_id            112650 non-null  object        \n",
      " 4   shipping_limit_date  112650 non-null  datetime64[ns]\n",
      " 5   price                112650 non-null  float64       \n",
      " 6   freight_value        112650 non-null  float64       \n",
      "dtypes: datetime64[ns](1), float64(2), int64(1), object(3)\n",
      "memory usage: 6.0+ MB\n"
     ]
    }
   ],
   "source": [
    "olist_order_items_dataset['shipping_limit_date'] = pd.to_datetime(olist_order_items_dataset['shipping_limit_date'])\n",
    "olist_order_items_dataset.info()"
   ]
  },
  {
   "cell_type": "markdown",
   "metadata": {},
   "source": [
    "# Задача 1. Оценить месячный retention в оформление заказа с помощью когортного анализа."
   ]
  },
  {
   "cell_type": "code",
   "execution_count": 546,
   "metadata": {},
   "outputs": [],
   "source": [
    "#Отфильтруем по статусу \"Доставлено\", и соединим две талблицы для получения customer_unique_id\n",
    "delivered_orders = olist_orders_dataset.query('order_status==\"delivered\"')\n",
    "delivered_orders = delivered_orders.merge(olist_customers_dataset[['customer_id', 'customer_unique_id']], how = 'left', on='customer_id')"
   ]
  },
  {
   "cell_type": "code",
   "execution_count": 547,
   "metadata": {},
   "outputs": [],
   "source": [
    "# Создадим две новые колнки с типом \"Период\"\n",
    "delivered_orders['order_period'] = delivered_orders['order_purchase_timestamp'].dt.to_period('M') \n",
    "delivered_orders['order_period_day'] = delivered_orders['order_purchase_timestamp'].dt.to_period('D')\n"
   ]
  },
  {
   "cell_type": "code",
   "execution_count": 548,
   "metadata": {},
   "outputs": [],
   "source": [
    "# Создадим две колонки и найдем первые совершенные заказы\n",
    "delivered_orders['cohort'] = delivered_orders.groupby('customer_unique_id')['order_purchase_timestamp'].transform('min').dt.to_period('M')\n",
    "delivered_orders['cohort_day'] = delivered_orders.groupby('customer_unique_id')['order_purchase_timestamp'].transform('min').dt.to_period('D')\n"
   ]
  },
  {
   "cell_type": "code",
   "execution_count": 549,
   "metadata": {},
   "outputs": [],
   "source": [
    "# Посчитаем сколько по полным месяцам нахождение пользователя в периоде\n",
    "delivered_orders['period_number_month'] = np.floor((delivered_orders.order_period_day - delivered_orders.cohort_day).apply(attrgetter('n')) / 30)\n"
   ]
  },
  {
   "cell_type": "code",
   "execution_count": 550,
   "metadata": {
    "scrolled": true
   },
   "outputs": [],
   "source": [
    "# Сгруппируем по когорте и периоду\n",
    "df_cohort = delivered_orders.groupby(['cohort', 'period_number_month']).agg(n_customers=('customer_unique_id', 'nunique')).reset_index()"
   ]
  },
  {
   "cell_type": "code",
   "execution_count": 551,
   "metadata": {},
   "outputs": [],
   "source": [
    "#Выведем таблицу по когортам\n",
    "df_pivot = df_cohort.pivot_table(index='cohort', columns='period_number_month', values = 'n_customers')"
   ]
  },
  {
   "cell_type": "code",
   "execution_count": 552,
   "metadata": {},
   "outputs": [],
   "source": [
    "# Подготовим данные для тепловой карты\n",
    "cohort_size = df_pivot.iloc[:, 0]\n",
    "retention_matrix = df_pivot.divide(cohort_size, axis = 0)"
   ]
  },
  {
   "cell_type": "code",
   "execution_count": 553,
   "metadata": {},
   "outputs": [
    {
     "data": {
      "image/png": "[encoded data removed]",
      "text/plain": [
       "<Figure size 1152x864 with 3 Axes>"
      ]
     },
     "metadata": {},
     "output_type": "display_data"
    }
   ],
   "source": [
    "# Выведем тепловую карту\n",
    "with sns.axes_style(\"white\"):\n",
    "    fig, ax = plt.subplots(1, 2, figsize=(16,12), sharey=True, gridspec_kw={'width_ratios': [1, 11]})\n",
    "    sns.heatmap(retention_matrix,\n",
    "                mask=retention_matrix.isnull(),\n",
    "               annot=True,\n",
    "               fmt='.0%',\n",
    "               cmap='RdYlGn',\n",
    "               ax=ax[1])\n",
    "    ax[1].set_title('Monthly Retention', fontsize=16)\n",
    "    ax[1].set(xlabel='№ периода', ylabel='Когорта')\n",
    "    \n",
    "    cohort_size_df = pd.DataFrame(cohort_size).rename(columns={0: 'cohort_size'})\n",
    "    white_cmap = mcolors.ListedColormap(['white'])\n",
    "    sns.heatmap(cohort_size_df,\n",
    "               annot=True,\n",
    "               cbar=False,\n",
    "               fmt='g',\n",
    "               cmap=white_cmap,\n",
    "               ax=ax[0])\n",
    "    \n",
    "    fig.tight_layout()\n",
    "    plt.show()"
   ]
  },
  {
   "cell_type": "code",
   "execution_count": 554,
   "metadata": {},
   "outputs": [
    {
     "name": "stdout",
     "output_type": "stream",
     "text": [
      "Медианный retention 1-го месяца равен 0.0035460992907801418.\n"
     ]
    }
   ],
   "source": [
    "print(f'Медианный retention 1-го месяца равен {retention_matrix[1.0].median()}.')"
   ]
  },
  {
   "cell_type": "code",
   "execution_count": 555,
   "metadata": {},
   "outputs": [
    {
     "name": "stdout",
     "output_type": "stream",
     "text": [
      "Когортой с самым высоким retention на 3-й месяц является 2017-01, retention равен 0.0056.\n"
     ]
    }
   ],
   "source": [
    "cohort_m = retention_matrix[retention_matrix[3] == retention_matrix[3].max()].index.tolist()\n",
    "max_ret = retention_matrix[3].max()\n",
    "print(f'Когортой с самым высоким retention на 3-й месяц является {str(cohort_m)[9:16]}, retention равен {max_ret.round(4)}.')"
   ]
  },
  {
   "cell_type": "markdown",
   "metadata": {},
   "source": [
    "# Задача 2. Определить, существует ли product/market fit у маркетплейса."
   ]
  },
  {
   "cell_type": "markdown",
   "metadata": {},
   "source": [
    "Если смотреть на ретеншн в количестве людей, то мы видим что продукт/маркетфит отсутствует из-за околонулевой возвращаемости клиентов, но в тоже время у нас хорошо работает привлекаемость клиентов, кроме последних периодов, так как мы видим увеличение в нулевой период из когорты в когорту. Но даже в последние пол года, клиенты, в среднем, держатся на одном уровне\n",
    "\n",
    "Вывод: нужно сконцентрироваться на удержании клиентов в продукте."
   ]
  },
  {
   "cell_type": "code",
   "execution_count": 556,
   "metadata": {
    "scrolled": true
   },
   "outputs": [
    {
     "data": {
      "text/html": [
       "<div>\n",
       "<style scoped>\n",
       "    .dataframe tbody tr th:only-of-type {\n",
       "        vertical-align: middle;\n",
       "    }\n",
       "\n",
       "    .dataframe tbody tr th {\n",
       "        vertical-align: top;\n",
       "    }\n",
       "\n",
       "    .dataframe thead th {\n",
       "        text-align: right;\n",
       "    }\n",
       "</style>\n",
       "<table border=\"1\" class=\"dataframe\">\n",
       "  <thead>\n",
       "    <tr style=\"text-align: right;\">\n",
       "      <th>period_number_month</th>\n",
       "      <th>0.0</th>\n",
       "      <th>1.0</th>\n",
       "      <th>2.0</th>\n",
       "      <th>3.0</th>\n",
       "      <th>4.0</th>\n",
       "      <th>5.0</th>\n",
       "      <th>6.0</th>\n",
       "      <th>7.0</th>\n",
       "      <th>8.0</th>\n",
       "      <th>9.0</th>\n",
       "      <th>...</th>\n",
       "      <th>11.0</th>\n",
       "      <th>12.0</th>\n",
       "      <th>13.0</th>\n",
       "      <th>14.0</th>\n",
       "      <th>15.0</th>\n",
       "      <th>16.0</th>\n",
       "      <th>17.0</th>\n",
       "      <th>19.0</th>\n",
       "      <th>20.0</th>\n",
       "      <th>21.0</th>\n",
       "    </tr>\n",
       "    <tr>\n",
       "      <th>cohort</th>\n",
       "      <th></th>\n",
       "      <th></th>\n",
       "      <th></th>\n",
       "      <th></th>\n",
       "      <th></th>\n",
       "      <th></th>\n",
       "      <th></th>\n",
       "      <th></th>\n",
       "      <th></th>\n",
       "      <th></th>\n",
       "      <th></th>\n",
       "      <th></th>\n",
       "      <th></th>\n",
       "      <th></th>\n",
       "      <th></th>\n",
       "      <th></th>\n",
       "      <th></th>\n",
       "      <th></th>\n",
       "      <th></th>\n",
       "      <th></th>\n",
       "      <th></th>\n",
       "    </tr>\n",
       "  </thead>\n",
       "  <tbody>\n",
       "    <tr>\n",
       "      <th>2016-09</th>\n",
       "      <td>1.0</td>\n",
       "      <td>0.0</td>\n",
       "      <td>0.0</td>\n",
       "      <td>0.0</td>\n",
       "      <td>0.0</td>\n",
       "      <td>0.0</td>\n",
       "      <td>0.0</td>\n",
       "      <td>0.0</td>\n",
       "      <td>0.0</td>\n",
       "      <td>0.0</td>\n",
       "      <td>...</td>\n",
       "      <td>0.0</td>\n",
       "      <td>0.0</td>\n",
       "      <td>0.0</td>\n",
       "      <td>0.0</td>\n",
       "      <td>0.0</td>\n",
       "      <td>0.0</td>\n",
       "      <td>0.0</td>\n",
       "      <td>0.0</td>\n",
       "      <td>0.0</td>\n",
       "      <td>0.0</td>\n",
       "    </tr>\n",
       "    <tr>\n",
       "      <th>2016-10</th>\n",
       "      <td>262.0</td>\n",
       "      <td>0.0</td>\n",
       "      <td>0.0</td>\n",
       "      <td>0.0</td>\n",
       "      <td>0.0</td>\n",
       "      <td>0.0</td>\n",
       "      <td>1.0</td>\n",
       "      <td>0.0</td>\n",
       "      <td>0.0</td>\n",
       "      <td>1.0</td>\n",
       "      <td>...</td>\n",
       "      <td>1.0</td>\n",
       "      <td>0.0</td>\n",
       "      <td>1.0</td>\n",
       "      <td>0.0</td>\n",
       "      <td>1.0</td>\n",
       "      <td>0.0</td>\n",
       "      <td>1.0</td>\n",
       "      <td>2.0</td>\n",
       "      <td>1.0</td>\n",
       "      <td>1.0</td>\n",
       "    </tr>\n",
       "    <tr>\n",
       "      <th>2016-12</th>\n",
       "      <td>1.0</td>\n",
       "      <td>0.0</td>\n",
       "      <td>0.0</td>\n",
       "      <td>0.0</td>\n",
       "      <td>0.0</td>\n",
       "      <td>0.0</td>\n",
       "      <td>0.0</td>\n",
       "      <td>0.0</td>\n",
       "      <td>0.0</td>\n",
       "      <td>0.0</td>\n",
       "      <td>...</td>\n",
       "      <td>0.0</td>\n",
       "      <td>0.0</td>\n",
       "      <td>0.0</td>\n",
       "      <td>0.0</td>\n",
       "      <td>0.0</td>\n",
       "      <td>0.0</td>\n",
       "      <td>0.0</td>\n",
       "      <td>0.0</td>\n",
       "      <td>0.0</td>\n",
       "      <td>0.0</td>\n",
       "    </tr>\n",
       "    <tr>\n",
       "      <th>2017-01</th>\n",
       "      <td>717.0</td>\n",
       "      <td>2.0</td>\n",
       "      <td>0.0</td>\n",
       "      <td>4.0</td>\n",
       "      <td>1.0</td>\n",
       "      <td>1.0</td>\n",
       "      <td>2.0</td>\n",
       "      <td>2.0</td>\n",
       "      <td>0.0</td>\n",
       "      <td>0.0</td>\n",
       "      <td>...</td>\n",
       "      <td>4.0</td>\n",
       "      <td>3.0</td>\n",
       "      <td>2.0</td>\n",
       "      <td>0.0</td>\n",
       "      <td>2.0</td>\n",
       "      <td>2.0</td>\n",
       "      <td>2.0</td>\n",
       "      <td>1.0</td>\n",
       "      <td>0.0</td>\n",
       "      <td>0.0</td>\n",
       "    </tr>\n",
       "    <tr>\n",
       "      <th>2017-02</th>\n",
       "      <td>1628.0</td>\n",
       "      <td>2.0</td>\n",
       "      <td>3.0</td>\n",
       "      <td>6.0</td>\n",
       "      <td>4.0</td>\n",
       "      <td>2.0</td>\n",
       "      <td>4.0</td>\n",
       "      <td>1.0</td>\n",
       "      <td>2.0</td>\n",
       "      <td>4.0</td>\n",
       "      <td>...</td>\n",
       "      <td>6.0</td>\n",
       "      <td>1.0</td>\n",
       "      <td>3.0</td>\n",
       "      <td>2.0</td>\n",
       "      <td>1.0</td>\n",
       "      <td>1.0</td>\n",
       "      <td>3.0</td>\n",
       "      <td>0.0</td>\n",
       "      <td>0.0</td>\n",
       "      <td>0.0</td>\n",
       "    </tr>\n",
       "    <tr>\n",
       "      <th>2017-03</th>\n",
       "      <td>2503.0</td>\n",
       "      <td>7.0</td>\n",
       "      <td>13.0</td>\n",
       "      <td>11.0</td>\n",
       "      <td>3.0</td>\n",
       "      <td>2.0</td>\n",
       "      <td>9.0</td>\n",
       "      <td>4.0</td>\n",
       "      <td>6.0</td>\n",
       "      <td>6.0</td>\n",
       "      <td>...</td>\n",
       "      <td>4.0</td>\n",
       "      <td>4.0</td>\n",
       "      <td>3.0</td>\n",
       "      <td>7.0</td>\n",
       "      <td>2.0</td>\n",
       "      <td>3.0</td>\n",
       "      <td>2.0</td>\n",
       "      <td>0.0</td>\n",
       "      <td>0.0</td>\n",
       "      <td>0.0</td>\n",
       "    </tr>\n",
       "    <tr>\n",
       "      <th>2017-04</th>\n",
       "      <td>2256.0</td>\n",
       "      <td>8.0</td>\n",
       "      <td>6.0</td>\n",
       "      <td>1.0</td>\n",
       "      <td>6.0</td>\n",
       "      <td>8.0</td>\n",
       "      <td>6.0</td>\n",
       "      <td>10.0</td>\n",
       "      <td>5.0</td>\n",
       "      <td>6.0</td>\n",
       "      <td>...</td>\n",
       "      <td>3.0</td>\n",
       "      <td>0.0</td>\n",
       "      <td>2.0</td>\n",
       "      <td>2.0</td>\n",
       "      <td>2.0</td>\n",
       "      <td>2.0</td>\n",
       "      <td>0.0</td>\n",
       "      <td>0.0</td>\n",
       "      <td>0.0</td>\n",
       "      <td>0.0</td>\n",
       "    </tr>\n",
       "    <tr>\n",
       "      <th>2017-05</th>\n",
       "      <td>3451.0</td>\n",
       "      <td>14.0</td>\n",
       "      <td>14.0</td>\n",
       "      <td>8.0</td>\n",
       "      <td>13.0</td>\n",
       "      <td>11.0</td>\n",
       "      <td>11.0</td>\n",
       "      <td>4.0</td>\n",
       "      <td>10.0</td>\n",
       "      <td>9.0</td>\n",
       "      <td>...</td>\n",
       "      <td>11.0</td>\n",
       "      <td>6.0</td>\n",
       "      <td>3.0</td>\n",
       "      <td>7.0</td>\n",
       "      <td>4.0</td>\n",
       "      <td>0.0</td>\n",
       "      <td>0.0</td>\n",
       "      <td>0.0</td>\n",
       "      <td>0.0</td>\n",
       "      <td>0.0</td>\n",
       "    </tr>\n",
       "    <tr>\n",
       "      <th>2017-06</th>\n",
       "      <td>3037.0</td>\n",
       "      <td>13.0</td>\n",
       "      <td>15.0</td>\n",
       "      <td>11.0</td>\n",
       "      <td>5.0</td>\n",
       "      <td>16.0</td>\n",
       "      <td>9.0</td>\n",
       "      <td>6.0</td>\n",
       "      <td>4.0</td>\n",
       "      <td>10.0</td>\n",
       "      <td>...</td>\n",
       "      <td>9.0</td>\n",
       "      <td>3.0</td>\n",
       "      <td>9.0</td>\n",
       "      <td>4.0</td>\n",
       "      <td>0.0</td>\n",
       "      <td>0.0</td>\n",
       "      <td>0.0</td>\n",
       "      <td>0.0</td>\n",
       "      <td>0.0</td>\n",
       "      <td>0.0</td>\n",
       "    </tr>\n",
       "    <tr>\n",
       "      <th>2017-07</th>\n",
       "      <td>3752.0</td>\n",
       "      <td>14.0</td>\n",
       "      <td>10.0</td>\n",
       "      <td>9.0</td>\n",
       "      <td>12.0</td>\n",
       "      <td>7.0</td>\n",
       "      <td>10.0</td>\n",
       "      <td>7.0</td>\n",
       "      <td>5.0</td>\n",
       "      <td>10.0</td>\n",
       "      <td>...</td>\n",
       "      <td>9.0</td>\n",
       "      <td>6.0</td>\n",
       "      <td>7.0</td>\n",
       "      <td>0.0</td>\n",
       "      <td>0.0</td>\n",
       "      <td>0.0</td>\n",
       "      <td>0.0</td>\n",
       "      <td>0.0</td>\n",
       "      <td>0.0</td>\n",
       "      <td>0.0</td>\n",
       "    </tr>\n",
       "    <tr>\n",
       "      <th>2017-08</th>\n",
       "      <td>4057.0</td>\n",
       "      <td>27.0</td>\n",
       "      <td>10.0</td>\n",
       "      <td>14.0</td>\n",
       "      <td>15.0</td>\n",
       "      <td>19.0</td>\n",
       "      <td>10.0</td>\n",
       "      <td>10.0</td>\n",
       "      <td>6.0</td>\n",
       "      <td>7.0</td>\n",
       "      <td>...</td>\n",
       "      <td>7.0</td>\n",
       "      <td>3.0</td>\n",
       "      <td>0.0</td>\n",
       "      <td>0.0</td>\n",
       "      <td>0.0</td>\n",
       "      <td>0.0</td>\n",
       "      <td>0.0</td>\n",
       "      <td>0.0</td>\n",
       "      <td>0.0</td>\n",
       "      <td>0.0</td>\n",
       "    </tr>\n",
       "    <tr>\n",
       "      <th>2017-09</th>\n",
       "      <td>4004.0</td>\n",
       "      <td>21.0</td>\n",
       "      <td>18.0</td>\n",
       "      <td>13.0</td>\n",
       "      <td>14.0</td>\n",
       "      <td>9.0</td>\n",
       "      <td>11.0</td>\n",
       "      <td>6.0</td>\n",
       "      <td>13.0</td>\n",
       "      <td>7.0</td>\n",
       "      <td>...</td>\n",
       "      <td>1.0</td>\n",
       "      <td>0.0</td>\n",
       "      <td>0.0</td>\n",
       "      <td>0.0</td>\n",
       "      <td>0.0</td>\n",
       "      <td>0.0</td>\n",
       "      <td>0.0</td>\n",
       "      <td>0.0</td>\n",
       "      <td>0.0</td>\n",
       "      <td>0.0</td>\n",
       "    </tr>\n",
       "    <tr>\n",
       "      <th>2017-10</th>\n",
       "      <td>4328.0</td>\n",
       "      <td>26.0</td>\n",
       "      <td>4.0</td>\n",
       "      <td>5.0</td>\n",
       "      <td>13.0</td>\n",
       "      <td>6.0</td>\n",
       "      <td>12.0</td>\n",
       "      <td>17.0</td>\n",
       "      <td>11.0</td>\n",
       "      <td>9.0</td>\n",
       "      <td>...</td>\n",
       "      <td>0.0</td>\n",
       "      <td>0.0</td>\n",
       "      <td>0.0</td>\n",
       "      <td>0.0</td>\n",
       "      <td>0.0</td>\n",
       "      <td>0.0</td>\n",
       "      <td>0.0</td>\n",
       "      <td>0.0</td>\n",
       "      <td>0.0</td>\n",
       "      <td>0.0</td>\n",
       "    </tr>\n",
       "    <tr>\n",
       "      <th>2017-11</th>\n",
       "      <td>7060.0</td>\n",
       "      <td>25.0</td>\n",
       "      <td>19.0</td>\n",
       "      <td>11.0</td>\n",
       "      <td>11.0</td>\n",
       "      <td>14.0</td>\n",
       "      <td>8.0</td>\n",
       "      <td>13.0</td>\n",
       "      <td>5.0</td>\n",
       "      <td>2.0</td>\n",
       "      <td>...</td>\n",
       "      <td>0.0</td>\n",
       "      <td>0.0</td>\n",
       "      <td>0.0</td>\n",
       "      <td>0.0</td>\n",
       "      <td>0.0</td>\n",
       "      <td>0.0</td>\n",
       "      <td>0.0</td>\n",
       "      <td>0.0</td>\n",
       "      <td>0.0</td>\n",
       "      <td>0.0</td>\n",
       "    </tr>\n",
       "    <tr>\n",
       "      <th>2017-12</th>\n",
       "      <td>5338.0</td>\n",
       "      <td>14.0</td>\n",
       "      <td>19.0</td>\n",
       "      <td>10.0</td>\n",
       "      <td>16.0</td>\n",
       "      <td>9.0</td>\n",
       "      <td>5.0</td>\n",
       "      <td>6.0</td>\n",
       "      <td>5.0</td>\n",
       "      <td>0.0</td>\n",
       "      <td>...</td>\n",
       "      <td>0.0</td>\n",
       "      <td>0.0</td>\n",
       "      <td>0.0</td>\n",
       "      <td>0.0</td>\n",
       "      <td>0.0</td>\n",
       "      <td>0.0</td>\n",
       "      <td>0.0</td>\n",
       "      <td>0.0</td>\n",
       "      <td>0.0</td>\n",
       "      <td>0.0</td>\n",
       "    </tr>\n",
       "    <tr>\n",
       "      <th>2018-01</th>\n",
       "      <td>6842.0</td>\n",
       "      <td>22.0</td>\n",
       "      <td>22.0</td>\n",
       "      <td>23.0</td>\n",
       "      <td>11.0</td>\n",
       "      <td>13.0</td>\n",
       "      <td>17.0</td>\n",
       "      <td>6.0</td>\n",
       "      <td>0.0</td>\n",
       "      <td>0.0</td>\n",
       "      <td>...</td>\n",
       "      <td>0.0</td>\n",
       "      <td>0.0</td>\n",
       "      <td>0.0</td>\n",
       "      <td>0.0</td>\n",
       "      <td>0.0</td>\n",
       "      <td>0.0</td>\n",
       "      <td>0.0</td>\n",
       "      <td>0.0</td>\n",
       "      <td>0.0</td>\n",
       "      <td>0.0</td>\n",
       "    </tr>\n",
       "    <tr>\n",
       "      <th>2018-02</th>\n",
       "      <td>6288.0</td>\n",
       "      <td>22.0</td>\n",
       "      <td>23.0</td>\n",
       "      <td>17.0</td>\n",
       "      <td>15.0</td>\n",
       "      <td>12.0</td>\n",
       "      <td>6.0</td>\n",
       "      <td>0.0</td>\n",
       "      <td>0.0</td>\n",
       "      <td>0.0</td>\n",
       "      <td>...</td>\n",
       "      <td>0.0</td>\n",
       "      <td>0.0</td>\n",
       "      <td>0.0</td>\n",
       "      <td>0.0</td>\n",
       "      <td>0.0</td>\n",
       "      <td>0.0</td>\n",
       "      <td>0.0</td>\n",
       "      <td>0.0</td>\n",
       "      <td>0.0</td>\n",
       "      <td>0.0</td>\n",
       "    </tr>\n",
       "    <tr>\n",
       "      <th>2018-03</th>\n",
       "      <td>6774.0</td>\n",
       "      <td>25.0</td>\n",
       "      <td>10.0</td>\n",
       "      <td>16.0</td>\n",
       "      <td>11.0</td>\n",
       "      <td>3.0</td>\n",
       "      <td>0.0</td>\n",
       "      <td>0.0</td>\n",
       "      <td>0.0</td>\n",
       "      <td>0.0</td>\n",
       "      <td>...</td>\n",
       "      <td>0.0</td>\n",
       "      <td>0.0</td>\n",
       "      <td>0.0</td>\n",
       "      <td>0.0</td>\n",
       "      <td>0.0</td>\n",
       "      <td>0.0</td>\n",
       "      <td>0.0</td>\n",
       "      <td>0.0</td>\n",
       "      <td>0.0</td>\n",
       "      <td>0.0</td>\n",
       "    </tr>\n",
       "    <tr>\n",
       "      <th>2018-04</th>\n",
       "      <td>6582.0</td>\n",
       "      <td>30.0</td>\n",
       "      <td>11.0</td>\n",
       "      <td>15.0</td>\n",
       "      <td>6.0</td>\n",
       "      <td>0.0</td>\n",
       "      <td>0.0</td>\n",
       "      <td>0.0</td>\n",
       "      <td>0.0</td>\n",
       "      <td>0.0</td>\n",
       "      <td>...</td>\n",
       "      <td>0.0</td>\n",
       "      <td>0.0</td>\n",
       "      <td>0.0</td>\n",
       "      <td>0.0</td>\n",
       "      <td>0.0</td>\n",
       "      <td>0.0</td>\n",
       "      <td>0.0</td>\n",
       "      <td>0.0</td>\n",
       "      <td>0.0</td>\n",
       "      <td>0.0</td>\n",
       "    </tr>\n",
       "    <tr>\n",
       "      <th>2018-05</th>\n",
       "      <td>6506.0</td>\n",
       "      <td>19.0</td>\n",
       "      <td>21.0</td>\n",
       "      <td>4.0</td>\n",
       "      <td>0.0</td>\n",
       "      <td>0.0</td>\n",
       "      <td>0.0</td>\n",
       "      <td>0.0</td>\n",
       "      <td>0.0</td>\n",
       "      <td>0.0</td>\n",
       "      <td>...</td>\n",
       "      <td>0.0</td>\n",
       "      <td>0.0</td>\n",
       "      <td>0.0</td>\n",
       "      <td>0.0</td>\n",
       "      <td>0.0</td>\n",
       "      <td>0.0</td>\n",
       "      <td>0.0</td>\n",
       "      <td>0.0</td>\n",
       "      <td>0.0</td>\n",
       "      <td>0.0</td>\n",
       "    </tr>\n",
       "    <tr>\n",
       "      <th>2018-06</th>\n",
       "      <td>5878.0</td>\n",
       "      <td>22.0</td>\n",
       "      <td>6.0</td>\n",
       "      <td>0.0</td>\n",
       "      <td>0.0</td>\n",
       "      <td>0.0</td>\n",
       "      <td>0.0</td>\n",
       "      <td>0.0</td>\n",
       "      <td>0.0</td>\n",
       "      <td>0.0</td>\n",
       "      <td>...</td>\n",
       "      <td>0.0</td>\n",
       "      <td>0.0</td>\n",
       "      <td>0.0</td>\n",
       "      <td>0.0</td>\n",
       "      <td>0.0</td>\n",
       "      <td>0.0</td>\n",
       "      <td>0.0</td>\n",
       "      <td>0.0</td>\n",
       "      <td>0.0</td>\n",
       "      <td>0.0</td>\n",
       "    </tr>\n",
       "    <tr>\n",
       "      <th>2018-07</th>\n",
       "      <td>5949.0</td>\n",
       "      <td>6.0</td>\n",
       "      <td>0.0</td>\n",
       "      <td>0.0</td>\n",
       "      <td>0.0</td>\n",
       "      <td>0.0</td>\n",
       "      <td>0.0</td>\n",
       "      <td>0.0</td>\n",
       "      <td>0.0</td>\n",
       "      <td>0.0</td>\n",
       "      <td>...</td>\n",
       "      <td>0.0</td>\n",
       "      <td>0.0</td>\n",
       "      <td>0.0</td>\n",
       "      <td>0.0</td>\n",
       "      <td>0.0</td>\n",
       "      <td>0.0</td>\n",
       "      <td>0.0</td>\n",
       "      <td>0.0</td>\n",
       "      <td>0.0</td>\n",
       "      <td>0.0</td>\n",
       "    </tr>\n",
       "    <tr>\n",
       "      <th>2018-08</th>\n",
       "      <td>6144.0</td>\n",
       "      <td>0.0</td>\n",
       "      <td>0.0</td>\n",
       "      <td>0.0</td>\n",
       "      <td>0.0</td>\n",
       "      <td>0.0</td>\n",
       "      <td>0.0</td>\n",
       "      <td>0.0</td>\n",
       "      <td>0.0</td>\n",
       "      <td>0.0</td>\n",
       "      <td>...</td>\n",
       "      <td>0.0</td>\n",
       "      <td>0.0</td>\n",
       "      <td>0.0</td>\n",
       "      <td>0.0</td>\n",
       "      <td>0.0</td>\n",
       "      <td>0.0</td>\n",
       "      <td>0.0</td>\n",
       "      <td>0.0</td>\n",
       "      <td>0.0</td>\n",
       "      <td>0.0</td>\n",
       "    </tr>\n",
       "  </tbody>\n",
       "</table>\n",
       "<p>23 rows × 21 columns</p>\n",
       "</div>"
      ],
      "text/plain": [
       "period_number_month    0.0   1.0   2.0   3.0   4.0   5.0   6.0   7.0   8.0   \\\n",
       "cohort                                                                        \n",
       "2016-09                 1.0   0.0   0.0   0.0   0.0   0.0   0.0   0.0   0.0   \n",
       "2016-10               262.0   0.0   0.0   0.0   0.0   0.0   1.0   0.0   0.0   \n",
       "2016-12                 1.0   0.0   0.0   0.0   0.0   0.0   0.0   0.0   0.0   \n",
       "2017-01               717.0   2.0   0.0   4.0   1.0   1.0   2.0   2.0   0.0   \n",
       "2017-02              1628.0   2.0   3.0   6.0   4.0   2.0   4.0   1.0   2.0   \n",
       "2017-03              2503.0   7.0  13.0  11.0   3.0   2.0   9.0   4.0   6.0   \n",
       "2017-04              2256.0   8.0   6.0   1.0   6.0   8.0   6.0  10.0   5.0   \n",
       "2017-05              3451.0  14.0  14.0   8.0  13.0  11.0  11.0   4.0  10.0   \n",
       "2017-06              3037.0  13.0  15.0  11.0   5.0  16.0   9.0   6.0   4.0   \n",
       "2017-07              3752.0  14.0  10.0   9.0  12.0   7.0  10.0   7.0   5.0   \n",
       "2017-08              4057.0  27.0  10.0  14.0  15.0  19.0  10.0  10.0   6.0   \n",
       "2017-09              4004.0  21.0  18.0  13.0  14.0   9.0  11.0   6.0  13.0   \n",
       "2017-10              4328.0  26.0   4.0   5.0  13.0   6.0  12.0  17.0  11.0   \n",
       "2017-11              7060.0  25.0  19.0  11.0  11.0  14.0   8.0  13.0   5.0   \n",
       "2017-12              5338.0  14.0  19.0  10.0  16.0   9.0   5.0   6.0   5.0   \n",
       "2018-01              6842.0  22.0  22.0  23.0  11.0  13.0  17.0   6.0   0.0   \n",
       "2018-02              6288.0  22.0  23.0  17.0  15.0  12.0   6.0   0.0   0.0   \n",
       "2018-03              6774.0  25.0  10.0  16.0  11.0   3.0   0.0   0.0   0.0   \n",
       "2018-04              6582.0  30.0  11.0  15.0   6.0   0.0   0.0   0.0   0.0   \n",
       "2018-05              6506.0  19.0  21.0   4.0   0.0   0.0   0.0   0.0   0.0   \n",
       "2018-06              5878.0  22.0   6.0   0.0   0.0   0.0   0.0   0.0   0.0   \n",
       "2018-07              5949.0   6.0   0.0   0.0   0.0   0.0   0.0   0.0   0.0   \n",
       "2018-08              6144.0   0.0   0.0   0.0   0.0   0.0   0.0   0.0   0.0   \n",
       "\n",
       "period_number_month  9.0   ...  11.0  12.0  13.0  14.0  15.0  16.0  17.0  \\\n",
       "cohort                     ...                                             \n",
       "2016-09               0.0  ...   0.0   0.0   0.0   0.0   0.0   0.0   0.0   \n",
       "2016-10               1.0  ...   1.0   0.0   1.0   0.0   1.0   0.0   1.0   \n",
       "2016-12               0.0  ...   0.0   0.0   0.0   0.0   0.0   0.0   0.0   \n",
       "2017-01               0.0  ...   4.0   3.0   2.0   0.0   2.0   2.0   2.0   \n",
       "2017-02               4.0  ...   6.0   1.0   3.0   2.0   1.0   1.0   3.0   \n",
       "2017-03               6.0  ...   4.0   4.0   3.0   7.0   2.0   3.0   2.0   \n",
       "2017-04               6.0  ...   3.0   0.0   2.0   2.0   2.0   2.0   0.0   \n",
       "2017-05               9.0  ...  11.0   6.0   3.0   7.0   4.0   0.0   0.0   \n",
       "2017-06              10.0  ...   9.0   3.0   9.0   4.0   0.0   0.0   0.0   \n",
       "2017-07              10.0  ...   9.0   6.0   7.0   0.0   0.0   0.0   0.0   \n",
       "2017-08               7.0  ...   7.0   3.0   0.0   0.0   0.0   0.0   0.0   \n",
       "2017-09               7.0  ...   1.0   0.0   0.0   0.0   0.0   0.0   0.0   \n",
       "2017-10               9.0  ...   0.0   0.0   0.0   0.0   0.0   0.0   0.0   \n",
       "2017-11               2.0  ...   0.0   0.0   0.0   0.0   0.0   0.0   0.0   \n",
       "2017-12               0.0  ...   0.0   0.0   0.0   0.0   0.0   0.0   0.0   \n",
       "2018-01               0.0  ...   0.0   0.0   0.0   0.0   0.0   0.0   0.0   \n",
       "2018-02               0.0  ...   0.0   0.0   0.0   0.0   0.0   0.0   0.0   \n",
       "2018-03               0.0  ...   0.0   0.0   0.0   0.0   0.0   0.0   0.0   \n",
       "2018-04               0.0  ...   0.0   0.0   0.0   0.0   0.0   0.0   0.0   \n",
       "2018-05               0.0  ...   0.0   0.0   0.0   0.0   0.0   0.0   0.0   \n",
       "2018-06               0.0  ...   0.0   0.0   0.0   0.0   0.0   0.0   0.0   \n",
       "2018-07               0.0  ...   0.0   0.0   0.0   0.0   0.0   0.0   0.0   \n",
       "2018-08               0.0  ...   0.0   0.0   0.0   0.0   0.0   0.0   0.0   \n",
       "\n",
       "period_number_month  19.0  20.0  21.0  \n",
       "cohort                                 \n",
       "2016-09               0.0   0.0   0.0  \n",
       "2016-10               2.0   1.0   1.0  \n",
       "2016-12               0.0   0.0   0.0  \n",
       "2017-01               1.0   0.0   0.0  \n",
       "2017-02               0.0   0.0   0.0  \n",
       "2017-03               0.0   0.0   0.0  \n",
       "2017-04               0.0   0.0   0.0  \n",
       "2017-05               0.0   0.0   0.0  \n",
       "2017-06               0.0   0.0   0.0  \n",
       "2017-07               0.0   0.0   0.0  \n",
       "2017-08               0.0   0.0   0.0  \n",
       "2017-09               0.0   0.0   0.0  \n",
       "2017-10               0.0   0.0   0.0  \n",
       "2017-11               0.0   0.0   0.0  \n",
       "2017-12               0.0   0.0   0.0  \n",
       "2018-01               0.0   0.0   0.0  \n",
       "2018-02               0.0   0.0   0.0  \n",
       "2018-03               0.0   0.0   0.0  \n",
       "2018-04               0.0   0.0   0.0  \n",
       "2018-05               0.0   0.0   0.0  \n",
       "2018-06               0.0   0.0   0.0  \n",
       "2018-07               0.0   0.0   0.0  \n",
       "2018-08               0.0   0.0   0.0  \n",
       "\n",
       "[23 rows x 21 columns]"
      ]
     },
     "execution_count": 556,
     "metadata": {},
     "output_type": "execute_result"
    }
   ],
   "source": [
    "df_pivot.fillna(0)"
   ]
  },
  {
   "cell_type": "code",
   "execution_count": 557,
   "metadata": {},
   "outputs": [
    {
     "data": {
      "image/png": "[encoded data removed]",
      "text/plain": [
       "<Figure size 720x432 with 1 Axes>"
      ]
     },
     "metadata": {
      "needs_background": "light"
     },
     "output_type": "display_data"
    }
   ],
   "source": [
    "plt.figure(figsize=(10, 6))\n",
    "sns.barplot(x='cohort', y=0.0, data=cohort_size.reset_index(), palette='Blues_d')\n",
    "plt.xticks(rotation=45)\n",
    "plt.grid(axis='y')\n",
    "plt.tight_layout()\n",
    "plt.show()"
   ]
  },
  {
   "cell_type": "markdown",
   "metadata": {},
   "source": [
    "# Задача 3. Определить 5 основных метрик, на которых продакт может сконцентрироваться, чтобы максимизировать прибыль компании."
   ]
  },
  {
   "cell_type": "code",
   "execution_count": 558,
   "metadata": {},
   "outputs": [],
   "source": [
    "delivered_orders_merge = delivered_orders.merge(olist_order_items_dataset, how='left', on='order_id')"
   ]
  },
  {
   "cell_type": "code",
   "execution_count": 559,
   "metadata": {},
   "outputs": [],
   "source": [
    "delivered_orders_items = delivered_orders_merge[['order_id','customer_id', 'customer_unique_id', 'product_id', 'seller_id', 'order_period','cohort','period_number_month','order_purchase_timestamp', 'shipping_limit_date', 'price', 'freight_value' ]]"
   ]
  },
  {
   "cell_type": "markdown",
   "metadata": {},
   "source": [
    "Первая метрика должна отражать рост продаж маркетплейса\n",
    "\n",
    "С выручкой, в принципе, всё в порядке. Видим стагнирование в последние 3 месяца, но на общей картине выручка растет. \n",
    "Это обусловлено тем, что мы отлично привлекаем клиентов. Но не удерживаем..."
   ]
  },
  {
   "cell_type": "code",
   "execution_count": 560,
   "metadata": {
    "scrolled": true
   },
   "outputs": [
    {
     "data": {
      "image/png": "[encoded data removed]",
      "text/plain": [
       "<Figure size 720x432 with 1 Axes>"
      ]
     },
     "metadata": {
      "needs_background": "light"
     },
     "output_type": "display_data"
    }
   ],
   "source": [
    "revenue = delivered_orders_items.groupby(['order_period'], as_index=False).sum()[['order_period','price']]\n",
    "\n",
    "plt.figure(figsize=(10, 6))\n",
    "sns.barplot(x='order_period', y='price', data=revenue, palette='Blues_d')\n",
    "plt.yticks(np.linspace(0,1000000,11))\n",
    "plt.ticklabel_format(style='plain',axis = 'y')\n",
    "plt.xticks(rotation=45)\n",
    "plt.grid(axis='y')\n",
    "plt.tight_layout()\n",
    "plt.show()"
   ]
  },
  {
   "cell_type": "markdown",
   "metadata": {},
   "source": [
    "Вторая — показывать объем аудитории, которой продукт доставляет ценность.\n",
    "\n",
    "Кол-во уникальных клиентов на графике:"
   ]
  },
  {
   "cell_type": "code",
   "execution_count": 561,
   "metadata": {},
   "outputs": [
    {
     "data": {
      "image/png": "[encoded data removed]",
      "text/plain": [
       "<Figure size 720x432 with 1 Axes>"
      ]
     },
     "metadata": {
      "needs_background": "light"
     },
     "output_type": "display_data"
    }
   ],
   "source": [
    "customers = delivered_orders_items.groupby(['order_period'], as_index=False).nunique()[['order_period','customer_unique_id']]\n",
    "\n",
    "plt.figure(figsize=(10, 6))\n",
    "sns.barplot(x='order_period', y='customer_unique_id', data=customers, palette='Blues_d')\n",
    "plt.xticks(rotation=45)\n",
    "plt.grid(axis='y')\n",
    "plt.tight_layout()\n",
    "plt.show()"
   ]
  },
  {
   "cell_type": "markdown",
   "metadata": {},
   "source": [
    "За счет увеличения клиентов, увеличивается кол-во заказов, что в принципе логично"
   ]
  },
  {
   "cell_type": "code",
   "execution_count": 562,
   "metadata": {},
   "outputs": [
    {
     "data": {
      "image/png": "[encoded data removed]",
      "text/plain": [
       "<Figure size 720x432 with 1 Axes>"
      ]
     },
     "metadata": {
      "needs_background": "light"
     },
     "output_type": "display_data"
    }
   ],
   "source": [
    "orders = delivered_orders_items.groupby(['order_period'], as_index=False).count()[['order_period','order_id']]\n",
    "\n",
    "plt.figure(figsize=(10, 6))\n",
    "sns.barplot(x='order_period', y='order_id', data=orders, palette='Blues_d')\n",
    "plt.xticks(rotation=45)\n",
    "plt.grid(axis='y')\n",
    "plt.tight_layout()\n",
    "plt.show()"
   ]
  },
  {
   "cell_type": "markdown",
   "metadata": {},
   "source": [
    "Третья — отражать заинтересованность новых клиентов в продакте.\n",
    "\n",
    "Возвращаемся к retention, заинтересованность есть."
   ]
  },
  {
   "cell_type": "code",
   "execution_count": 563,
   "metadata": {},
   "outputs": [
    {
     "data": {
      "image/png": "[encoded data removed]",
      "text/plain": [
       "<Figure size 720x432 with 1 Axes>"
      ]
     },
     "metadata": {
      "needs_background": "light"
     },
     "output_type": "display_data"
    }
   ],
   "source": [
    "plt.figure(figsize=(10, 6))\n",
    "sns.barplot(x='cohort', y=0.0, data=cohort_size.reset_index(), palette='Blues_d')\n",
    "plt.xticks(rotation=45)\n",
    "plt.grid(axis='y')\n",
    "plt.tight_layout()\n",
    "plt.show()"
   ]
  },
  {
   "cell_type": "markdown",
   "metadata": {},
   "source": [
    "Четвёртая — отражать вовлеченность клиента в продолжение использования продукта.\n",
    "\n",
    "Видим что продолжают делать 2 и более заказа только 3% пользователей. Вовлеченности нет"
   ]
  },
  {
   "cell_type": "code",
   "execution_count": 564,
   "metadata": {},
   "outputs": [
    {
     "data": {
      "image/png": "[encoded data removed]",
      "text/plain": [
       "<Figure size 720x432 with 1 Axes>"
      ]
     },
     "metadata": {},
     "output_type": "display_data"
    }
   ],
   "source": [
    "one_order = delivered_orders_items.groupby('customer_unique_id').nunique().query('order_id==1').shape[0]\n",
    "more_orders = delivered_orders_items.groupby('customer_unique_id').nunique().query('order_id>1').shape[0]\n",
    "\n",
    "sizes = [one_order, more_orders]\n",
    "labels = ['1 заказ', 'Более 1 заказа']\n",
    "plt.figure(figsize=(10, 6))\n",
    "plt.pie(sizes, labels=labels, autopct='%1.1f%%', startangle=140)\n",
    "plt.title('Распределение по кол-ву заказов')\n",
    "plt.axis('equal')  # Убедитесь, что круговая диаграмма будет кругом\n",
    "plt.show()"
   ]
  },
  {
   "cell_type": "markdown",
   "metadata": {},
   "source": [
    "Пятая — отражать денежное выражение вовлеченности клиента.\n",
    "\n",
    "Можно сказать что ARPPU у нас стагнирует, что говорит нам о том что клиенты заказывают примерно на одну и ту же стоимость в каждом периоде. Вывод - денежное выражение у нас стабильное."
   ]
  },
  {
   "cell_type": "code",
   "execution_count": 565,
   "metadata": {
    "scrolled": false
   },
   "outputs": [],
   "source": [
    "merge_data = customers.merge(orders).merge(revenue)\n",
    "merge_data['ARPPU'] = merge_data['price']/merge_data['customer_unique_id']\n"
   ]
  },
  {
   "cell_type": "code",
   "execution_count": 566,
   "metadata": {
    "scrolled": true
   },
   "outputs": [
    {
     "data": {
      "image/png": "[encoded data removed]",
      "text/plain": [
       "<Figure size 720x432 with 1 Axes>"
      ]
     },
     "metadata": {
      "needs_background": "light"
     },
     "output_type": "display_data"
    }
   ],
   "source": [
    "plt.figure(figsize=(10, 6))\n",
    "sns.barplot(x='order_period', y='ARPPU', data=merge_data, palette='Blues_d')\n",
    "plt.xticks(rotation=45)\n",
    "plt.show()"
   ]
  },
  {
   "cell_type": "markdown",
   "metadata": {},
   "source": [
    "Так как у нас retention около нулевой, то LTV такой же как ARPPU. \n",
    "\n",
    "За одно узнаем среднюю продолжительность отношений с клиентом, которая составит 2.6 дня.\n",
    "Это как раз те кто входит в 3% повторных заказов. И в основном остаются в изначальной когорте."
   ]
  },
  {
   "cell_type": "code",
   "execution_count": 567,
   "metadata": {},
   "outputs": [],
   "source": [
    "customer_lifetime  = delivered_orders_items.groupby('customer_unique_id', as_index=False)['order_purchase_timestamp'].agg(['min', 'max']).reset_index()\n",
    "customer_lifetime.columns = ['customer_id', 'first_purchase', 'last_purchase']"
   ]
  },
  {
   "cell_type": "code",
   "execution_count": 568,
   "metadata": {},
   "outputs": [
    {
     "name": "stdout",
     "output_type": "stream",
     "text": [
      "Средняя продолжительность отношений с клиентом: 2.6340324342852246 дней\n"
     ]
    }
   ],
   "source": [
    "customer_lifetime['lifetime_days'] = (customer_lifetime['last_purchase'] - customer_lifetime['first_purchase']).dt.days\n",
    "average_lifetime = customer_lifetime['lifetime_days'].mean()\n",
    "print(f'Средняя продолжительность отношений с клиентом: {average_lifetime} дней')"
   ]
  },
  {
   "cell_type": "code",
   "execution_count": 569,
   "metadata": {},
   "outputs": [],
   "source": [
    "merge_data['LTV'] = merge_data['ARPPU'] * 2.6340324342852246"
   ]
  },
  {
   "cell_type": "code",
   "execution_count": 570,
   "metadata": {},
   "outputs": [
    {
     "data": {
      "image/png": "[encoded data removed]",
      "text/plain": [
       "<Figure size 720x432 with 1 Axes>"
      ]
     },
     "metadata": {
      "needs_background": "light"
     },
     "output_type": "display_data"
    }
   ],
   "source": [
    "plt.figure(figsize=(10, 6))\n",
    "sns.barplot(x='order_period', y='LTV', data=merge_data, palette='Blues_d')\n",
    "plt.xticks(rotation=45)\n",
    "plt.show()"
   ]
  },
  {
   "cell_type": "code",
   "execution_count": null,
   "metadata": {},
   "outputs": [],
   "source": []
  },
  {
   "cell_type": "markdown",
   "metadata": {},
   "source": [
    "# Задача 4. Выбрать одну из 3 основных гипотез с помощью фреймворка ICE."
   ]
  },
  {
   "cell_type": "code",
   "execution_count": 571,
   "metadata": {},
   "outputs": [],
   "source": [
    "orders_price = olist_order_items_dataset.groupby('order_id' ,as_index=False).sum()[['order_id', 'price']]"
   ]
  },
  {
   "cell_type": "code",
   "execution_count": 572,
   "metadata": {},
   "outputs": [
    {
     "data": {
      "text/plain": [
       "delivered      85413\n",
       "shipped          912\n",
       "canceled         499\n",
       "unavailable      475\n",
       "invoiced         240\n",
       "processing       202\n",
       "created            5\n",
       "Name: order_status, dtype: int64"
      ]
     },
     "execution_count": 572,
     "metadata": {},
     "output_type": "execute_result"
    }
   ],
   "source": [
    "#Соеденим несколько таблиц, и посмотрим в каких статусах находятся заказы. Данные берем с Июня 2017\n",
    "\n",
    "olist_orders_dataset['order_period'] = olist_orders_dataset['order_purchase_timestamp'].dt.to_period('M') \n",
    "from_June = olist_orders_dataset.query('order_period >= \"2017-06\"')\n",
    "from_June = from_June.merge(olist_customers_dataset[['customer_id', 'customer_unique_id']], how = 'left', on='customer_id')\n",
    "from_June = from_June.merge(orders_price[['order_id','price']], how = 'left', on='order_id')\n",
    "\n",
    "from_June.order_status.value_counts()"
   ]
  },
  {
   "cell_type": "code",
   "execution_count": 573,
   "metadata": {},
   "outputs": [
    {
     "name": "stdout",
     "output_type": "stream",
     "text": [
      "<class 'pandas.core.frame.DataFrame'>\n",
      "Int64Index: 87746 entries, 0 to 87745\n",
      "Data columns (total 11 columns):\n",
      " #   Column                         Non-Null Count  Dtype         \n",
      "---  ------                         --------------  -----         \n",
      " 0   order_id                       87746 non-null  object        \n",
      " 1   customer_id                    87746 non-null  object        \n",
      " 2   order_status                   87746 non-null  object        \n",
      " 3   order_purchase_timestamp       87746 non-null  datetime64[ns]\n",
      " 4   order_approved_at              87624 non-null  datetime64[ns]\n",
      " 5   order_delivered_carrier_date   86394 non-null  datetime64[ns]\n",
      " 6   order_delivered_customer_date  85407 non-null  datetime64[ns]\n",
      " 7   order_estimated_delivery_date  87746 non-null  datetime64[ns]\n",
      " 8   order_period                   87746 non-null  period[M]     \n",
      " 9   customer_unique_id             87746 non-null  object        \n",
      " 10  price                          87140 non-null  float64       \n",
      "dtypes: datetime64[ns](5), float64(1), object(4), period[M](1)\n",
      "memory usage: 8.0+ MB\n"
     ]
    }
   ],
   "source": [
    "from_June.info()"
   ]
  },
  {
   "cell_type": "code",
   "execution_count": 574,
   "metadata": {},
   "outputs": [],
   "source": [
    "confidence1 = 8\n",
    "ease1 = 6\n",
    "confidence2 = 10\n",
    "ease2 = 4\n",
    "confidence3 = 5\n",
    "ease3 = 9"
   ]
  },
  {
   "cell_type": "code",
   "execution_count": 575,
   "metadata": {},
   "outputs": [],
   "source": [
    "# Напишем функцию для перевода импакта в шкалу от 1 до 10\n",
    "def impact(x):\n",
    "    ranges = [(0, 50, 1),\n",
    "             (51, 150, 2),\n",
    "             (151, 350, 3),\n",
    "             (351, 750, 4),\n",
    "             (751, 1550, 5),\n",
    "             (1551, 3150, 6),\n",
    "             (3151, 6350, 7),\n",
    "             (6351, 12750, 8),\n",
    "             (12751, 25550, 9),\n",
    "             (25551, 51150, 10)] \n",
    "    for lower, upper, impact in ranges:\n",
    "        if lower <= x <= upper:\n",
    "            return impact"
   ]
  },
  {
   "cell_type": "markdown",
   "metadata": {},
   "source": [
    "# **Гипотеза 1.**\n",
    "\n",
    "Если исправим баг в системе процессинга заказов, то клиентам не придётся сталкиваться с проблемой отмены заказа, вследствие чего количество доставленных заказов увеличится. Считаем, что мы таким образом избавимся от всех отмен."
   ]
  },
  {
   "cell_type": "code",
   "execution_count": 576,
   "metadata": {},
   "outputs": [],
   "source": [
    "median_conv = retention_matrix[1.0].median()"
   ]
  },
  {
   "cell_type": "code",
   "execution_count": 577,
   "metadata": {},
   "outputs": [
    {
     "data": {
      "text/plain": [
       "delivered      85413\n",
       "shipped          912\n",
       "canceled         499\n",
       "unavailable      475\n",
       "invoiced         240\n",
       "processing       202\n",
       "created            5\n",
       "Name: order_status, dtype: int64"
      ]
     },
     "execution_count": 577,
     "metadata": {},
     "output_type": "execute_result"
    }
   ],
   "source": [
    "from_June.order_status.value_counts()"
   ]
  },
  {
   "cell_type": "code",
   "execution_count": 578,
   "metadata": {
    "scrolled": true
   },
   "outputs": [
    {
     "data": {
      "text/html": [
       "<div>\n",
       "<style scoped>\n",
       "    .dataframe tbody tr th:only-of-type {\n",
       "        vertical-align: middle;\n",
       "    }\n",
       "\n",
       "    .dataframe tbody tr th {\n",
       "        vertical-align: top;\n",
       "    }\n",
       "\n",
       "    .dataframe thead th {\n",
       "        text-align: right;\n",
       "    }\n",
       "</style>\n",
       "<table border=\"1\" class=\"dataframe\">\n",
       "  <thead>\n",
       "    <tr style=\"text-align: right;\">\n",
       "      <th></th>\n",
       "      <th>cancels</th>\n",
       "      <th>user_count</th>\n",
       "      <th>total_cancels</th>\n",
       "    </tr>\n",
       "  </thead>\n",
       "  <tbody>\n",
       "    <tr>\n",
       "      <th>0</th>\n",
       "      <td>1</td>\n",
       "      <td>482</td>\n",
       "      <td>482</td>\n",
       "    </tr>\n",
       "    <tr>\n",
       "      <th>1</th>\n",
       "      <td>2</td>\n",
       "      <td>7</td>\n",
       "      <td>14</td>\n",
       "    </tr>\n",
       "    <tr>\n",
       "      <th>2</th>\n",
       "      <td>3</td>\n",
       "      <td>1</td>\n",
       "      <td>3</td>\n",
       "    </tr>\n",
       "  </tbody>\n",
       "</table>\n",
       "</div>"
      ],
      "text/plain": [
       "   cancels  user_count  total_cancels\n",
       "0        1         482            482\n",
       "1        2           7             14\n",
       "2        3           1              3"
      ]
     },
     "execution_count": 578,
     "metadata": {},
     "output_type": "execute_result"
    }
   ],
   "source": [
    "cancel_user_order_counts = from_June.query('order_status == \"canceled\"').groupby('customer_unique_id').size().reset_index(name='cancels')\n",
    "conversion_data_g1 = cancel_user_order_counts.groupby('cancels').size().reset_index(name='user_count')\n",
    "conversion_data_g1['total_cancels'] = conversion_data_g1['cancels']*conversion_data_g1['user_count']\n",
    "conversion_data_g1"
   ]
  },
  {
   "cell_type": "code",
   "execution_count": 579,
   "metadata": {
    "scrolled": true
   },
   "outputs": [
    {
     "data": {
      "text/plain": [
       "cancels            6\n",
       "user_count       490\n",
       "total_cancels    499\n",
       "dtype: int64"
      ]
     },
     "execution_count": 579,
     "metadata": {},
     "output_type": "execute_result"
    }
   ],
   "source": [
    "conversion_data_g1.sum()"
   ]
  },
  {
   "cell_type": "code",
   "execution_count": 580,
   "metadata": {},
   "outputs": [
    {
     "name": "stdout",
     "output_type": "stream",
     "text": [
      "490 пользователей - это кто столкнулся с отменой, также у некоторых пользователей было несколько отмен, но будем считать это как одну отмену. Работаем с 490 пользователями/отменами.\n"
     ]
    }
   ],
   "source": [
    "print(f'{conversion_data_g1.sum().user_count} пользователей - это кто столкнулся с отменой, также у некоторых пользователей было несколько отмен, но будем считать это как одну отмену. Работаем с {conversion_data_g1.sum().user_count} пользователями/отменами.')"
   ]
  },
  {
   "cell_type": "code",
   "execution_count": 581,
   "metadata": {},
   "outputs": [
    {
     "data": {
      "text/plain": [
       "71"
      ]
     },
     "execution_count": 581,
     "metadata": {},
     "output_type": "execute_result"
    }
   ],
   "source": [
    "unique_cancel_orders = from_June.query('order_status == \"canceled\"')['customer_unique_id'].unique()\n",
    "life_cicle = from_June.query('customer_unique_id in @unique_cancel_orders')\n",
    "life_cicle_only_cancel = life_cicle.query('order_status !=\"canceled\" ')['customer_unique_id'].unique()\n",
    "len(life_cicle_only_cancel)"
   ]
  },
  {
   "cell_type": "code",
   "execution_count": 582,
   "metadata": {},
   "outputs": [
    {
     "name": "stdout",
     "output_type": "stream",
     "text": [
      "Среди 490 всех пользователей есть 71 человек который имеет жизненный цикл в нашем продукте.Т.е. Он уже совершал заказы до отмены либо после, что говорит нам о том что он уже влиял на наши метрики. И зная нашу конверсию в повторный заказ, а в данном случае отмена - это уже как минимум второй заказ, при конвертации их из отмены в доставленный заказ, мы не можем надеятся на то, что человек после этого совершит ещё один заказ. Они просто увеличат нам кол-во заказов, и врятли придут ещё.\n"
     ]
    }
   ],
   "source": [
    "print(f'Среди {conversion_data_g1.sum().user_count} всех пользователей есть {len(life_cicle_only_cancel)} человек который имеет жизненный цикл в нашем продукте.' \n",
    "'Т.е. Он уже совершал заказы до отмены либо после, что говорит нам о том что он уже влиял на наши метрики. '\n",
    "'И зная нашу конверсию в повторный заказ, а в данном случае отмена - это уже как минимум второй заказ, при конвертации их из отмены в доставленный заказ, '\n",
    "'мы не можем надеятся на то, что человек после этого совершит ещё один заказ. Они просто увеличат нам кол-во заказов, и врятли придут ещё.')"
   ]
  },
  {
   "cell_type": "code",
   "execution_count": 583,
   "metadata": {},
   "outputs": [
    {
     "name": "stdout",
     "output_type": "stream",
     "text": [
      "Что не скажешь про тех кто столкнулся с отменой и больше не связывался с нашим продуктом. При конвертации в доставленные, люди только начнут жизненный цикл нашем продукте, и как раз у них появляется конверсия в повторный заказ\n",
      "\n",
      "Математика для определения на сколько увеличатся доставленные заказы следующая:\n",
      "Общее количество уникальных пользователей + пользователи у кого была только отмена * медианную конверсию\n"
     ]
    }
   ],
   "source": [
    "print(f'Что не скажешь про тех кто столкнулся с отменой и больше не связывался с нашим продуктом. При конвертации в доставленные, '\n",
    "     'люди только начнут жизненный цикл нашем продукте, и как раз у них появляется конверсия в повторный заказ') \n",
    "print()\n",
    "print('Математика для определения на сколько увеличатся доставленные заказы следующая:')\n",
    "print('Общее количество уникальных пользователей + пользователи у кого была только отмена * медианную конверсию')"
   ]
  },
  {
   "cell_type": "code",
   "execution_count": 584,
   "metadata": {},
   "outputs": [
    {
     "data": {
      "text/plain": [
       "491"
      ]
     },
     "execution_count": 584,
     "metadata": {},
     "output_type": "execute_result"
    }
   ],
   "source": [
    "conclusion_1 = round(conversion_data_g1.sum().user_count + (conversion_data_g1.sum().user_count-len(life_cicle_only_cancel)) * median_conv)\n",
    "conclusion_1"
   ]
  },
  {
   "cell_type": "code",
   "execution_count": 585,
   "metadata": {},
   "outputs": [
    {
     "name": "stdout",
     "output_type": "stream",
     "text": [
      "Импакт первой гипотезы равен 4, ICE 192\n"
     ]
    }
   ],
   "source": [
    "ice1 = impact(conclusion_1) * confidence1 * ease1 \n",
    "print(f'Импакт первой гипотезы равен {impact(conclusion_1)}, ICE {ice1}')"
   ]
  },
  {
   "cell_type": "markdown",
   "metadata": {},
   "source": [
    "Вывод: Если мы избавимся от всех отмен, то мы можем сгенерировать 491 дополнительный заказ. Который в большую степень повлияет на выручку и кол-во заказов."
   ]
  },
  {
   "cell_type": "markdown",
   "metadata": {},
   "source": [
    "------------------------------------------------------------------------------------------------------------------------------------------------------------------------------------------------------------------------------------------------------------------------------------------\n",
    "-----------------------------------------------------------------------------------------------------------------------------------------"
   ]
  },
  {
   "cell_type": "markdown",
   "metadata": {},
   "source": [
    "# **Гипотеза 2**\n",
    "\n",
    "Если сократим время до отгрузки заказа, то клиенты перестанут получать свой заказ с запаздыванием, вследствие чего количество заказов увеличится за счёт повторных заказов."
   ]
  },
  {
   "cell_type": "markdown",
   "metadata": {},
   "source": [
    "Время опоздания заказа (delay) = фактическое время доставки - ожидаемое время доставки\n",
    "\n",
    "Время передачи в отгрузку (transfer_time) будем считать от созданного заказа до времени когда передали в отгрузку, так как маркетплейсы работают и с предоплатой и с постоплатой.\n",
    "\n",
    "Время влияния передачи в отгрузку (delivery_impact) будем считать как Время опоздания заказа - Время передачи в отгрузку"
   ]
  },
  {
   "cell_type": "code",
   "execution_count": 586,
   "metadata": {},
   "outputs": [],
   "source": [
    "from_June['delivery_time'] = (from_June['order_delivered_customer_date'] - from_June['order_purchase_timestamp']).dt.days\n",
    "from_June['delay'] = (from_June['order_delivered_customer_date'] - from_June['order_estimated_delivery_date']).dt.days\n",
    "from_June['transfer_time'] = (from_June['order_delivered_carrier_date'] - from_June['order_purchase_timestamp']).dt.days\n",
    "from_June['delivery_impact'] = from_June['delay'] - from_June['transfer_time']"
   ]
  },
  {
   "cell_type": "code",
   "execution_count": 587,
   "metadata": {},
   "outputs": [],
   "source": [
    "late_delivery = from_June.query('order_status == \"delivered\" and delay > 0')"
   ]
  },
  {
   "cell_type": "markdown",
   "metadata": {},
   "source": [
    "Если посмотреть на описательную статистику, которые опоздали, то можно сделать **предварительный вывод по медианам**, что не такое уж и долгое у нас время на сборку заказа, всего 3 дня, а заказы всё ровно задерживаются на 7 дней. Реальная причина задержки заказа может скрыватся где-то в другом месте.\n",
    "\n",
    "delay - заказы задерживаются на 7 дней\n",
    "\n",
    "transfer_time - 3 дня нужно на сборку заказа\n",
    "\n",
    "delivery_impact - при сборке заказа за 3 дня, по медиане, есть ещё 3 свободных дня до плановой доставки, но заказ уже доставлен."
   ]
  },
  {
   "cell_type": "code",
   "execution_count": 588,
   "metadata": {
    "scrolled": true
   },
   "outputs": [
    {
     "data": {
      "text/html": [
       "<div>\n",
       "<style scoped>\n",
       "    .dataframe tbody tr th:only-of-type {\n",
       "        vertical-align: middle;\n",
       "    }\n",
       "\n",
       "    .dataframe tbody tr th {\n",
       "        vertical-align: top;\n",
       "    }\n",
       "\n",
       "    .dataframe thead th {\n",
       "        text-align: right;\n",
       "    }\n",
       "</style>\n",
       "<table border=\"1\" class=\"dataframe\">\n",
       "  <thead>\n",
       "    <tr style=\"text-align: right;\">\n",
       "      <th></th>\n",
       "      <th>price</th>\n",
       "      <th>delivery_time</th>\n",
       "      <th>delay</th>\n",
       "      <th>transfer_time</th>\n",
       "      <th>delivery_impact</th>\n",
       "    </tr>\n",
       "  </thead>\n",
       "  <tbody>\n",
       "    <tr>\n",
       "      <th>count</th>\n",
       "      <td>6087.000000</td>\n",
       "      <td>6087.000000</td>\n",
       "      <td>6087.000000</td>\n",
       "      <td>6086.000000</td>\n",
       "      <td>6086.000000</td>\n",
       "    </tr>\n",
       "    <tr>\n",
       "      <th>mean</th>\n",
       "      <td>150.686865</td>\n",
       "      <td>32.791851</td>\n",
       "      <td>10.141449</td>\n",
       "      <td>5.440355</td>\n",
       "      <td>4.701775</td>\n",
       "    </tr>\n",
       "    <tr>\n",
       "      <th>std</th>\n",
       "      <td>230.689042</td>\n",
       "      <td>15.267401</td>\n",
       "      <td>12.355076</td>\n",
       "      <td>7.232560</td>\n",
       "      <td>13.666420</td>\n",
       "    </tr>\n",
       "    <tr>\n",
       "      <th>min</th>\n",
       "      <td>3.540000</td>\n",
       "      <td>3.000000</td>\n",
       "      <td>1.000000</td>\n",
       "      <td>-1.000000</td>\n",
       "      <td>-37.000000</td>\n",
       "    </tr>\n",
       "    <tr>\n",
       "      <th>25%</th>\n",
       "      <td>49.900000</td>\n",
       "      <td>24.000000</td>\n",
       "      <td>3.000000</td>\n",
       "      <td>1.000000</td>\n",
       "      <td>-2.000000</td>\n",
       "    </tr>\n",
       "    <tr>\n",
       "      <th>50%</th>\n",
       "      <td>91.000000</td>\n",
       "      <td>31.000000</td>\n",
       "      <td>7.000000</td>\n",
       "      <td>3.000000</td>\n",
       "      <td>3.000000</td>\n",
       "    </tr>\n",
       "    <tr>\n",
       "      <th>75%</th>\n",
       "      <td>159.985000</td>\n",
       "      <td>39.000000</td>\n",
       "      <td>13.000000</td>\n",
       "      <td>6.000000</td>\n",
       "      <td>9.000000</td>\n",
       "    </tr>\n",
       "    <tr>\n",
       "      <th>max</th>\n",
       "      <td>6729.000000</td>\n",
       "      <td>208.000000</td>\n",
       "      <td>188.000000</td>\n",
       "      <td>125.000000</td>\n",
       "      <td>185.000000</td>\n",
       "    </tr>\n",
       "  </tbody>\n",
       "</table>\n",
       "</div>"
      ],
      "text/plain": [
       "             price  delivery_time        delay  transfer_time  delivery_impact\n",
       "count  6087.000000    6087.000000  6087.000000    6086.000000      6086.000000\n",
       "mean    150.686865      32.791851    10.141449       5.440355         4.701775\n",
       "std     230.689042      15.267401    12.355076       7.232560        13.666420\n",
       "min       3.540000       3.000000     1.000000      -1.000000       -37.000000\n",
       "25%      49.900000      24.000000     3.000000       1.000000        -2.000000\n",
       "50%      91.000000      31.000000     7.000000       3.000000         3.000000\n",
       "75%     159.985000      39.000000    13.000000       6.000000         9.000000\n",
       "max    6729.000000     208.000000   188.000000     125.000000       185.000000"
      ]
     },
     "execution_count": 588,
     "metadata": {},
     "output_type": "execute_result"
    }
   ],
   "source": [
    "late_delivery.describe()"
   ]
  },
  {
   "cell_type": "code",
   "execution_count": 589,
   "metadata": {
    "scrolled": true
   },
   "outputs": [
    {
     "name": "stdout",
     "output_type": "stream",
     "text": [
      "Общее количество опоздавших заказов: 6087\n"
     ]
    }
   ],
   "source": [
    "count_late_delivery = late_delivery.shape[0]\n",
    "print(f'Общее количество опоздавших заказов: {count_late_delivery}')"
   ]
  },
  {
   "cell_type": "markdown",
   "metadata": {},
   "source": [
    "-----------------------------------------------------------------------------------------------------------"
   ]
  },
  {
   "cell_type": "markdown",
   "metadata": {},
   "source": [
    "Посмотрим у кого передача в отгрузку отразилась на доставке, и заказ получили не во время"
   ]
  },
  {
   "cell_type": "code",
   "execution_count": 590,
   "metadata": {},
   "outputs": [
    {
     "name": "stdout",
     "output_type": "stream",
     "text": [
      "Доля заказов у которых передача в доставку повлияла на конечную доставку - 31% от всех опоздавших\n"
     ]
    }
   ],
   "source": [
    "bad_impact = late_delivery.query('delivery_impact < 0')\n",
    "unique_customer_bad_impact = bad_impact['customer_unique_id'].nunique()\n",
    "\n",
    "print(f'Доля заказов у которых передача в доставку повлияла на конечную доставку - {round((bad_impact.shape[0] / count_late_delivery)*100)}% от всех опоздавших')"
   ]
  },
  {
   "cell_type": "code",
   "execution_count": 591,
   "metadata": {},
   "outputs": [
    {
     "data": {
      "text/html": [
       "<div>\n",
       "<style scoped>\n",
       "    .dataframe tbody tr th:only-of-type {\n",
       "        vertical-align: middle;\n",
       "    }\n",
       "\n",
       "    .dataframe tbody tr th {\n",
       "        vertical-align: top;\n",
       "    }\n",
       "\n",
       "    .dataframe thead th {\n",
       "        text-align: right;\n",
       "    }\n",
       "</style>\n",
       "<table border=\"1\" class=\"dataframe\">\n",
       "  <thead>\n",
       "    <tr style=\"text-align: right;\">\n",
       "      <th></th>\n",
       "      <th>order_count</th>\n",
       "      <th>user_count</th>\n",
       "      <th>conversion_rate</th>\n",
       "      <th>orders_sum</th>\n",
       "    </tr>\n",
       "  </thead>\n",
       "  <tbody>\n",
       "    <tr>\n",
       "      <th>0</th>\n",
       "      <td>1</td>\n",
       "      <td>1855</td>\n",
       "      <td>0.998923</td>\n",
       "      <td>1855</td>\n",
       "    </tr>\n",
       "    <tr>\n",
       "      <th>1</th>\n",
       "      <td>2</td>\n",
       "      <td>2</td>\n",
       "      <td>0.001077</td>\n",
       "      <td>4</td>\n",
       "    </tr>\n",
       "  </tbody>\n",
       "</table>\n",
       "</div>"
      ],
      "text/plain": [
       "   order_count  user_count  conversion_rate  orders_sum\n",
       "0            1        1855         0.998923        1855\n",
       "1            2           2         0.001077           4"
      ]
     },
     "execution_count": 591,
     "metadata": {},
     "output_type": "execute_result"
    }
   ],
   "source": [
    "bad_impact_user_counts = bad_impact.groupby('customer_unique_id').size().reset_index(name='order_count')\n",
    "bad_impact_conversion_data = bad_impact_user_counts.groupby('order_count').size().reset_index(name='user_count')\n",
    "bad_impact_conversion_data['conversion_rate'] = bad_impact_conversion_data['user_count'] / unique_customer_bad_impact\n",
    "bad_impact_conversion_data['orders_sum'] = bad_impact_conversion_data['order_count'] * bad_impact_conversion_data['user_count']\n",
    "bad_impact_conversion_data"
   ]
  },
  {
   "cell_type": "code",
   "execution_count": 592,
   "metadata": {},
   "outputs": [
    {
     "data": {
      "text/plain": [
       "order_count           3.0\n",
       "user_count         1857.0\n",
       "conversion_rate       1.0\n",
       "orders_sum         1859.0\n",
       "dtype: float64"
      ]
     },
     "execution_count": 592,
     "metadata": {},
     "output_type": "execute_result"
    }
   ],
   "source": [
    "bad_impact_conversion_data.sum()"
   ]
  },
  {
   "cell_type": "code",
   "execution_count": 593,
   "metadata": {},
   "outputs": [
    {
     "name": "stdout",
     "output_type": "stream",
     "text": [
      "1859.0 заказов которые могли придти во время, если бы сократили время до отгрузки, и из них только у 2 пользователей был повторный заказ после задержки с доставкой, и им снова задержанный.\n",
      "Конверсия в повторный заказ составила - 0.0011\n"
     ]
    }
   ],
   "source": [
    "print(f'{bad_impact_conversion_data.sum().orders_sum} заказов которые могли придти во время, если бы сократили время до отгрузки, и из них только у {bad_impact_conversion_data.user_count[1]} пользователей был повторный заказ после задержки с доставкой, и им снова задержанный.')\n",
    "print(f'Конверсия в повторный заказ составила - {round(bad_impact_conversion_data.conversion_rate[1],4)}')"
   ]
  },
  {
   "cell_type": "markdown",
   "metadata": {},
   "source": [
    "И посмотрим на их описательную статистику \n",
    "\n",
    "delay - заказы задерживаются на 3 дня\n",
    "\n",
    "transfer_time - 8 дней потребовалось на сборку заказа\n",
    "\n",
    "delivery_impact - если заказы собирали бы быстрее на 4 дня, то медианный заказ мог придти бы во время. "
   ]
  },
  {
   "cell_type": "code",
   "execution_count": 594,
   "metadata": {
    "scrolled": true
   },
   "outputs": [
    {
     "data": {
      "text/html": [
       "<div>\n",
       "<style scoped>\n",
       "    .dataframe tbody tr th:only-of-type {\n",
       "        vertical-align: middle;\n",
       "    }\n",
       "\n",
       "    .dataframe tbody tr th {\n",
       "        vertical-align: top;\n",
       "    }\n",
       "\n",
       "    .dataframe thead th {\n",
       "        text-align: right;\n",
       "    }\n",
       "</style>\n",
       "<table border=\"1\" class=\"dataframe\">\n",
       "  <thead>\n",
       "    <tr style=\"text-align: right;\">\n",
       "      <th></th>\n",
       "      <th>price</th>\n",
       "      <th>delivery_time</th>\n",
       "      <th>delay</th>\n",
       "      <th>transfer_time</th>\n",
       "      <th>delivery_impact</th>\n",
       "    </tr>\n",
       "  </thead>\n",
       "  <tbody>\n",
       "    <tr>\n",
       "      <th>count</th>\n",
       "      <td>1859.000000</td>\n",
       "      <td>1859.000000</td>\n",
       "      <td>1859.000000</td>\n",
       "      <td>1859.000000</td>\n",
       "      <td>1859.000000</td>\n",
       "    </tr>\n",
       "    <tr>\n",
       "      <th>mean</th>\n",
       "      <td>172.014443</td>\n",
       "      <td>26.431415</td>\n",
       "      <td>4.754169</td>\n",
       "      <td>11.351264</td>\n",
       "      <td>-6.597095</td>\n",
       "    </tr>\n",
       "    <tr>\n",
       "      <th>std</th>\n",
       "      <td>292.582984</td>\n",
       "      <td>11.306095</td>\n",
       "      <td>6.222578</td>\n",
       "      <td>9.886319</td>\n",
       "      <td>5.946805</td>\n",
       "    </tr>\n",
       "    <tr>\n",
       "      <th>min</th>\n",
       "      <td>4.200000</td>\n",
       "      <td>3.000000</td>\n",
       "      <td>1.000000</td>\n",
       "      <td>2.000000</td>\n",
       "      <td>-37.000000</td>\n",
       "    </tr>\n",
       "    <tr>\n",
       "      <th>25%</th>\n",
       "      <td>50.000000</td>\n",
       "      <td>20.000000</td>\n",
       "      <td>1.000000</td>\n",
       "      <td>5.000000</td>\n",
       "      <td>-10.000000</td>\n",
       "    </tr>\n",
       "    <tr>\n",
       "      <th>50%</th>\n",
       "      <td>98.000000</td>\n",
       "      <td>26.000000</td>\n",
       "      <td>3.000000</td>\n",
       "      <td>8.000000</td>\n",
       "      <td>-4.000000</td>\n",
       "    </tr>\n",
       "    <tr>\n",
       "      <th>75%</th>\n",
       "      <td>176.950000</td>\n",
       "      <td>32.000000</td>\n",
       "      <td>6.000000</td>\n",
       "      <td>15.000000</td>\n",
       "      <td>-2.000000</td>\n",
       "    </tr>\n",
       "    <tr>\n",
       "      <th>max</th>\n",
       "      <td>6729.000000</td>\n",
       "      <td>126.000000</td>\n",
       "      <td>100.000000</td>\n",
       "      <td>125.000000</td>\n",
       "      <td>-1.000000</td>\n",
       "    </tr>\n",
       "  </tbody>\n",
       "</table>\n",
       "</div>"
      ],
      "text/plain": [
       "             price  delivery_time        delay  transfer_time  delivery_impact\n",
       "count  1859.000000    1859.000000  1859.000000    1859.000000      1859.000000\n",
       "mean    172.014443      26.431415     4.754169      11.351264        -6.597095\n",
       "std     292.582984      11.306095     6.222578       9.886319         5.946805\n",
       "min       4.200000       3.000000     1.000000       2.000000       -37.000000\n",
       "25%      50.000000      20.000000     1.000000       5.000000       -10.000000\n",
       "50%      98.000000      26.000000     3.000000       8.000000        -4.000000\n",
       "75%     176.950000      32.000000     6.000000      15.000000        -2.000000\n",
       "max    6729.000000     126.000000   100.000000     125.000000        -1.000000"
      ]
     },
     "execution_count": 594,
     "metadata": {},
     "output_type": "execute_result"
    }
   ],
   "source": [
    "bad_impact.describe()"
   ]
  },
  {
   "cell_type": "markdown",
   "metadata": {},
   "source": [
    "-------------------------------------------------------------------------"
   ]
  },
  {
   "cell_type": "markdown",
   "metadata": {},
   "source": [
    "Теперь, для сравнения, посмотрим на конверсию у кого передача в отгрузку не отразилась на доставку, но заказ **всё ровно получили не во время**, и посмотрим на конверсию."
   ]
  },
  {
   "cell_type": "code",
   "execution_count": 595,
   "metadata": {},
   "outputs": [
    {
     "name": "stdout",
     "output_type": "stream",
     "text": [
      "Доля заказов у которых передача в доставку НЕ повлияла на конечную доставку - 69% от всех опоздавших\n"
     ]
    }
   ],
   "source": [
    "good_impact = late_delivery.query('delivery_impact >= 0')\n",
    "unique_customer_good_impact = good_impact['customer_unique_id'].nunique()\n",
    "\n",
    "print(f'Доля заказов у которых передача в доставку НЕ повлияла на конечную доставку - {round((good_impact.shape[0] / count_late_delivery)*100)}% от всех опоздавших')"
   ]
  },
  {
   "cell_type": "code",
   "execution_count": 596,
   "metadata": {},
   "outputs": [
    {
     "data": {
      "text/html": [
       "<div>\n",
       "<style scoped>\n",
       "    .dataframe tbody tr th:only-of-type {\n",
       "        vertical-align: middle;\n",
       "    }\n",
       "\n",
       "    .dataframe tbody tr th {\n",
       "        vertical-align: top;\n",
       "    }\n",
       "\n",
       "    .dataframe thead th {\n",
       "        text-align: right;\n",
       "    }\n",
       "</style>\n",
       "<table border=\"1\" class=\"dataframe\">\n",
       "  <thead>\n",
       "    <tr style=\"text-align: right;\">\n",
       "      <th></th>\n",
       "      <th>order_count</th>\n",
       "      <th>user_count</th>\n",
       "      <th>conversion_rate</th>\n",
       "      <th>orders_sum</th>\n",
       "    </tr>\n",
       "  </thead>\n",
       "  <tbody>\n",
       "    <tr>\n",
       "      <th>0</th>\n",
       "      <td>1</td>\n",
       "      <td>4187</td>\n",
       "      <td>0.995246</td>\n",
       "      <td>4187</td>\n",
       "    </tr>\n",
       "    <tr>\n",
       "      <th>1</th>\n",
       "      <td>2</td>\n",
       "      <td>20</td>\n",
       "      <td>0.004754</td>\n",
       "      <td>40</td>\n",
       "    </tr>\n",
       "  </tbody>\n",
       "</table>\n",
       "</div>"
      ],
      "text/plain": [
       "   order_count  user_count  conversion_rate  orders_sum\n",
       "0            1        4187         0.995246        4187\n",
       "1            2          20         0.004754          40"
      ]
     },
     "execution_count": 596,
     "metadata": {},
     "output_type": "execute_result"
    }
   ],
   "source": [
    "good_impact_user_counts = good_impact.groupby('customer_unique_id').size().reset_index(name='order_count')\n",
    "good_impact_conversion_data = good_impact_user_counts.groupby('order_count').size().reset_index(name='user_count')\n",
    "good_impact_conversion_data['conversion_rate'] = good_impact_conversion_data['user_count'] / unique_customer_good_impact\n",
    "good_impact_conversion_data['orders_sum'] = good_impact_conversion_data['order_count'] * good_impact_conversion_data['user_count']\n",
    "good_impact_conversion_data"
   ]
  },
  {
   "cell_type": "code",
   "execution_count": 597,
   "metadata": {},
   "outputs": [
    {
     "data": {
      "text/plain": [
       "order_count           3.0\n",
       "user_count         4207.0\n",
       "conversion_rate       1.0\n",
       "orders_sum         4227.0\n",
       "dtype: float64"
      ]
     },
     "execution_count": 597,
     "metadata": {},
     "output_type": "execute_result"
    }
   ],
   "source": [
    "good_impact_conversion_data.sum()"
   ]
  },
  {
   "cell_type": "code",
   "execution_count": 598,
   "metadata": {},
   "outputs": [
    {
     "name": "stdout",
     "output_type": "stream",
     "text": [
      "4227.0 заказов которые могли придти во время, но при этом передача в доставку была быстрой, и из них только у 20 пользователей был повторный заказ после задержки с доставкой, и также задержанный.\n",
      "Конверсия в повторный заказ составила - 0.0048\n"
     ]
    }
   ],
   "source": [
    "print(f'{good_impact_conversion_data.sum().orders_sum} заказов которые могли придти во время, но при этом передача в доставку была быстрой, и из них только у {good_impact_conversion_data.user_count[1]} пользователей был повторный заказ после задержки с доставкой, и также задержанный.')\n",
    "print(f'Конверсия в повторный заказ составила - {round(good_impact_conversion_data.conversion_rate[1],4)}')"
   ]
  },
  {
   "cell_type": "markdown",
   "metadata": {},
   "source": [
    "По традиции описательная статистика, которая подтвердит наши расчеты\n",
    "\n",
    "delay - заказы задерживаются на 8 дней\n",
    "\n",
    "transfer_time - 2 дня требовалось на сборку заказа\n",
    "\n",
    "delivery_impact - при сборке заказа за 2 дня, по медиане, есть ещё 6 свободных дня до плановой доставки, но заказ уже доставлен. Что говорит о том что врятли сборка заказа повлияла на задержку в доставке"
   ]
  },
  {
   "cell_type": "code",
   "execution_count": 599,
   "metadata": {},
   "outputs": [
    {
     "data": {
      "text/html": [
       "<div>\n",
       "<style scoped>\n",
       "    .dataframe tbody tr th:only-of-type {\n",
       "        vertical-align: middle;\n",
       "    }\n",
       "\n",
       "    .dataframe tbody tr th {\n",
       "        vertical-align: top;\n",
       "    }\n",
       "\n",
       "    .dataframe thead th {\n",
       "        text-align: right;\n",
       "    }\n",
       "</style>\n",
       "<table border=\"1\" class=\"dataframe\">\n",
       "  <thead>\n",
       "    <tr style=\"text-align: right;\">\n",
       "      <th></th>\n",
       "      <th>price</th>\n",
       "      <th>delivery_time</th>\n",
       "      <th>delay</th>\n",
       "      <th>transfer_time</th>\n",
       "      <th>delivery_impact</th>\n",
       "    </tr>\n",
       "  </thead>\n",
       "  <tbody>\n",
       "    <tr>\n",
       "      <th>count</th>\n",
       "      <td>4227.000000</td>\n",
       "      <td>4227.000000</td>\n",
       "      <td>4227.000000</td>\n",
       "      <td>4227.000000</td>\n",
       "      <td>4227.000000</td>\n",
       "    </tr>\n",
       "    <tr>\n",
       "      <th>mean</th>\n",
       "      <td>141.300473</td>\n",
       "      <td>35.584575</td>\n",
       "      <td>12.511710</td>\n",
       "      <td>2.840785</td>\n",
       "      <td>9.670925</td>\n",
       "    </tr>\n",
       "    <tr>\n",
       "      <th>std</th>\n",
       "      <td>196.760782</td>\n",
       "      <td>15.931114</td>\n",
       "      <td>13.580091</td>\n",
       "      <td>3.196878</td>\n",
       "      <td>13.134883</td>\n",
       "    </tr>\n",
       "    <tr>\n",
       "      <th>min</th>\n",
       "      <td>3.540000</td>\n",
       "      <td>3.000000</td>\n",
       "      <td>1.000000</td>\n",
       "      <td>-1.000000</td>\n",
       "      <td>0.000000</td>\n",
       "    </tr>\n",
       "    <tr>\n",
       "      <th>25%</th>\n",
       "      <td>49.900000</td>\n",
       "      <td>27.000000</td>\n",
       "      <td>5.000000</td>\n",
       "      <td>1.000000</td>\n",
       "      <td>2.000000</td>\n",
       "    </tr>\n",
       "    <tr>\n",
       "      <th>50%</th>\n",
       "      <td>89.990000</td>\n",
       "      <td>33.000000</td>\n",
       "      <td>8.000000</td>\n",
       "      <td>2.000000</td>\n",
       "      <td>6.000000</td>\n",
       "    </tr>\n",
       "    <tr>\n",
       "      <th>75%</th>\n",
       "      <td>155.000000</td>\n",
       "      <td>42.000000</td>\n",
       "      <td>15.000000</td>\n",
       "      <td>4.000000</td>\n",
       "      <td>12.000000</td>\n",
       "    </tr>\n",
       "    <tr>\n",
       "      <th>max</th>\n",
       "      <td>2990.000000</td>\n",
       "      <td>208.000000</td>\n",
       "      <td>188.000000</td>\n",
       "      <td>44.000000</td>\n",
       "      <td>185.000000</td>\n",
       "    </tr>\n",
       "  </tbody>\n",
       "</table>\n",
       "</div>"
      ],
      "text/plain": [
       "             price  delivery_time        delay  transfer_time  delivery_impact\n",
       "count  4227.000000    4227.000000  4227.000000    4227.000000      4227.000000\n",
       "mean    141.300473      35.584575    12.511710       2.840785         9.670925\n",
       "std     196.760782      15.931114    13.580091       3.196878        13.134883\n",
       "min       3.540000       3.000000     1.000000      -1.000000         0.000000\n",
       "25%      49.900000      27.000000     5.000000       1.000000         2.000000\n",
       "50%      89.990000      33.000000     8.000000       2.000000         6.000000\n",
       "75%     155.000000      42.000000    15.000000       4.000000        12.000000\n",
       "max    2990.000000     208.000000   188.000000      44.000000       185.000000"
      ]
     },
     "execution_count": 599,
     "metadata": {},
     "output_type": "execute_result"
    }
   ],
   "source": [
    "good_impact.describe()"
   ]
  },
  {
   "cell_type": "markdown",
   "metadata": {},
   "source": [
    "---------------------------------------------------------------------------------------------------------------"
   ]
  },
  {
   "cell_type": "markdown",
   "metadata": {},
   "source": [
    "Теперь смотрим на общую картину заказов которые пришли во время, либо раньше срока доставки. Чтобы понять их конверсию, и предположить сколько бы заказов могло быть, если бы уменьшили время передачи в доставку"
   ]
  },
  {
   "cell_type": "code",
   "execution_count": 600,
   "metadata": {
    "scrolled": true
   },
   "outputs": [
    {
     "name": "stdout",
     "output_type": "stream",
     "text": [
      "Общее количество заказов прибывших в срок: 79319\n"
     ]
    }
   ],
   "source": [
    "good_delivery = from_June.query('order_status == \"delivered\" and delay <= 0')\n",
    "total_good_delivery = good_delivery.shape[0]\n",
    "total_good_delivery\n",
    "print(f'Общее количество заказов прибывших в срок: {total_good_delivery}')"
   ]
  },
  {
   "cell_type": "code",
   "execution_count": 601,
   "metadata": {},
   "outputs": [
    {
     "name": "stdout",
     "output_type": "stream",
     "text": [
      "Количество уникальных пользователей сделавшие заказ: 77038\n"
     ]
    }
   ],
   "source": [
    "unique_customer_good_delivery = good_delivery['customer_unique_id'].nunique()\n",
    "print(f'Количество уникальных пользователей сделавшие заказ: {unique_customer_good_delivery}')"
   ]
  },
  {
   "cell_type": "code",
   "execution_count": 602,
   "metadata": {},
   "outputs": [
    {
     "data": {
      "text/html": [
       "<div>\n",
       "<style scoped>\n",
       "    .dataframe tbody tr th:only-of-type {\n",
       "        vertical-align: middle;\n",
       "    }\n",
       "\n",
       "    .dataframe tbody tr th {\n",
       "        vertical-align: top;\n",
       "    }\n",
       "\n",
       "    .dataframe thead th {\n",
       "        text-align: right;\n",
       "    }\n",
       "</style>\n",
       "<table border=\"1\" class=\"dataframe\">\n",
       "  <thead>\n",
       "    <tr style=\"text-align: right;\">\n",
       "      <th></th>\n",
       "      <th>order_count</th>\n",
       "      <th>user_count</th>\n",
       "      <th>conversion_rate</th>\n",
       "      <th>orders_sum</th>\n",
       "    </tr>\n",
       "  </thead>\n",
       "  <tbody>\n",
       "    <tr>\n",
       "      <th>0</th>\n",
       "      <td>1</td>\n",
       "      <td>74975</td>\n",
       "      <td>0.973221</td>\n",
       "      <td>74975</td>\n",
       "    </tr>\n",
       "    <tr>\n",
       "      <th>1</th>\n",
       "      <td>2</td>\n",
       "      <td>1914</td>\n",
       "      <td>0.024845</td>\n",
       "      <td>3828</td>\n",
       "    </tr>\n",
       "    <tr>\n",
       "      <th>2</th>\n",
       "      <td>3</td>\n",
       "      <td>113</td>\n",
       "      <td>0.001467</td>\n",
       "      <td>339</td>\n",
       "    </tr>\n",
       "    <tr>\n",
       "      <th>3</th>\n",
       "      <td>4</td>\n",
       "      <td>22</td>\n",
       "      <td>0.000286</td>\n",
       "      <td>88</td>\n",
       "    </tr>\n",
       "    <tr>\n",
       "      <th>4</th>\n",
       "      <td>5</td>\n",
       "      <td>8</td>\n",
       "      <td>0.000104</td>\n",
       "      <td>40</td>\n",
       "    </tr>\n",
       "    <tr>\n",
       "      <th>5</th>\n",
       "      <td>6</td>\n",
       "      <td>2</td>\n",
       "      <td>0.000026</td>\n",
       "      <td>12</td>\n",
       "    </tr>\n",
       "    <tr>\n",
       "      <th>6</th>\n",
       "      <td>7</td>\n",
       "      <td>2</td>\n",
       "      <td>0.000026</td>\n",
       "      <td>14</td>\n",
       "    </tr>\n",
       "    <tr>\n",
       "      <th>7</th>\n",
       "      <td>8</td>\n",
       "      <td>1</td>\n",
       "      <td>0.000013</td>\n",
       "      <td>8</td>\n",
       "    </tr>\n",
       "    <tr>\n",
       "      <th>8</th>\n",
       "      <td>15</td>\n",
       "      <td>1</td>\n",
       "      <td>0.000013</td>\n",
       "      <td>15</td>\n",
       "    </tr>\n",
       "  </tbody>\n",
       "</table>\n",
       "</div>"
      ],
      "text/plain": [
       "   order_count  user_count  conversion_rate  orders_sum\n",
       "0            1       74975         0.973221       74975\n",
       "1            2        1914         0.024845        3828\n",
       "2            3         113         0.001467         339\n",
       "3            4          22         0.000286          88\n",
       "4            5           8         0.000104          40\n",
       "5            6           2         0.000026          12\n",
       "6            7           2         0.000026          14\n",
       "7            8           1         0.000013           8\n",
       "8           15           1         0.000013          15"
      ]
     },
     "execution_count": 602,
     "metadata": {},
     "output_type": "execute_result"
    }
   ],
   "source": [
    "good_delivery_user_counts = good_delivery.groupby('customer_unique_id').size().reset_index(name='order_count')\n",
    "good_delivery_conversion_data = good_delivery_user_counts.groupby('order_count').size().reset_index(name='user_count')\n",
    "good_delivery_conversion_data['conversion_rate'] = good_delivery_conversion_data['user_count'] / unique_customer_good_delivery\n",
    "good_delivery_conversion_data['orders_sum'] = good_delivery_conversion_data['order_count'] * good_delivery_conversion_data['user_count']\n",
    "good_delivery_conversion_data"
   ]
  },
  {
   "cell_type": "code",
   "execution_count": 603,
   "metadata": {},
   "outputs": [
    {
     "data": {
      "text/plain": [
       "order_count           51.0\n",
       "user_count         77038.0\n",
       "conversion_rate        1.0\n",
       "orders_sum         79319.0\n",
       "dtype: float64"
      ]
     },
     "execution_count": 603,
     "metadata": {},
     "output_type": "execute_result"
    }
   ],
   "source": [
    "good_delivery_conversion_data.sum()"
   ]
  },
  {
   "cell_type": "code",
   "execution_count": 604,
   "metadata": {},
   "outputs": [
    {
     "data": {
      "text/plain": [
       "order_count          50.000000\n",
       "user_count         2063.000000\n",
       "conversion_rate       0.026779\n",
       "orders_sum         4344.000000\n",
       "dtype: float64"
      ]
     },
     "execution_count": 604,
     "metadata": {},
     "output_type": "execute_result"
    }
   ],
   "source": [
    "good_delivery_two_plus = good_delivery_conversion_data.query('order_count > 1').sum()\n",
    "good_delivery_two_plus"
   ]
  },
  {
   "cell_type": "code",
   "execution_count": 605,
   "metadata": {
    "scrolled": true
   },
   "outputs": [
    {
     "name": "stdout",
     "output_type": "stream",
     "text": [
      "Заказы сделали 79319.0 заказов пришли в срок. В этих заказах 2063.0 пользователя совершили заказы ещё.\n",
      "При этом конверсия в последующие заказы у всех разная\n"
     ]
    }
   ],
   "source": [
    "print(f'Заказы сделали {good_delivery_conversion_data.sum().orders_sum} заказов пришли в срок. В этих заказах {good_delivery_two_plus.user_count} пользователя совершили заказы ещё.')\n",
    "print(f'При этом конверсия в последующие заказы у всех разная')"
   ]
  },
  {
   "cell_type": "code",
   "execution_count": 606,
   "metadata": {
    "scrolled": true
   },
   "outputs": [
    {
     "data": {
      "text/html": [
       "<div>\n",
       "<style scoped>\n",
       "    .dataframe tbody tr th:only-of-type {\n",
       "        vertical-align: middle;\n",
       "    }\n",
       "\n",
       "    .dataframe tbody tr th {\n",
       "        vertical-align: top;\n",
       "    }\n",
       "\n",
       "    .dataframe thead th {\n",
       "        text-align: right;\n",
       "    }\n",
       "</style>\n",
       "<table border=\"1\" class=\"dataframe\">\n",
       "  <thead>\n",
       "    <tr style=\"text-align: right;\">\n",
       "      <th></th>\n",
       "      <th>price</th>\n",
       "      <th>delivery_time</th>\n",
       "      <th>delay</th>\n",
       "      <th>transfer_time</th>\n",
       "      <th>delivery_impact</th>\n",
       "    </tr>\n",
       "  </thead>\n",
       "  <tbody>\n",
       "    <tr>\n",
       "      <th>count</th>\n",
       "      <td>79319.000000</td>\n",
       "      <td>79319.000000</td>\n",
       "      <td>79319.000000</td>\n",
       "      <td>79319.000000</td>\n",
       "      <td>79319.000000</td>\n",
       "    </tr>\n",
       "    <tr>\n",
       "      <th>mean</th>\n",
       "      <td>135.244991</td>\n",
       "      <td>10.454885</td>\n",
       "      <td>-13.064940</td>\n",
       "      <td>2.493287</td>\n",
       "      <td>-15.558227</td>\n",
       "    </tr>\n",
       "    <tr>\n",
       "      <th>std</th>\n",
       "      <td>201.686763</td>\n",
       "      <td>6.322071</td>\n",
       "      <td>7.158163</td>\n",
       "      <td>2.916585</td>\n",
       "      <td>7.385521</td>\n",
       "    </tr>\n",
       "    <tr>\n",
       "      <th>min</th>\n",
       "      <td>0.850000</td>\n",
       "      <td>0.000000</td>\n",
       "      <td>-147.000000</td>\n",
       "      <td>-172.000000</td>\n",
       "      <td>-148.000000</td>\n",
       "    </tr>\n",
       "    <tr>\n",
       "      <th>25%</th>\n",
       "      <td>45.900000</td>\n",
       "      <td>6.000000</td>\n",
       "      <td>-17.000000</td>\n",
       "      <td>1.000000</td>\n",
       "      <td>-19.000000</td>\n",
       "    </tr>\n",
       "    <tr>\n",
       "      <th>50%</th>\n",
       "      <td>85.500000</td>\n",
       "      <td>9.000000</td>\n",
       "      <td>-13.000000</td>\n",
       "      <td>2.000000</td>\n",
       "      <td>-15.000000</td>\n",
       "    </tr>\n",
       "    <tr>\n",
       "      <th>75%</th>\n",
       "      <td>149.900000</td>\n",
       "      <td>14.000000</td>\n",
       "      <td>-8.000000</td>\n",
       "      <td>3.000000</td>\n",
       "      <td>-11.000000</td>\n",
       "    </tr>\n",
       "    <tr>\n",
       "      <th>max</th>\n",
       "      <td>13440.000000</td>\n",
       "      <td>63.000000</td>\n",
       "      <td>0.000000</td>\n",
       "      <td>46.000000</td>\n",
       "      <td>157.000000</td>\n",
       "    </tr>\n",
       "  </tbody>\n",
       "</table>\n",
       "</div>"
      ],
      "text/plain": [
       "              price  delivery_time         delay  transfer_time  \\\n",
       "count  79319.000000   79319.000000  79319.000000   79319.000000   \n",
       "mean     135.244991      10.454885    -13.064940       2.493287   \n",
       "std      201.686763       6.322071      7.158163       2.916585   \n",
       "min        0.850000       0.000000   -147.000000    -172.000000   \n",
       "25%       45.900000       6.000000    -17.000000       1.000000   \n",
       "50%       85.500000       9.000000    -13.000000       2.000000   \n",
       "75%      149.900000      14.000000     -8.000000       3.000000   \n",
       "max    13440.000000      63.000000      0.000000      46.000000   \n",
       "\n",
       "       delivery_impact  \n",
       "count     79319.000000  \n",
       "mean        -15.558227  \n",
       "std           7.385521  \n",
       "min        -148.000000  \n",
       "25%         -19.000000  \n",
       "50%         -15.000000  \n",
       "75%         -11.000000  \n",
       "max         157.000000  "
      ]
     },
     "execution_count": 606,
     "metadata": {},
     "output_type": "execute_result"
    }
   ],
   "source": [
    "good_delivery.describe()"
   ]
  },
  {
   "cell_type": "markdown",
   "metadata": {},
   "source": [
    "Далее мы берем только тех пользователей у которых время передачи в отгрузку (сборка заказа) плохо повлияло на срок доставки, и умножим на конверсию в повторный заказ и следующие заказы тех у кого пришло всё вовремя. "
   ]
  },
  {
   "cell_type": "code",
   "execution_count": 607,
   "metadata": {},
   "outputs": [
    {
     "data": {
      "text/html": [
       "<div>\n",
       "<style scoped>\n",
       "    .dataframe tbody tr th:only-of-type {\n",
       "        vertical-align: middle;\n",
       "    }\n",
       "\n",
       "    .dataframe tbody tr th {\n",
       "        vertical-align: top;\n",
       "    }\n",
       "\n",
       "    .dataframe thead th {\n",
       "        text-align: right;\n",
       "    }\n",
       "</style>\n",
       "<table border=\"1\" class=\"dataframe\">\n",
       "  <thead>\n",
       "    <tr style=\"text-align: right;\">\n",
       "      <th></th>\n",
       "      <th>order_count</th>\n",
       "      <th>user_count</th>\n",
       "      <th>conversion_rate</th>\n",
       "      <th>orders_sum</th>\n",
       "      <th>count_bad_impact</th>\n",
       "      <th>potential_users_by_conv</th>\n",
       "      <th>potential_orders</th>\n",
       "      <th>only_second_plus_orders</th>\n",
       "    </tr>\n",
       "  </thead>\n",
       "  <tbody>\n",
       "    <tr>\n",
       "      <th>0</th>\n",
       "      <td>1</td>\n",
       "      <td>74975</td>\n",
       "      <td>0.973221</td>\n",
       "      <td>74975</td>\n",
       "      <td>1857</td>\n",
       "      <td>1807.271412</td>\n",
       "      <td>1807.271412</td>\n",
       "      <td>0.000000</td>\n",
       "    </tr>\n",
       "    <tr>\n",
       "      <th>1</th>\n",
       "      <td>2</td>\n",
       "      <td>1914</td>\n",
       "      <td>0.024845</td>\n",
       "      <td>3828</td>\n",
       "      <td>1857</td>\n",
       "      <td>46.136945</td>\n",
       "      <td>92.273891</td>\n",
       "      <td>46.136945</td>\n",
       "    </tr>\n",
       "    <tr>\n",
       "      <th>2</th>\n",
       "      <td>3</td>\n",
       "      <td>113</td>\n",
       "      <td>0.001467</td>\n",
       "      <td>339</td>\n",
       "      <td>1857</td>\n",
       "      <td>2.723864</td>\n",
       "      <td>8.171591</td>\n",
       "      <td>5.447727</td>\n",
       "    </tr>\n",
       "    <tr>\n",
       "      <th>3</th>\n",
       "      <td>4</td>\n",
       "      <td>22</td>\n",
       "      <td>0.000286</td>\n",
       "      <td>88</td>\n",
       "      <td>1857</td>\n",
       "      <td>0.530310</td>\n",
       "      <td>2.121239</td>\n",
       "      <td>1.590929</td>\n",
       "    </tr>\n",
       "    <tr>\n",
       "      <th>4</th>\n",
       "      <td>5</td>\n",
       "      <td>8</td>\n",
       "      <td>0.000104</td>\n",
       "      <td>40</td>\n",
       "      <td>1857</td>\n",
       "      <td>0.192840</td>\n",
       "      <td>0.964199</td>\n",
       "      <td>0.771360</td>\n",
       "    </tr>\n",
       "    <tr>\n",
       "      <th>5</th>\n",
       "      <td>6</td>\n",
       "      <td>2</td>\n",
       "      <td>0.000026</td>\n",
       "      <td>12</td>\n",
       "      <td>1857</td>\n",
       "      <td>0.048210</td>\n",
       "      <td>0.289260</td>\n",
       "      <td>0.241050</td>\n",
       "    </tr>\n",
       "    <tr>\n",
       "      <th>6</th>\n",
       "      <td>7</td>\n",
       "      <td>2</td>\n",
       "      <td>0.000026</td>\n",
       "      <td>14</td>\n",
       "      <td>1857</td>\n",
       "      <td>0.048210</td>\n",
       "      <td>0.337470</td>\n",
       "      <td>0.289260</td>\n",
       "    </tr>\n",
       "    <tr>\n",
       "      <th>7</th>\n",
       "      <td>8</td>\n",
       "      <td>1</td>\n",
       "      <td>0.000013</td>\n",
       "      <td>8</td>\n",
       "      <td>1857</td>\n",
       "      <td>0.024105</td>\n",
       "      <td>0.192840</td>\n",
       "      <td>0.168735</td>\n",
       "    </tr>\n",
       "    <tr>\n",
       "      <th>8</th>\n",
       "      <td>15</td>\n",
       "      <td>1</td>\n",
       "      <td>0.000013</td>\n",
       "      <td>15</td>\n",
       "      <td>1857</td>\n",
       "      <td>0.024105</td>\n",
       "      <td>0.361575</td>\n",
       "      <td>0.337470</td>\n",
       "    </tr>\n",
       "  </tbody>\n",
       "</table>\n",
       "</div>"
      ],
      "text/plain": [
       "   order_count  user_count  conversion_rate  orders_sum  count_bad_impact  \\\n",
       "0            1       74975         0.973221       74975              1857   \n",
       "1            2        1914         0.024845        3828              1857   \n",
       "2            3         113         0.001467         339              1857   \n",
       "3            4          22         0.000286          88              1857   \n",
       "4            5           8         0.000104          40              1857   \n",
       "5            6           2         0.000026          12              1857   \n",
       "6            7           2         0.000026          14              1857   \n",
       "7            8           1         0.000013           8              1857   \n",
       "8           15           1         0.000013          15              1857   \n",
       "\n",
       "   potential_users_by_conv  potential_orders  only_second_plus_orders  \n",
       "0              1807.271412       1807.271412                 0.000000  \n",
       "1                46.136945         92.273891                46.136945  \n",
       "2                 2.723864          8.171591                 5.447727  \n",
       "3                 0.530310          2.121239                 1.590929  \n",
       "4                 0.192840          0.964199                 0.771360  \n",
       "5                 0.048210          0.289260                 0.241050  \n",
       "6                 0.048210          0.337470                 0.289260  \n",
       "7                 0.024105          0.192840                 0.168735  \n",
       "8                 0.024105          0.361575                 0.337470  "
      ]
     },
     "execution_count": 607,
     "metadata": {},
     "output_type": "execute_result"
    }
   ],
   "source": [
    "good_delivery_conversion_data['count_bad_impact'] = unique_customer_bad_impact\n",
    "good_delivery_conversion_data['potential_users_by_conv'] = good_delivery_conversion_data['conversion_rate'] * good_delivery_conversion_data['count_bad_impact']\n",
    "good_delivery_conversion_data['potential_orders'] = good_delivery_conversion_data['potential_users_by_conv']*good_delivery_conversion_data['order_count']\n",
    "good_delivery_conversion_data['only_second_plus_orders'] = good_delivery_conversion_data['potential_orders']-good_delivery_conversion_data['potential_users_by_conv']\n",
    "good_delivery_conversion_data"
   ]
  },
  {
   "cell_type": "code",
   "execution_count": 608,
   "metadata": {},
   "outputs": [
    {
     "data": {
      "text/plain": [
       "order_count                   51.000000\n",
       "user_count                 77038.000000\n",
       "conversion_rate                1.000000\n",
       "orders_sum                 79319.000000\n",
       "count_bad_impact           16713.000000\n",
       "potential_users_by_conv     1857.000000\n",
       "potential_orders            1911.983476\n",
       "only_second_plus_orders       54.983476\n",
       "dtype: float64"
      ]
     },
     "execution_count": 608,
     "metadata": {},
     "output_type": "execute_result"
    }
   ],
   "source": [
    "good_delivery_conversion_data.sum()"
   ]
  },
  {
   "cell_type": "code",
   "execution_count": 609,
   "metadata": {},
   "outputs": [],
   "source": [
    "conclusion_2 = round(good_delivery_conversion_data.sum().only_second_plus_orders)"
   ]
  },
  {
   "cell_type": "code",
   "execution_count": 610,
   "metadata": {},
   "outputs": [
    {
     "name": "stdout",
     "output_type": "stream",
     "text": [
      "Получаем 55 дополнительных повторных заказов\n"
     ]
    }
   ],
   "source": [
    "print(f'Получаем {conclusion_2} дополнительных повторных заказов')"
   ]
  },
  {
   "cell_type": "code",
   "execution_count": 611,
   "metadata": {},
   "outputs": [
    {
     "name": "stdout",
     "output_type": "stream",
     "text": [
      "Импакт первой гипотезы равен 2, ICE 80\n"
     ]
    }
   ],
   "source": [
    "ice2 = impact(conclusion_2) * confidence2 * ease2\n",
    "print(f'Импакт первой гипотезы равен {impact(conclusion_2)}, ICE {ice2}')"
   ]
  },
  {
   "cell_type": "markdown",
   "metadata": {},
   "source": [
    "------------------------------------------------------------------------------------------------------------------------------------------------------------------------------------------------------------------------------------------------------------------------------------------\n",
    "-----------------------------------------------------------------------------------------------------------------------------------------"
   ]
  },
  {
   "cell_type": "markdown",
   "metadata": {},
   "source": [
    "# **Гипотеза 3**\n",
    "\n",
    "Если создадим новый способ оплаты, который будет конвертировать клиентов в повторный заказ, то клиенты не будут испытывать трудности при оформлении заказа, вследствие чего количество заказов увеличится за счёт повторных заказов."
   ]
  },
  {
   "cell_type": "code",
   "execution_count": 612,
   "metadata": {},
   "outputs": [
    {
     "data": {
      "text/plain": [
       "delivered      85413\n",
       "shipped          912\n",
       "canceled         499\n",
       "unavailable      475\n",
       "invoiced         240\n",
       "processing       202\n",
       "created            5\n",
       "Name: order_status, dtype: int64"
      ]
     },
     "execution_count": 612,
     "metadata": {},
     "output_type": "execute_result"
    }
   ],
   "source": [
    "from_June['time_for_approve'] = (from_June['order_approved_at'] - from_June['order_purchase_timestamp']).dt.days\n",
    "from_June.order_status.value_counts()"
   ]
  },
  {
   "cell_type": "markdown",
   "metadata": {},
   "source": [
    "Будем считать что сутки на подтверждение оплаты это уже много"
   ]
  },
  {
   "cell_type": "code",
   "execution_count": 613,
   "metadata": {},
   "outputs": [],
   "source": [
    "long_approve = from_June.query('time_for_approve>=1 and order_status in (\"delivered\", \"shipped\", \"invoiced\", \"processing\")').fillna(0)\n",
    "fast_approve = from_June.query('time_for_approve<1 and order_status in (\"delivered\", \"shipped\", \"invoiced\", \"processing\")').fillna(0)"
   ]
  },
  {
   "cell_type": "code",
   "execution_count": 614,
   "metadata": {},
   "outputs": [],
   "source": [
    "unique_customer_long_approve = long_approve['customer_unique_id'].nunique()"
   ]
  },
  {
   "cell_type": "code",
   "execution_count": 615,
   "metadata": {},
   "outputs": [
    {
     "data": {
      "text/html": [
       "<div>\n",
       "<style scoped>\n",
       "    .dataframe tbody tr th:only-of-type {\n",
       "        vertical-align: middle;\n",
       "    }\n",
       "\n",
       "    .dataframe tbody tr th {\n",
       "        vertical-align: top;\n",
       "    }\n",
       "\n",
       "    .dataframe thead th {\n",
       "        text-align: right;\n",
       "    }\n",
       "</style>\n",
       "<table border=\"1\" class=\"dataframe\">\n",
       "  <thead>\n",
       "    <tr style=\"text-align: right;\">\n",
       "      <th></th>\n",
       "      <th>order_count</th>\n",
       "      <th>user_count</th>\n",
       "      <th>conversion_rate</th>\n",
       "      <th>orders_sum</th>\n",
       "    </tr>\n",
       "  </thead>\n",
       "  <tbody>\n",
       "    <tr>\n",
       "      <th>0</th>\n",
       "      <td>1</td>\n",
       "      <td>14578</td>\n",
       "      <td>0.983074</td>\n",
       "      <td>14578</td>\n",
       "    </tr>\n",
       "    <tr>\n",
       "      <th>1</th>\n",
       "      <td>2</td>\n",
       "      <td>239</td>\n",
       "      <td>0.016117</td>\n",
       "      <td>478</td>\n",
       "    </tr>\n",
       "    <tr>\n",
       "      <th>2</th>\n",
       "      <td>3</td>\n",
       "      <td>12</td>\n",
       "      <td>0.000809</td>\n",
       "      <td>36</td>\n",
       "    </tr>\n",
       "  </tbody>\n",
       "</table>\n",
       "</div>"
      ],
      "text/plain": [
       "   order_count  user_count  conversion_rate  orders_sum\n",
       "0            1       14578         0.983074       14578\n",
       "1            2         239         0.016117         478\n",
       "2            3          12         0.000809          36"
      ]
     },
     "execution_count": 615,
     "metadata": {},
     "output_type": "execute_result"
    }
   ],
   "source": [
    "long_approve_user_counts = long_approve.groupby('customer_unique_id').size().reset_index(name='order_count')\n",
    "long_approve_conversion_data = long_approve_user_counts.groupby('order_count').size().reset_index(name='user_count')\n",
    "long_approve_conversion_data['conversion_rate'] = long_approve_conversion_data['user_count'] / unique_customer_long_approve\n",
    "long_approve_conversion_data['orders_sum'] = long_approve_conversion_data['order_count'] * long_approve_conversion_data['user_count']\n",
    "long_approve_conversion_data"
   ]
  },
  {
   "cell_type": "code",
   "execution_count": 616,
   "metadata": {},
   "outputs": [
    {
     "data": {
      "text/plain": [
       "order_count            6.0\n",
       "user_count         14829.0\n",
       "conversion_rate        1.0\n",
       "orders_sum         15092.0\n",
       "dtype: float64"
      ]
     },
     "execution_count": 616,
     "metadata": {},
     "output_type": "execute_result"
    }
   ],
   "source": [
    "long_approve_conversion_data.sum()"
   ]
  },
  {
   "cell_type": "code",
   "execution_count": 617,
   "metadata": {},
   "outputs": [
    {
     "name": "stdout",
     "output_type": "stream",
     "text": [
      "С долгим подтверждением оплаты у нас было 15092.0 заказа\n"
     ]
    }
   ],
   "source": [
    "print(f'С долгим подтверждением оплаты у нас было {long_approve_conversion_data.sum().orders_sum} заказа')"
   ]
  },
  {
   "cell_type": "markdown",
   "metadata": {},
   "source": [
    "**------------------------------------------------------------------------------------------------------------------------**"
   ]
  },
  {
   "cell_type": "markdown",
   "metadata": {},
   "source": [
    "Смотрим на тех у кого быстро подтвердилась оплата"
   ]
  },
  {
   "cell_type": "code",
   "execution_count": 618,
   "metadata": {},
   "outputs": [],
   "source": [
    "unique_customer_fast_approve = fast_approve['customer_unique_id'].nunique()"
   ]
  },
  {
   "cell_type": "code",
   "execution_count": 619,
   "metadata": {},
   "outputs": [
    {
     "data": {
      "text/html": [
       "<div>\n",
       "<style scoped>\n",
       "    .dataframe tbody tr th:only-of-type {\n",
       "        vertical-align: middle;\n",
       "    }\n",
       "\n",
       "    .dataframe tbody tr th {\n",
       "        vertical-align: top;\n",
       "    }\n",
       "\n",
       "    .dataframe thead th {\n",
       "        text-align: right;\n",
       "    }\n",
       "</style>\n",
       "<table border=\"1\" class=\"dataframe\">\n",
       "  <thead>\n",
       "    <tr style=\"text-align: right;\">\n",
       "      <th></th>\n",
       "      <th>order_count</th>\n",
       "      <th>user_count</th>\n",
       "      <th>conversion_rate</th>\n",
       "      <th>orders_sum</th>\n",
       "    </tr>\n",
       "  </thead>\n",
       "  <tbody>\n",
       "    <tr>\n",
       "      <th>0</th>\n",
       "      <td>1</td>\n",
       "      <td>67856</td>\n",
       "      <td>0.973935</td>\n",
       "      <td>67856</td>\n",
       "    </tr>\n",
       "    <tr>\n",
       "      <th>1</th>\n",
       "      <td>2</td>\n",
       "      <td>1691</td>\n",
       "      <td>0.024271</td>\n",
       "      <td>3382</td>\n",
       "    </tr>\n",
       "    <tr>\n",
       "      <th>2</th>\n",
       "      <td>3</td>\n",
       "      <td>95</td>\n",
       "      <td>0.001364</td>\n",
       "      <td>285</td>\n",
       "    </tr>\n",
       "    <tr>\n",
       "      <th>3</th>\n",
       "      <td>4</td>\n",
       "      <td>17</td>\n",
       "      <td>0.000244</td>\n",
       "      <td>68</td>\n",
       "    </tr>\n",
       "    <tr>\n",
       "      <th>4</th>\n",
       "      <td>5</td>\n",
       "      <td>8</td>\n",
       "      <td>0.000115</td>\n",
       "      <td>40</td>\n",
       "    </tr>\n",
       "    <tr>\n",
       "      <th>5</th>\n",
       "      <td>7</td>\n",
       "      <td>3</td>\n",
       "      <td>0.000043</td>\n",
       "      <td>21</td>\n",
       "    </tr>\n",
       "    <tr>\n",
       "      <th>6</th>\n",
       "      <td>8</td>\n",
       "      <td>1</td>\n",
       "      <td>0.000014</td>\n",
       "      <td>8</td>\n",
       "    </tr>\n",
       "    <tr>\n",
       "      <th>7</th>\n",
       "      <td>15</td>\n",
       "      <td>1</td>\n",
       "      <td>0.000014</td>\n",
       "      <td>15</td>\n",
       "    </tr>\n",
       "  </tbody>\n",
       "</table>\n",
       "</div>"
      ],
      "text/plain": [
       "   order_count  user_count  conversion_rate  orders_sum\n",
       "0            1       67856         0.973935       67856\n",
       "1            2        1691         0.024271        3382\n",
       "2            3          95         0.001364         285\n",
       "3            4          17         0.000244          68\n",
       "4            5           8         0.000115          40\n",
       "5            7           3         0.000043          21\n",
       "6            8           1         0.000014           8\n",
       "7           15           1         0.000014          15"
      ]
     },
     "execution_count": 619,
     "metadata": {},
     "output_type": "execute_result"
    }
   ],
   "source": [
    "fast_approve_user_counts = fast_approve.groupby('customer_unique_id').size().reset_index(name='order_count')\n",
    "fast_approve_conversion_data = fast_approve_user_counts.groupby('order_count').size().reset_index(name='user_count')\n",
    "fast_approve_conversion_data['conversion_rate'] = fast_approve_conversion_data['user_count'] / unique_customer_fast_approve\n",
    "fast_approve_conversion_data['orders_sum'] = fast_approve_conversion_data['order_count'] * fast_approve_conversion_data['user_count']\n",
    "fast_approve_conversion_data"
   ]
  },
  {
   "cell_type": "code",
   "execution_count": 620,
   "metadata": {},
   "outputs": [
    {
     "data": {
      "text/plain": [
       "order_count           45.0\n",
       "user_count         69672.0\n",
       "conversion_rate        1.0\n",
       "orders_sum         71675.0\n",
       "dtype: float64"
      ]
     },
     "execution_count": 620,
     "metadata": {},
     "output_type": "execute_result"
    }
   ],
   "source": [
    "fast_approve_conversion_data.sum()"
   ]
  },
  {
   "cell_type": "code",
   "execution_count": 621,
   "metadata": {},
   "outputs": [
    {
     "name": "stdout",
     "output_type": "stream",
     "text": [
      "С долгим подтверждением оплаты у нас было 71675.0 заказа\n"
     ]
    }
   ],
   "source": [
    "print(f'С долгим подтверждением оплаты у нас было {fast_approve_conversion_data.sum().orders_sum} заказа')"
   ]
  },
  {
   "cell_type": "markdown",
   "metadata": {},
   "source": [
    "**------------------------------------------------------------------------------------------------------------------------**"
   ]
  },
  {
   "cell_type": "markdown",
   "metadata": {},
   "source": [
    "Теперь мы берем только тех пользователей которые не вернулись к нам из-за долгого подтверждения оплаты, и умножим на конверсию в повторный заказ и последующий заказ тех у кого оплата прошла быстро. И также посчитаем количество потенциальных повторных заказов"
   ]
  },
  {
   "cell_type": "code",
   "execution_count": 622,
   "metadata": {},
   "outputs": [
    {
     "data": {
      "text/html": [
       "<div>\n",
       "<style scoped>\n",
       "    .dataframe tbody tr th:only-of-type {\n",
       "        vertical-align: middle;\n",
       "    }\n",
       "\n",
       "    .dataframe tbody tr th {\n",
       "        vertical-align: top;\n",
       "    }\n",
       "\n",
       "    .dataframe thead th {\n",
       "        text-align: right;\n",
       "    }\n",
       "</style>\n",
       "<table border=\"1\" class=\"dataframe\">\n",
       "  <thead>\n",
       "    <tr style=\"text-align: right;\">\n",
       "      <th></th>\n",
       "      <th>order_count</th>\n",
       "      <th>user_count</th>\n",
       "      <th>conversion_rate</th>\n",
       "      <th>orders_sum</th>\n",
       "      <th>long_approve</th>\n",
       "      <th>potential_users_by_conv</th>\n",
       "      <th>potential_orders</th>\n",
       "      <th>only_second_plus_orders</th>\n",
       "    </tr>\n",
       "  </thead>\n",
       "  <tbody>\n",
       "    <tr>\n",
       "      <th>0</th>\n",
       "      <td>1</td>\n",
       "      <td>67856</td>\n",
       "      <td>0.973935</td>\n",
       "      <td>67856</td>\n",
       "      <td>14578</td>\n",
       "      <td>14198.024572</td>\n",
       "      <td>14198.024572</td>\n",
       "      <td>0.000000</td>\n",
       "    </tr>\n",
       "    <tr>\n",
       "      <th>1</th>\n",
       "      <td>2</td>\n",
       "      <td>1691</td>\n",
       "      <td>0.024271</td>\n",
       "      <td>3382</td>\n",
       "      <td>14578</td>\n",
       "      <td>353.820731</td>\n",
       "      <td>707.641463</td>\n",
       "      <td>353.820731</td>\n",
       "    </tr>\n",
       "    <tr>\n",
       "      <th>2</th>\n",
       "      <td>3</td>\n",
       "      <td>95</td>\n",
       "      <td>0.001364</td>\n",
       "      <td>285</td>\n",
       "      <td>14578</td>\n",
       "      <td>19.877569</td>\n",
       "      <td>59.632708</td>\n",
       "      <td>39.755138</td>\n",
       "    </tr>\n",
       "    <tr>\n",
       "      <th>3</th>\n",
       "      <td>4</td>\n",
       "      <td>17</td>\n",
       "      <td>0.000244</td>\n",
       "      <td>68</td>\n",
       "      <td>14578</td>\n",
       "      <td>3.557039</td>\n",
       "      <td>14.228155</td>\n",
       "      <td>10.671116</td>\n",
       "    </tr>\n",
       "    <tr>\n",
       "      <th>4</th>\n",
       "      <td>5</td>\n",
       "      <td>8</td>\n",
       "      <td>0.000115</td>\n",
       "      <td>40</td>\n",
       "      <td>14578</td>\n",
       "      <td>1.673901</td>\n",
       "      <td>8.369503</td>\n",
       "      <td>6.695602</td>\n",
       "    </tr>\n",
       "    <tr>\n",
       "      <th>5</th>\n",
       "      <td>7</td>\n",
       "      <td>3</td>\n",
       "      <td>0.000043</td>\n",
       "      <td>21</td>\n",
       "      <td>14578</td>\n",
       "      <td>0.627713</td>\n",
       "      <td>4.393989</td>\n",
       "      <td>3.766276</td>\n",
       "    </tr>\n",
       "    <tr>\n",
       "      <th>6</th>\n",
       "      <td>8</td>\n",
       "      <td>1</td>\n",
       "      <td>0.000014</td>\n",
       "      <td>8</td>\n",
       "      <td>14578</td>\n",
       "      <td>0.209238</td>\n",
       "      <td>1.673901</td>\n",
       "      <td>1.464663</td>\n",
       "    </tr>\n",
       "    <tr>\n",
       "      <th>7</th>\n",
       "      <td>15</td>\n",
       "      <td>1</td>\n",
       "      <td>0.000014</td>\n",
       "      <td>15</td>\n",
       "      <td>14578</td>\n",
       "      <td>0.209238</td>\n",
       "      <td>3.138564</td>\n",
       "      <td>2.929326</td>\n",
       "    </tr>\n",
       "  </tbody>\n",
       "</table>\n",
       "</div>"
      ],
      "text/plain": [
       "   order_count  user_count  conversion_rate  orders_sum  long_approve  \\\n",
       "0            1       67856         0.973935       67856         14578   \n",
       "1            2        1691         0.024271        3382         14578   \n",
       "2            3          95         0.001364         285         14578   \n",
       "3            4          17         0.000244          68         14578   \n",
       "4            5           8         0.000115          40         14578   \n",
       "5            7           3         0.000043          21         14578   \n",
       "6            8           1         0.000014           8         14578   \n",
       "7           15           1         0.000014          15         14578   \n",
       "\n",
       "   potential_users_by_conv  potential_orders  only_second_plus_orders  \n",
       "0             14198.024572      14198.024572                 0.000000  \n",
       "1               353.820731        707.641463               353.820731  \n",
       "2                19.877569         59.632708                39.755138  \n",
       "3                 3.557039         14.228155                10.671116  \n",
       "4                 1.673901          8.369503                 6.695602  \n",
       "5                 0.627713          4.393989                 3.766276  \n",
       "6                 0.209238          1.673901                 1.464663  \n",
       "7                 0.209238          3.138564                 2.929326  "
      ]
     },
     "execution_count": 622,
     "metadata": {},
     "output_type": "execute_result"
    }
   ],
   "source": [
    "fast_approve_conversion_data['long_approve'] = long_approve_conversion_data.user_count[0]\n",
    "fast_approve_conversion_data['potential_users_by_conv'] = fast_approve_conversion_data['conversion_rate'] * fast_approve_conversion_data['long_approve']\n",
    "fast_approve_conversion_data['potential_orders'] = fast_approve_conversion_data['potential_users_by_conv']*fast_approve_conversion_data['order_count']\n",
    "fast_approve_conversion_data['only_second_plus_orders'] = fast_approve_conversion_data['potential_orders']-fast_approve_conversion_data['potential_users_by_conv']\n",
    "fast_approve_conversion_data"
   ]
  },
  {
   "cell_type": "code",
   "execution_count": 623,
   "metadata": {},
   "outputs": [
    {
     "data": {
      "text/plain": [
       "order_count                    45.000000\n",
       "user_count                  69672.000000\n",
       "conversion_rate                 1.000000\n",
       "orders_sum                  71675.000000\n",
       "long_approve               116624.000000\n",
       "potential_users_by_conv     14578.000000\n",
       "potential_orders            14997.102853\n",
       "only_second_plus_orders       419.102853\n",
       "dtype: float64"
      ]
     },
     "execution_count": 623,
     "metadata": {},
     "output_type": "execute_result"
    }
   ],
   "source": [
    "fast_approve_conversion_data.sum()"
   ]
  },
  {
   "cell_type": "code",
   "execution_count": 629,
   "metadata": {},
   "outputs": [],
   "source": [
    "conclusion_3 = round(fast_approve_conversion_data.sum().only_second_plus_orders)"
   ]
  },
  {
   "cell_type": "code",
   "execution_count": 633,
   "metadata": {},
   "outputs": [
    {
     "name": "stdout",
     "output_type": "stream",
     "text": [
      "Получаем 419 дополнительных повторных заказов\n"
     ]
    }
   ],
   "source": [
    "print(f'Получаем {conclusion_3} дополнительных повторных заказов')"
   ]
  },
  {
   "cell_type": "code",
   "execution_count": 634,
   "metadata": {},
   "outputs": [
    {
     "name": "stdout",
     "output_type": "stream",
     "text": [
      "Импакт первой гипотезы равен 4, ICE 180\n"
     ]
    }
   ],
   "source": [
    "ice3 = impact(conclusion_3) * confidence3 * ease3\n",
    "print(f'Импакт первой гипотезы равен {impact(conclusion_3)}, ICE {ice3}')"
   ]
  },
  {
   "cell_type": "markdown",
   "metadata": {},
   "source": [
    "# Вывод по гипотезам"
   ]
  },
  {
   "cell_type": "markdown",
   "metadata": {},
   "source": [
    "**Считаем ICE по гипотезам** "
   ]
  },
  {
   "cell_type": "code",
   "execution_count": 632,
   "metadata": {},
   "outputs": [
    {
     "name": "stdout",
     "output_type": "stream",
     "text": [
      " Гипотеза 1 = 192 баллов\n",
      " Гипотеза 2 = 80 баллов\n",
      " Гипотеза 3 = 180 баллов\n"
     ]
    }
   ],
   "source": [
    "print(f' Гипотеза 1 = {ice1} баллов')\n",
    "print(f' Гипотеза 2 = {ice2} баллов')\n",
    "print(f' Гипотеза 3 = {ice3} баллов')"
   ]
  },
  {
   "cell_type": "markdown",
   "metadata": {},
   "source": [
    "По ICE побеждает 1-я гипотеза, по этому в первую очередь нам нужно исправить баг.\n",
    "\n",
    "Но здесь есть большое НО. 1-я гипотеза повлияет на выручку и количество доставленных заказов, чье увеличение не является первостепенной задачей, так как при иследовании данных, мы обнаружили что проблемой является Retention.\n",
    "\n",
    "По этому, если исправление бага займет короткий промежуток времени, то нам следует его исправить, и сразу приступить к созданию нового способа оплаты, так как эта гипотеза напрямую должна повлиять на Retention. В противном случае, лучше приступить сразу к проверке 3-ей гипотезы."
   ]
  },
  {
   "cell_type": "markdown",
   "metadata": {},
   "source": [
    "# Задача 5. Сформулировать нужные метрики, на которые ваша гипотеза должна повлиять."
   ]
  },
  {
   "cell_type": "markdown",
   "metadata": {},
   "source": [
    "Гипотеза №1 повлияет на выручку. Целевая метрика\n",
    "\n",
    "Прокси метрика - количество заказов\n",
    "\n",
    "Guardrails - Удержание пользователей"
   ]
  },
  {
   "cell_type": "markdown",
   "metadata": {},
   "source": [
    "Теперь для сравнения посмотрим на метрики по третьей гипотезе."
   ]
  },
  {
   "cell_type": "markdown",
   "metadata": {},
   "source": [
    "Гипотеза №3 явно повлияет на Retention, что в приципе нам и нужно, так как его нет. **Это целевая метрика** \n",
    "\n",
    "Количество клиентов вернувшиеся в продукт будет **Прокси метрикой**.\n",
    "\n",
    "Под **Guardrails** метрикой будем считать выручку"
   ]
  },
  {
   "cell_type": "markdown",
   "metadata": {},
   "source": [
    "# Комментарии и общие выводы по проекту"
   ]
  },
  {
   "cell_type": "markdown",
   "metadata": {},
   "source": [
    "**Проблема:** Cтагнирование выручки несколько месяцев подряд. \n",
    "\n",
    "**Действие №1:** Для начала мы развернули месячный Retention, который показал нам серьезную проблему\n",
    "\n",
    "**Действие №2:** Сделали вывод по PMF на основании Retention, обнаружили что его нет, и взглянули на динамику привлекаемости клиентов. Маркетинг у нас работает хорошо, люди хотят приходить в наш продукт.\n",
    "\n",
    "**Действие №3:** Посмотрели на метрики, такие как Выручка, Объем аудитории, Количество заказов, Общая заинтересованность использовать продукт, а также метрики ARPPU и LTV. Если по первым трем мы увидели увеличение из месяца в месяц, то по ARPPU и LTV полная стагнация. Что касается зантересованности использовать продукт повторно, то мы уже по Retention понимали что её нет.\n",
    "\n",
    "**Действие №4:** Разобрали предложенные 3 гипотезы, из которых выяснилось, что для поднятия Retention необходимо создать новый способ оплаты. Но по баллам выйграла первая гипотеза с исправлением бага, которая первостепенно повлияет на выручку.\n",
    "Но также, нужно оптимизировать срок доставки заказа от \"Созданного\" до \"Полученного\", так как здесь тоже есть проблемы.\n",
    "\n",
    "**Действие №5:** Сформировали метрики на которые наши гипотезы должны повлиять.\n",
    "\n",
    "**Общие выводы по итогу исследования:** Вывод напрашивается один - нужно всеми силами поднимать Retention, но и не забывать про другие метрики. Ведь если будет Retention, то все метрики должны подниматся.\n",
    "\n",
    "**Рекомендации по продукту:** Очень быстро исправить баг, и приступить к созданию нового способа оплаты. Также генерировать больше гипотез, и проверять их на влияние. Следить за метриками, поведением пользователей, быстро устранять баги. Также, глобально, инвестировать в CAPEX, а именно строить свои распределительные центры в разных штатах, что увеличит скорость доставки, постоянно модернизировать приложение/веб для заказов. \n",
    "\n",
    "**И отдельно спасибо отделу маркетинга, которые генерируют нам всё больше новых пользователей, и наша выручка идет вверх из-за наплыва новых клиентов. Да, в последние 3 месяца она не растет, но и не упала до критических значений. Но если бы не маркетинг, продукт очень быстро ушел с рынка. И выручки не было бы ни какой** "
   ]
  },
  {
   "cell_type": "code",
   "execution_count": null,
   "metadata": {},
   "outputs": [],
   "source": []
  }
 ],
 "metadata": {
  "kernelspec": {
   "display_name": "Python 3",
   "language": "python",
   "name": "python3"
  },
  "language_info": {
   "codemirror_mode": {
    "name": "ipython",
    "version": 3
   },
   "file_extension": ".py",
   "mimetype": "text/x-python",
   "name": "python",
   "nbconvert_exporter": "python",
   "pygments_lexer": "ipython3",
   "version": "3.7.3"
  }
 },
 "nbformat": 4,
 "nbformat_minor": 4
}
