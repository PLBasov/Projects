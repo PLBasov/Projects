{
 "cells": [
  {
   "cell_type": "code",
   "execution_count": 122,
   "id": "af5726c0-4994-4360-a754-78086b4315bf",
   "metadata": {},
   "outputs": [],
   "source": [
    "import pandahouse as ph\n",
    "import pandas as pd\n",
    "import seaborn as sns\n",
    "import matplotlib.pyplot as plt\n",
    "import numpy as np\n",
    "import hashlib # Делать хеши\n",
    "import swifter # Ускорялка метода apply\n",
    "from scipy import stats # Статистика\n",
    "from scipy.stats import norm, ttest_ind\n",
    "%matplotlib inline\n",
    "\n",
    "#параметры соединения - нужны, чтобы подключиться к нужной схеме данных\n",
    "connection = {'host': 'https://clickhouse.lab.karpov.courses',\n",
    "'database':'simulator_20250420',\n",
    "'user':'student',\n",
    "'password':'dpo_python_2020'\n",
    "}\n",
    "\n",
    "q = \"\"\"\n",
    "SELECT\n",
    "    user_id,\n",
    "    sum(action = 'like') as likes,\n",
    "    sum(action = 'view') as views,\n",
    "    likes/views as ctr\n",
    "FROM {db}.feed_actions \n",
    "WHERE toDate(time) >= '2025-03-21' and toDate(time) <= '2025-03-27'\n",
    "GROUP BY user_id\n",
    "\"\"\"\n",
    "\n",
    "df = ph.read_clickhouse(q, connection=connection)"
   ]
  },
  {
   "cell_type": "code",
   "execution_count": 123,
   "id": "85836029-4288-45c5-bdd4-02f61f961de0",
   "metadata": {},
   "outputs": [
    {
     "data": {
      "text/html": [
       "<div>\n",
       "<style scoped>\n",
       "    .dataframe tbody tr th:only-of-type {\n",
       "        vertical-align: middle;\n",
       "    }\n",
       "\n",
       "    .dataframe tbody tr th {\n",
       "        vertical-align: top;\n",
       "    }\n",
       "\n",
       "    .dataframe thead th {\n",
       "        text-align: right;\n",
       "    }\n",
       "</style>\n",
       "<table border=\"1\" class=\"dataframe\">\n",
       "  <thead>\n",
       "    <tr style=\"text-align: right;\">\n",
       "      <th></th>\n",
       "      <th>user_id</th>\n",
       "      <th>likes</th>\n",
       "      <th>views</th>\n",
       "      <th>ctr</th>\n",
       "    </tr>\n",
       "  </thead>\n",
       "  <tbody>\n",
       "    <tr>\n",
       "      <th>0</th>\n",
       "      <td>13289</td>\n",
       "      <td>2</td>\n",
       "      <td>32</td>\n",
       "      <td>0.062500</td>\n",
       "    </tr>\n",
       "    <tr>\n",
       "      <th>1</th>\n",
       "      <td>121096</td>\n",
       "      <td>12</td>\n",
       "      <td>57</td>\n",
       "      <td>0.210526</td>\n",
       "    </tr>\n",
       "    <tr>\n",
       "      <th>2</th>\n",
       "      <td>5090</td>\n",
       "      <td>2</td>\n",
       "      <td>14</td>\n",
       "      <td>0.142857</td>\n",
       "    </tr>\n",
       "    <tr>\n",
       "      <th>3</th>\n",
       "      <td>129283</td>\n",
       "      <td>23</td>\n",
       "      <td>80</td>\n",
       "      <td>0.287500</td>\n",
       "    </tr>\n",
       "    <tr>\n",
       "      <th>4</th>\n",
       "      <td>4394</td>\n",
       "      <td>25</td>\n",
       "      <td>54</td>\n",
       "      <td>0.462963</td>\n",
       "    </tr>\n",
       "  </tbody>\n",
       "</table>\n",
       "</div>"
      ],
      "text/plain": [
       "   user_id  likes  views       ctr\n",
       "0    13289      2     32  0.062500\n",
       "1   121096     12     57  0.210526\n",
       "2     5090      2     14  0.142857\n",
       "3   129283     23     80  0.287500\n",
       "4     4394     25     54  0.462963"
      ]
     },
     "execution_count": 123,
     "metadata": {},
     "output_type": "execute_result"
    }
   ],
   "source": [
    "df.head()"
   ]
  },
  {
   "cell_type": "code",
   "execution_count": 124,
   "id": "0f1e5a93-9534-41a8-8436-52d1a2f3bd39",
   "metadata": {},
   "outputs": [],
   "source": [
    "def compute_sample_size_abs(epsilon, std1, std2, alpha=0.05, beta=0.2):\n",
    "    t_alpha = norm.ppf(1 - alpha / 2, loc=0, scale=1)\n",
    "    t_beta = norm.ppf(1 - beta, loc=0, scale=1)\n",
    "    z_scores_sum_squared = (t_alpha + t_beta) ** 2\n",
    "    sample_size = int(\n",
    "        np.ceil(\n",
    "            z_scores_sum_squared * (std1 ** 2 + std2 ** 2) / (epsilon ** 2)\n",
    "        )\n",
    "    )\n",
    "    return sample_size"
   ]
  },
  {
   "cell_type": "code",
   "execution_count": 125,
   "id": "f089fb8c-5874-421f-b7d5-af7ac3ccc08d",
   "metadata": {},
   "outputs": [],
   "source": [
    "views_q = \"\"\"\n",
    "select views, count() as users\n",
    "from (select\n",
    "    user_id,\n",
    "    sum(action = 'view') as views\n",
    "from {db}.feed_actions\n",
    "where toDate(time) >= '2025-03-21' and toDate(time) <= '2025-03-27'\n",
    "group by user_id\n",
    ")\n",
    "group by views\n",
    "order by views\n",
    "\"\"\"\n",
    "\n",
    "\n",
    "views_distribution = ph.read_clickhouse(views_q, connection=connection)"
   ]
  },
  {
   "cell_type": "code",
   "execution_count": 126,
   "id": "991a4231-ed1c-45dd-a582-c235a05a044c",
   "metadata": {},
   "outputs": [
    {
     "data": {
      "text/html": [
       "<div>\n",
       "<style scoped>\n",
       "    .dataframe tbody tr th:only-of-type {\n",
       "        vertical-align: middle;\n",
       "    }\n",
       "\n",
       "    .dataframe tbody tr th {\n",
       "        vertical-align: top;\n",
       "    }\n",
       "\n",
       "    .dataframe thead th {\n",
       "        text-align: right;\n",
       "    }\n",
       "</style>\n",
       "<table border=\"1\" class=\"dataframe\">\n",
       "  <thead>\n",
       "    <tr style=\"text-align: right;\">\n",
       "      <th></th>\n",
       "      <th>views</th>\n",
       "      <th>users</th>\n",
       "    </tr>\n",
       "  </thead>\n",
       "  <tbody>\n",
       "    <tr>\n",
       "      <th>0</th>\n",
       "      <td>1</td>\n",
       "      <td>4</td>\n",
       "    </tr>\n",
       "    <tr>\n",
       "      <th>1</th>\n",
       "      <td>2</td>\n",
       "      <td>1</td>\n",
       "    </tr>\n",
       "    <tr>\n",
       "      <th>2</th>\n",
       "      <td>3</td>\n",
       "      <td>4</td>\n",
       "    </tr>\n",
       "    <tr>\n",
       "      <th>3</th>\n",
       "      <td>4</td>\n",
       "      <td>5</td>\n",
       "    </tr>\n",
       "    <tr>\n",
       "      <th>4</th>\n",
       "      <td>5</td>\n",
       "      <td>18</td>\n",
       "    </tr>\n",
       "  </tbody>\n",
       "</table>\n",
       "</div>"
      ],
      "text/plain": [
       "   views  users\n",
       "0      1      4\n",
       "1      2      1\n",
       "2      3      4\n",
       "3      4      5\n",
       "4      5     18"
      ]
     },
     "execution_count": 126,
     "metadata": {},
     "output_type": "execute_result"
    }
   ],
   "source": [
    "views_distribution.head()"
   ]
  },
  {
   "cell_type": "code",
   "execution_count": 127,
   "id": "f0678a55-95ae-42d5-8d94-937ab06e22ba",
   "metadata": {},
   "outputs": [
    {
     "data": {
      "text/plain": [
       "41997"
      ]
     },
     "execution_count": 127,
     "metadata": {},
     "output_type": "execute_result"
    }
   ],
   "source": [
    "views_distribution.users.sum()"
   ]
  },
  {
   "cell_type": "code",
   "execution_count": 128,
   "id": "852296f6-0aa0-4b54-bbc6-5f2f1cf1266e",
   "metadata": {},
   "outputs": [],
   "source": [
    "views_distribution['p'] = views_distribution['users']/views_distribution.users.sum()"
   ]
  },
  {
   "cell_type": "code",
   "execution_count": 129,
   "id": "bf567968-7d41-4432-98e5-47d8d6eccbe8",
   "metadata": {},
   "outputs": [
    {
     "data": {
      "text/html": [
       "<div>\n",
       "<style scoped>\n",
       "    .dataframe tbody tr th:only-of-type {\n",
       "        vertical-align: middle;\n",
       "    }\n",
       "\n",
       "    .dataframe tbody tr th {\n",
       "        vertical-align: top;\n",
       "    }\n",
       "\n",
       "    .dataframe thead th {\n",
       "        text-align: right;\n",
       "    }\n",
       "</style>\n",
       "<table border=\"1\" class=\"dataframe\">\n",
       "  <thead>\n",
       "    <tr style=\"text-align: right;\">\n",
       "      <th></th>\n",
       "      <th>views</th>\n",
       "      <th>users</th>\n",
       "      <th>p</th>\n",
       "    </tr>\n",
       "  </thead>\n",
       "  <tbody>\n",
       "    <tr>\n",
       "      <th>15</th>\n",
       "      <td>16</td>\n",
       "      <td>545</td>\n",
       "      <td>0.012977</td>\n",
       "    </tr>\n",
       "    <tr>\n",
       "      <th>14</th>\n",
       "      <td>15</td>\n",
       "      <td>537</td>\n",
       "      <td>0.012787</td>\n",
       "    </tr>\n",
       "    <tr>\n",
       "      <th>13</th>\n",
       "      <td>14</td>\n",
       "      <td>500</td>\n",
       "      <td>0.011906</td>\n",
       "    </tr>\n",
       "    <tr>\n",
       "      <th>34</th>\n",
       "      <td>35</td>\n",
       "      <td>485</td>\n",
       "      <td>0.011548</td>\n",
       "    </tr>\n",
       "    <tr>\n",
       "      <th>29</th>\n",
       "      <td>30</td>\n",
       "      <td>469</td>\n",
       "      <td>0.011167</td>\n",
       "    </tr>\n",
       "    <tr>\n",
       "      <th>...</th>\n",
       "      <td>...</td>\n",
       "      <td>...</td>\n",
       "      <td>...</td>\n",
       "    </tr>\n",
       "    <tr>\n",
       "      <th>280</th>\n",
       "      <td>287</td>\n",
       "      <td>1</td>\n",
       "      <td>0.000024</td>\n",
       "    </tr>\n",
       "    <tr>\n",
       "      <th>278</th>\n",
       "      <td>285</td>\n",
       "      <td>1</td>\n",
       "      <td>0.000024</td>\n",
       "    </tr>\n",
       "    <tr>\n",
       "      <th>276</th>\n",
       "      <td>280</td>\n",
       "      <td>1</td>\n",
       "      <td>0.000024</td>\n",
       "    </tr>\n",
       "    <tr>\n",
       "      <th>1</th>\n",
       "      <td>2</td>\n",
       "      <td>1</td>\n",
       "      <td>0.000024</td>\n",
       "    </tr>\n",
       "    <tr>\n",
       "      <th>300</th>\n",
       "      <td>370</td>\n",
       "      <td>1</td>\n",
       "      <td>0.000024</td>\n",
       "    </tr>\n",
       "  </tbody>\n",
       "</table>\n",
       "<p>301 rows × 3 columns</p>\n",
       "</div>"
      ],
      "text/plain": [
       "     views  users         p\n",
       "15      16    545  0.012977\n",
       "14      15    537  0.012787\n",
       "13      14    500  0.011906\n",
       "34      35    485  0.011548\n",
       "29      30    469  0.011167\n",
       "..     ...    ...       ...\n",
       "280    287      1  0.000024\n",
       "278    285      1  0.000024\n",
       "276    280      1  0.000024\n",
       "1        2      1  0.000024\n",
       "300    370      1  0.000024\n",
       "\n",
       "[301 rows x 3 columns]"
      ]
     },
     "execution_count": 129,
     "metadata": {},
     "output_type": "execute_result"
    }
   ],
   "source": [
    "views_distribution.sort_values(by = 'p', ascending = False)"
   ]
  },
  {
   "cell_type": "code",
   "execution_count": 130,
   "id": "28a7c4a5-9999-4bcf-a08d-d1c9f9e725e0",
   "metadata": {},
   "outputs": [],
   "source": [
    "views_distr = stats.rv_discrete(name='views_distr', \n",
    "                                values=(views_distribution['views'], \n",
    "                                        views_distribution['p']))"
   ]
  },
  {
   "cell_type": "code",
   "execution_count": 131,
   "id": "ba7d2ac1-975d-42ef-ac14-338d6f92f55f",
   "metadata": {},
   "outputs": [
    {
     "data": {
      "text/plain": [
       "70.30916494035289"
      ]
     },
     "execution_count": 131,
     "metadata": {},
     "output_type": "execute_result"
    }
   ],
   "source": [
    "views_distr.mean()"
   ]
  },
  {
   "cell_type": "code",
   "execution_count": 132,
   "id": "a60a8acf-27b7-46ca-9996-3fdf364221a7",
   "metadata": {},
   "outputs": [
    {
     "data": {
      "text/plain": [
       "60.0"
      ]
     },
     "execution_count": 132,
     "metadata": {},
     "output_type": "execute_result"
    }
   ],
   "source": [
    "views_distr.median()"
   ]
  },
  {
   "cell_type": "code",
   "execution_count": 133,
   "id": "4d2071b8-3eb6-4bdd-82f8-6b8777a67d95",
   "metadata": {},
   "outputs": [
    {
     "data": {
      "text/plain": [
       "46.795649294309676"
      ]
     },
     "execution_count": 133,
     "metadata": {},
     "output_type": "execute_result"
    }
   ],
   "source": [
    "views_distr.std()"
   ]
  },
  {
   "cell_type": "code",
   "execution_count": 134,
   "id": "758d60ab-ae08-49a5-a0ad-16fc5cfa98d8",
   "metadata": {},
   "outputs": [
    {
     "data": {
      "text/plain": [
       "<Axes: ylabel='Count'>"
      ]
     },
     "execution_count": 134,
     "metadata": {},
     "output_type": "execute_result"
    },
    {
     "data": {
      "image/png": "[encoded data removed]",
      "text/plain": [
       "<Figure size 432x288 with 1 Axes>"
      ]
     },
     "metadata": {
      "needs_background": "light"
     },
     "output_type": "display_data"
    }
   ],
   "source": [
    "sns.histplot(views_distr.rvs(size=20000))"
   ]
  },
  {
   "cell_type": "code",
   "execution_count": 135,
   "id": "a18a47db-70cf-49fb-aabe-c5c9fcd69dee",
   "metadata": {},
   "outputs": [],
   "source": [
    "ctr_q = \"\"\"\n",
    "select \n",
    "   floor(ctr, 2) as ctr, count() as users\n",
    "from (select toDate(time) as dt,\n",
    "    user_id,\n",
    "    sum(action = 'like')/sum(action = 'view') as ctr\n",
    "from {db}.feed_actions\n",
    "where toDate(time) >= '2025-03-21' and toDate(time) <= '2025-03-27'\n",
    "group by dt, user_id\n",
    ")\n",
    "group by ctr\n",
    "\"\"\"\n",
    "\n",
    "\n",
    "ctr_distribution = ph.read_clickhouse(ctr_q, connection=connection)\n",
    "ctr_distribution['p'] = ctr_distribution['users']/ctr_distribution.users.sum()"
   ]
  },
  {
   "cell_type": "code",
   "execution_count": 136,
   "id": "1124278d-9fd6-4251-8db4-780897558862",
   "metadata": {},
   "outputs": [
    {
     "data": {
      "text/html": [
       "<div>\n",
       "<style scoped>\n",
       "    .dataframe tbody tr th:only-of-type {\n",
       "        vertical-align: middle;\n",
       "    }\n",
       "\n",
       "    .dataframe tbody tr th {\n",
       "        vertical-align: top;\n",
       "    }\n",
       "\n",
       "    .dataframe thead th {\n",
       "        text-align: right;\n",
       "    }\n",
       "</style>\n",
       "<table border=\"1\" class=\"dataframe\">\n",
       "  <thead>\n",
       "    <tr style=\"text-align: right;\">\n",
       "      <th></th>\n",
       "      <th>ctr</th>\n",
       "      <th>users</th>\n",
       "      <th>p</th>\n",
       "    </tr>\n",
       "  </thead>\n",
       "  <tbody>\n",
       "    <tr>\n",
       "      <th>17</th>\n",
       "      <td>0.20</td>\n",
       "      <td>4993</td>\n",
       "      <td>0.058658</td>\n",
       "    </tr>\n",
       "    <tr>\n",
       "      <th>33</th>\n",
       "      <td>0.16</td>\n",
       "      <td>4233</td>\n",
       "      <td>0.049729</td>\n",
       "    </tr>\n",
       "    <tr>\n",
       "      <th>50</th>\n",
       "      <td>0.25</td>\n",
       "      <td>4216</td>\n",
       "      <td>0.049529</td>\n",
       "    </tr>\n",
       "    <tr>\n",
       "      <th>6</th>\n",
       "      <td>0.18</td>\n",
       "      <td>4213</td>\n",
       "      <td>0.049494</td>\n",
       "    </tr>\n",
       "    <tr>\n",
       "      <th>72</th>\n",
       "      <td>0.21</td>\n",
       "      <td>3957</td>\n",
       "      <td>0.046487</td>\n",
       "    </tr>\n",
       "    <tr>\n",
       "      <th>...</th>\n",
       "      <td>...</td>\n",
       "      <td>...</td>\n",
       "      <td>...</td>\n",
       "    </tr>\n",
       "    <tr>\n",
       "      <th>12</th>\n",
       "      <td>0.81</td>\n",
       "      <td>2</td>\n",
       "      <td>0.000023</td>\n",
       "    </tr>\n",
       "    <tr>\n",
       "      <th>73</th>\n",
       "      <td>0.83</td>\n",
       "      <td>1</td>\n",
       "      <td>0.000012</td>\n",
       "    </tr>\n",
       "    <tr>\n",
       "      <th>20</th>\n",
       "      <td>0.73</td>\n",
       "      <td>1</td>\n",
       "      <td>0.000012</td>\n",
       "    </tr>\n",
       "    <tr>\n",
       "      <th>51</th>\n",
       "      <td>1.00</td>\n",
       "      <td>1</td>\n",
       "      <td>0.000012</td>\n",
       "    </tr>\n",
       "    <tr>\n",
       "      <th>39</th>\n",
       "      <td>0.88</td>\n",
       "      <td>1</td>\n",
       "      <td>0.000012</td>\n",
       "    </tr>\n",
       "  </tbody>\n",
       "</table>\n",
       "<p>80 rows × 3 columns</p>\n",
       "</div>"
      ],
      "text/plain": [
       "     ctr  users         p\n",
       "17  0.20   4993  0.058658\n",
       "33  0.16   4233  0.049729\n",
       "50  0.25   4216  0.049529\n",
       "6   0.18   4213  0.049494\n",
       "72  0.21   3957  0.046487\n",
       "..   ...    ...       ...\n",
       "12  0.81      2  0.000023\n",
       "73  0.83      1  0.000012\n",
       "20  0.73      1  0.000012\n",
       "51  1.00      1  0.000012\n",
       "39  0.88      1  0.000012\n",
       "\n",
       "[80 rows x 3 columns]"
      ]
     },
     "execution_count": 136,
     "metadata": {},
     "output_type": "execute_result"
    }
   ],
   "source": [
    "ctr_distribution.sort_values(by = 'p', ascending = False)"
   ]
  },
  {
   "cell_type": "code",
   "execution_count": 137,
   "id": "7ec57d28-b98e-46a7-8b06-14338a25c935",
   "metadata": {},
   "outputs": [],
   "source": [
    "probabilities = ctr_distribution['p']\n",
    "values = ctr_distribution['ctr']\n",
    "distrib = stats.rv_discrete(values=(range(len(probabilities)), probabilities))\n",
    "\n",
    "def get_ctrs(x, y, distrib, values):\n",
    "    idx = distrib.rvs(size=x*y)\n",
    "    result = values[idx]\n",
    "    return np.array(result).reshape(x,y)"
   ]
  },
  {
   "cell_type": "code",
   "execution_count": 138,
   "id": "3c9145c9-ba30-4b2f-85d2-0a09d835bac9",
   "metadata": {},
   "outputs": [
    {
     "data": {
      "text/plain": [
       "0.21220342999999997"
      ]
     },
     "execution_count": 138,
     "metadata": {},
     "output_type": "execute_result"
    }
   ],
   "source": [
    "get_ctrs(2000, 2000, distrib, values).mean()"
   ]
  },
  {
   "cell_type": "code",
   "execution_count": 139,
   "id": "d1e03e1b-b8f9-480c-b418-51b09f513c82",
   "metadata": {},
   "outputs": [
    {
     "data": {
      "text/plain": [
       "array([[0.2 , 0.19, 0.11, ..., 0.29, 0.17, 0.2 ],\n",
       "       [0.08, 0.21, 0.2 , ..., 0.15, 0.26, 0.17],\n",
       "       [0.12, 0.15, 0.18, ..., 0.28, 0.25, 0.33],\n",
       "       ...,\n",
       "       [0.2 , 0.14, 0.47, ..., 0.23, 0.27, 0.53],\n",
       "       [0.31, 0.19, 0.4 , ..., 0.11, 0.2 , 0.44],\n",
       "       [0.23, 0.33, 0.05, ..., 0.31, 0.2 , 0.09]])"
      ]
     },
     "execution_count": 139,
     "metadata": {},
     "output_type": "execute_result"
    }
   ],
   "source": [
    "get_ctrs(2000, 2000, distrib, values)"
   ]
  },
  {
   "cell_type": "code",
   "execution_count": 140,
   "id": "50aeee3c-f63d-410b-ab41-a93c595453e2",
   "metadata": {},
   "outputs": [
    {
     "data": {
      "text/plain": [
       "0.098445817847325"
      ]
     },
     "execution_count": 140,
     "metadata": {},
     "output_type": "execute_result"
    }
   ],
   "source": [
    "std_q = \"\"\"\n",
    "select \n",
    "   stddevPop(ctr) as ctr_std\n",
    "from (select toDate(time) as dt,\n",
    "    user_id,\n",
    "    sum(action = 'like')/sum(action = 'view') as ctr\n",
    "from {db}.feed_actions\n",
    "where toDate(time) >= '2025-03-21' and toDate(time) <= '2025-03-27'\n",
    "group by dt, user_id\n",
    ")\n",
    "\n",
    "\"\"\"\n",
    "\n",
    "std = ph.read_clickhouse(std_q, connection=connection).values[0][0]\n",
    "std"
   ]
  },
  {
   "cell_type": "code",
   "execution_count": 141,
   "id": "105fe009-eb21-4551-b4db-d47e5c1976b1",
   "metadata": {},
   "outputs": [
    {
     "data": {
      "text/plain": [
       "1522"
      ]
     },
     "execution_count": 141,
     "metadata": {},
     "output_type": "execute_result"
    }
   ],
   "source": [
    "compute_sample_size_abs(0.01, std, std)"
   ]
  },
  {
   "cell_type": "code",
   "execution_count": 165,
   "id": "a46a693f-1abe-4835-9886-c4dad2bcb645",
   "metadata": {},
   "outputs": [],
   "source": [
    "from tqdm import tqdm\n",
    "\n",
    "rng = np.random.default_rng()\n",
    "beta = 0\n",
    "n = (views_distribution.users.sum()+19897) // 2"
   ]
  },
  {
   "cell_type": "code",
   "execution_count": 166,
   "id": "3e4af3f4-0cfd-4dc3-84c4-6be98f54011a",
   "metadata": {},
   "outputs": [
    {
     "name": "stderr",
     "output_type": "stream",
     "text": [
      "100%|██████████| 20000/20000 [06:23<00:00, 52.11it/s]\n"
     ]
    }
   ],
   "source": [
    "for i in tqdm(range(20000)):\n",
    "    views1 = rng.choice(views_distribution.views, size = n, replace = True, p = views_distribution.p).astype(np.int64)\n",
    "    views1 = views1 + ((1 + rng.binomial(1, 0.5, size = n)) * rng.binomial(1, 0.9, size = n) * (views1 >= 30))\n",
    "    views2 = rng.choice(views_distribution.views, size = n, replace = True, p = views_distribution.p).astype(np.int64)\n",
    "    \n",
    "    ctr1 = rng.choice(ctr_distribution.ctr, size = n, replace = True, p = ctr_distribution.p)\n",
    "    ctr2 = rng.choice(ctr_distribution.ctr, size = n, replace = True, p = ctr_distribution.p)\n",
    "    \n",
    "    likes1 = rng.binomial(views1, ctr1)\n",
    "    likes2 = rng.binomial(views2, ctr2)\n",
    "    \n",
    "    beta += (stats.ttest_ind(likes2[views2 >= 30], likes1[views1 >= 30], equal_var = False).pvalue <= 0.05)\n",
    "    result = (beta / 20000) * 100"
   ]
  },
  {
   "cell_type": "code",
   "execution_count": 167,
   "id": "25c0a0a2-bd1f-4cf0-84ba-b9b421b2aaee",
   "metadata": {},
   "outputs": [
    {
     "data": {
      "text/plain": [
       "64.82"
      ]
     },
     "execution_count": 167,
     "metadata": {},
     "output_type": "execute_result"
    }
   ],
   "source": [
    "result"
   ]
  },
  {
   "cell_type": "markdown",
   "id": "e72fa1e5-4907-4500-b3e1-c3902e06e64c",
   "metadata": {},
   "source": [
    "56.41 (Первый результат при выборке (n) 30591)\n",
    "\n",
    "57.08 второй вариант (тоже верный)\n",
    "\n",
    "При применении в ТТесте просмотров >=30 результат - 64.82"
   ]
  },
  {
   "cell_type": "code",
   "execution_count": null,
   "id": "1d10d7c2-f75e-44f3-9dde-7e76dd82e0e6",
   "metadata": {},
   "outputs": [],
   "source": []
  },
  {
   "cell_type": "code",
   "execution_count": null,
   "id": "24eab7c0-a1cd-4334-bcc5-2506561207f7",
   "metadata": {},
   "outputs": [],
   "source": []
  },
  {
   "cell_type": "code",
   "execution_count": null,
   "id": "77928141-e4a9-4cf2-b095-236b5400a0fe",
   "metadata": {},
   "outputs": [],
   "source": []
  },
  {
   "cell_type": "code",
   "execution_count": null,
   "id": "ad7280a7-6eab-4654-b9a4-20a6fd1b5413",
   "metadata": {},
   "outputs": [],
   "source": []
  },
  {
   "cell_type": "code",
   "execution_count": null,
   "id": "92e600cd-2a87-4049-bef3-40ab7d3d7f12",
   "metadata": {},
   "outputs": [],
   "source": []
  },
  {
   "cell_type": "code",
   "execution_count": null,
   "id": "1a6d46c4-bc50-4bcf-8562-2d159291b94c",
   "metadata": {},
   "outputs": [],
   "source": []
  },
  {
   "cell_type": "code",
   "execution_count": null,
   "id": "35960bf3-f346-441f-b72e-96de4441c792",
   "metadata": {},
   "outputs": [],
   "source": []
  },
  {
   "cell_type": "code",
   "execution_count": null,
   "id": "821dcaad-81d1-4cdf-bdd5-770f8758b56d",
   "metadata": {},
   "outputs": [],
   "source": []
  },
  {
   "cell_type": "code",
   "execution_count": null,
   "id": "0446d77c-107e-405c-b317-db7658df0b1d",
   "metadata": {},
   "outputs": [],
   "source": []
  },
  {
   "cell_type": "code",
   "execution_count": null,
   "id": "47300789-7f01-47d0-8234-eee0e42721bc",
   "metadata": {},
   "outputs": [],
   "source": []
  },
  {
   "cell_type": "code",
   "execution_count": null,
   "id": "e3437ea4-1d92-4f39-b802-0182a0386652",
   "metadata": {},
   "outputs": [],
   "source": []
  }
 ],
 "metadata": {
  "kernelspec": {
   "display_name": "Python 3 (ipykernel)",
   "language": "python",
   "name": "python3"
  },
  "language_info": {
   "codemirror_mode": {
    "name": "ipython",
    "version": 3
   },
   "file_extension": ".py",
   "mimetype": "text/x-python",
   "name": "python",
   "nbconvert_exporter": "python",
   "pygments_lexer": "ipython3",
   "version": "3.8.10"
  }
 },
 "nbformat": 4,
 "nbformat_minor": 5
}
